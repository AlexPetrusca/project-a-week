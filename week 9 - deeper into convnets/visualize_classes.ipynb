{
 "cells": [
  {
   "metadata": {
    "ExecuteTime": {
     "end_time": "2025-03-30T22:31:19.567536Z",
     "start_time": "2025-03-30T22:31:18.713118Z"
    }
   },
   "cell_type": "code",
   "source": [
    "from PIL import Image\n",
    "\n",
    "import numpy as np\n",
    "import mlx.core as mx\n",
    "import mlx.nn as nn\n",
    "import matplotlib.pyplot as plt\n",
    "\n",
    "from alpineml import Network\n",
    "from alpineml.Checkpoint import Checkpoint\n",
    "from alpineml.layer.reshape import Flatten\n",
    "from alpineml.layer.shim import MLX\n",
    "from alpineml.optim import SGD\n",
    "from alpineml.function.activation import leaky_relu, softmax\n",
    "from alpineml.function.loss import CrossEntropyLoss, cross_entropy_loss\n",
    "from alpineml.layer.core import Linear, Activation\n",
    "from dataset import get_cifar10\n"
   ],
   "id": "4ce6b84a1acfbb7",
   "outputs": [],
   "execution_count": 1
  },
  {
   "metadata": {
    "ExecuteTime": {
     "end_time": "2025-03-30T22:31:19.580747Z",
     "start_time": "2025-03-30T22:31:19.570405Z"
    }
   },
   "cell_type": "code",
   "source": [
    "# load model from checkpoint\n",
    "network = Network(input_shape=(32, 32, 3))\n",
    "\n",
    "# conv block 1\n",
    "network.add_layer(MLX(nn.Conv2d(in_channels=3, out_channels=96, kernel_size=7)))\n",
    "network.add_layer(Activation(leaky_relu))\n",
    "network.add_layer(MLX(nn.MaxPool2d(2)))\n",
    "# conv block 2\n",
    "network.add_layer(MLX(nn.Conv2d(in_channels=96, out_channels=256, kernel_size=3)))\n",
    "network.add_layer(Activation(leaky_relu))\n",
    "network.add_layer(MLX(nn.MaxPool2d(2)))\n",
    "# feed forward\n",
    "network.add_layer(Flatten())\n",
    "network.add_layer(Linear(1024))\n",
    "network.add_layer(Activation(leaky_relu))\n",
    "network.add_layer(Linear(10))\n",
    "\n",
    "network.load(Checkpoint.read(\"checkpoints/simple_conv.pb\"))"
   ],
   "id": "initial_id",
   "outputs": [],
   "execution_count": 2
  },
  {
   "metadata": {
    "ExecuteTime": {
     "end_time": "2025-03-30T22:31:19.585663Z",
     "start_time": "2025-03-30T22:31:19.583567Z"
    }
   },
   "cell_type": "code",
   "source": [
    "def normalize(x):\n",
    "    min_x = mx.min(x)\n",
    "    x -= min_x\n",
    "\n",
    "    max_x = mx.max(x)\n",
    "    x /= max_x\n",
    "\n",
    "    return x\n",
    "\n",
    "def viz_input(x):\n",
    "    x = 255 * np.array(x[0])\n",
    "    img_x = Image.fromarray(x.astype('uint8'))\n",
    "    plt.imshow(img_x)"
   ],
   "id": "ecb5e29659761071",
   "outputs": [],
   "execution_count": 3
  },
  {
   "metadata": {
    "ExecuteTime": {
     "end_time": "2025-03-30T22:31:19.652507Z",
     "start_time": "2025-03-30T22:31:19.587851Z"
    }
   },
   "cell_type": "code",
   "source": [
    "# create some noise\n",
    "noise = mx.random.uniform(0, 1, (1, 32, 32, 3))\n",
    "viz_input(noise)"
   ],
   "id": "41605d447b9a5212",
   "outputs": [
    {
     "data": {
      "text/plain": [
       "<Figure size 640x480 with 1 Axes>"
      ],
      "image/png": "[encoded data removed]"
     },
     "metadata": {},
     "output_type": "display_data"
    }
   ],
   "execution_count": 4
  },
  {
   "metadata": {
    "ExecuteTime": {
     "end_time": "2025-03-30T22:31:19.658898Z",
     "start_time": "2025-03-30T22:31:19.657015Z"
    }
   },
   "cell_type": "code",
   "source": [
    "# prepare to optimize the input image (noise)\n",
    "network.freeze()\n",
    "optimizer = SGD(eta=0.05, momentum=0.9, weight_decay=0.0005)\n",
    "optimizer.bind_network(network)\n",
    "optimizer.bind_loss_fn(cross_entropy_loss)"
   ],
   "id": "8336c99b103cc475",
   "outputs": [],
   "execution_count": 5
  },
  {
   "metadata": {},
   "cell_type": "code",
   "outputs": [],
   "execution_count": null,
   "source": [
    "# Cifar-10 labels\n",
    "#   0 -> Airplane\n",
    "#   1 -> Automobile\n",
    "#   2 -> Bird\n",
    "#   3 -> Cat\n",
    "#   4 -> Deer\n",
    "#   5 -> Dog\n",
    "#   6 -> Frog\n",
    "#   7 -> Horse\n",
    "#   8 -> Ship\n",
    "#   9 -> Truck"
   ],
   "id": "860acdddfe654359"
  },
  {
   "metadata": {
    "ExecuteTime": {
     "end_time": "2025-03-30T23:03:06.885691Z",
     "start_time": "2025-03-30T23:02:56.747115Z"
    }
   },
   "cell_type": "code",
   "source": [
    "# Generate from noise\n",
    "x = mx.random.uniform(0, 0.0001, (1, 32, 32, 3))\n",
    "\n",
    "y = np.zeros((1, 10))  # one-hot encoded label\n",
    "y[0][2] = 1\n",
    "\n",
    "for i in range(10000):\n",
    "    grad = optimizer.step(x, y)\n",
    "    x -= 0.001 * grad\n",
    "    x = normalize(x)\n",
    "\n",
    "viz_input(x)\n",
    "print(np.array(softmax(network.forward(x))))"
   ],
   "id": "1dfb1b4bfef6f5ce",
   "outputs": [
    {
     "name": "stdout",
     "output_type": "stream",
     "text": [
      "array([[[[0.470908, 0.474497, 0.461118],\n",
      "         [0.456387, 0.466812, 0.478371],\n",
      "         [0.462681, 0.47116, 0.448579],\n",
      "         ...,\n",
      "         [0.48313, 0.47961, 0.480578],\n",
      "         [0.4717, 0.477862, 0.493338],\n",
      "         [0.473422, 0.479759, 0.499067]],\n",
      "        [[0.493204, 0.482229, 0.458674],\n",
      "         [0.472483, 0.490139, 0.458161],\n",
      "         [0.463097, 0.498981, 0.481024],\n",
      "         ...,\n",
      "         [0.491729, 0.465597, 0.495388],\n",
      "         [0.466373, 0.466974, 0.485624],\n",
      "         [0.473481, 0.487007, 0.495264]],\n",
      "        [[0.505156, 0.48141, 0.470024],\n",
      "         [0.470465, 0.483112, 0.446985],\n",
      "         [0.503997, 0.457857, 0.47088],\n",
      "         ...,\n",
      "         [0.503412, 0.484129, 0.484729],\n",
      "         [0.483116, 0.4767, 0.468437],\n",
      "         [0.459887, 0.483573, 0.499365]],\n",
      "        ...,\n",
      "        [[0.465919, 0.480363, 0.480781],\n",
      "         [0.48458, 0.46704, 0.477744],\n",
      "         [0.514203, 0.49209, 0.48303],\n",
      "         ...,\n",
      "         [0.499069, 0.496411, 0.497234],\n",
      "         [0.494339, 0.474638, 0.482425],\n",
      "         [0.490329, 0.489689, 0.468035]],\n",
      "        [[0.495326, 0.468902, 0.481416],\n",
      "         [0.461642, 0.469094, 0.48197],\n",
      "         [0.495384, 0.492402, 0.48428],\n",
      "         ...,\n",
      "         [0.477026, 0.50211, 0.47096],\n",
      "         [0.47419, 0.470125, 0.491933],\n",
      "         [0.470195, 0.498222, 0.459913]],\n",
      "        [[0.467183, 0.503557, 0.482848],\n",
      "         [0.478023, 0.463278, 0.464838],\n",
      "         [0.494894, 0.489049, 0.470674],\n",
      "         ...,\n",
      "         [0.482329, 0.46799, 0.495913],\n",
      "         [0.478748, 0.47619, 0.485963],\n",
      "         [0.490254, 0.500887, 0.480172]]]], dtype=float32)\n",
      "[[1.17885684e-04 1.29114951e-05 9.99749482e-01 2.92901473e-06\n",
      "  7.16777606e-07 1.14321108e-09 1.12735710e-04 1.03319827e-07\n",
      "  1.07537668e-08 3.22112351e-06]]\n"
     ]
    },
    {
     "data": {
      "text/plain": [
       "<Figure size 640x480 with 1 Axes>"
      ],
      "image/png": "[encoded data removed]"
     },
     "metadata": {},
     "output_type": "display_data"
    }
   ],
   "execution_count": 24
  },
  {
   "metadata": {
    "ExecuteTime": {
     "end_time": "2025-03-30T23:03:11.307569Z",
     "start_time": "2025-03-30T23:03:09.566395Z"
    }
   },
   "cell_type": "code",
   "source": [
    "# load data\n",
    "train, test = get_cifar10()\n",
    "train, test = list(train), list(test)"
   ],
   "id": "ce0994979e7193bd",
   "outputs": [],
   "execution_count": 25
  },
  {
   "metadata": {
    "ExecuteTime": {
     "end_time": "2025-03-30T23:07:15.180164Z",
     "start_time": "2025-03-30T23:07:14.130978Z"
    }
   },
   "cell_type": "code",
   "source": [
    "# Enhance existing image\n",
    "x = test[4]['image']\n",
    "x = mx.array(x.reshape((1, *x.shape)))\n",
    "y = test[4]['label']\n",
    "y = mx.array(y.reshape((1, *y.shape)))\n",
    "\n",
    "for i in range(1000):\n",
    "    grad = optimizer.step(x, y)\n",
    "    x -= 0.1 * grad\n",
    "    x = normalize(x)\n",
    "\n",
    "viz_input(x)\n",
    "print(np.array(softmax(network.forward(x))))"
   ],
   "id": "7d9a61b060964e6",
   "outputs": [
    {
     "name": "stdout",
     "output_type": "stream",
     "text": [
      "[[1.2218456e-14 4.4597561e-13 1.0736289e-06 1.5595332e-07 3.0886764e-09\n",
      "  9.3163983e-11 9.9999881e-01 9.9097000e-13 2.9039455e-13 3.2024938e-11]]\n"
     ]
    },
    {
     "data": {
      "text/plain": [
       "<Figure size 640x480 with 1 Axes>"
      ],
      "image/png": "[encoded data removed]"
     },
     "metadata": {},
     "output_type": "display_data"
    }
   ],
   "execution_count": 40
  }
 ],
 "metadata": {
  "kernelspec": {
   "display_name": "Python 3",
   "language": "python",
   "name": "python3"
  },
  "language_info": {
   "codemirror_mode": {
    "name": "ipython",
    "version": 2
   },
   "file_extension": ".py",
   "mimetype": "text/x-python",
   "name": "python",
   "nbconvert_exporter": "python",
   "pygments_lexer": "ipython2",
   "version": "2.7.6"
  }
 },
 "nbformat": 4,
 "nbformat_minor": 5
}
