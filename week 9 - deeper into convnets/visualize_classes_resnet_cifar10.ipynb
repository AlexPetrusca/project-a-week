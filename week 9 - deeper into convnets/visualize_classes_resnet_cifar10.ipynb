{
 "cells": [
  {
   "cell_type": "code",
   "id": "initial_id",
   "metadata": {
    "collapsed": true,
    "ExecuteTime": {
     "end_time": "2025-03-31T17:27:45.808838Z",
     "start_time": "2025-03-31T17:27:00.631112Z"
    }
   },
   "source": [
    "import torch\n",
    "import torch.nn as nn\n",
    "import torch.nn.functional as F\n",
    "import torch.optim as optim\n",
    "import torchvision\n",
    "import torchvision.transforms as transforms\n",
    "import torchvision.models as models\n",
    "import time\n",
    "import copy\n",
    "from torch.utils.data import DataLoader\n",
    "\n",
    "# Set device\n",
    "device = torch.device(\"mps\")\n",
    "print(f\"Using device: {device}\")\n",
    "\n",
    "# Data transforms\n",
    "transform_train = transforms.Compose([\n",
    "    transforms.RandomCrop(32, padding=4),\n",
    "    transforms.RandomHorizontalFlip(),\n",
    "    transforms.ToTensor(),\n",
    "    transforms.Normalize((0.4914, 0.4822, 0.4465), (0.2470, 0.2435, 0.2616))\n",
    "])\n",
    "\n",
    "transform_test = transforms.Compose([\n",
    "    transforms.ToTensor(),\n",
    "    transforms.Normalize((0.4914, 0.4822, 0.4465), (0.2470, 0.2435, 0.2616))\n",
    "])\n",
    "\n",
    "# Load CIFAR-10 dataset (will be downloaded automatically if not present)\n",
    "trainset = torchvision.datasets.CIFAR10(root='./data', train=True, download=True, transform=transform_train)\n",
    "trainloader = DataLoader(trainset, batch_size=128, shuffle=True, num_workers=2)\n",
    "\n",
    "testset = torchvision.datasets.CIFAR10(root='./data', train=False, download=True, transform=transform_test)\n",
    "testloader = DataLoader(testset, batch_size=128, shuffle=False, num_workers=2)\n",
    "\n",
    "classes = ('plane', 'car', 'bird', 'cat', 'deer',\n",
    "           'dog', 'frog', 'horse', 'ship', 'truck')\n",
    "\n",
    "# Create ResNet50 model\n",
    "def create_resnet50(num_classes=10):\n",
    "    # Load pre-trained ResNet50\n",
    "    model = models.resnet50(weights='IMAGENET1K_V1')\n",
    "\n",
    "    # Modify the first conv layer to accept 3-channel 32x32 inputs\n",
    "    # ResNet was designed for 224x224 images, but CIFAR-10 images are 32x32\n",
    "    model.conv1 = nn.Conv2d(3, 64, kernel_size=3, stride=1, padding=1, bias=False)\n",
    "    model.maxpool = nn.Identity()  # Remove maxpool as we're using small images\n",
    "\n",
    "    # Modify the final FC layer to output 10 classes\n",
    "    num_ftrs = model.fc.in_features\n",
    "    model.fc = nn.Linear(num_ftrs, num_classes)\n",
    "\n",
    "    return model\n",
    "\n",
    "# Training function\n",
    "def train_model(model, dataloaders, criterion, optimizer, num_epochs=25):\n",
    "    since = time.time()\n",
    "\n",
    "    best_model_wts = copy.deepcopy(model.state_dict())\n",
    "    best_acc = 0.0\n",
    "\n",
    "    for epoch in range(num_epochs):\n",
    "        print(f'Epoch {epoch+1}/{num_epochs}')\n",
    "        print('-' * 10)\n",
    "\n",
    "        # Each epoch has a training and validation phase\n",
    "        for phase in ['train', 'val']:\n",
    "            if phase == 'train':\n",
    "                model.train()  # Set model to training mode\n",
    "                dataloader = dataloaders['train']\n",
    "            else:\n",
    "                model.eval()   # Set model to evaluate mode\n",
    "                dataloader = dataloaders['val']\n",
    "\n",
    "            running_loss = 0.0\n",
    "            running_corrects = 0\n",
    "\n",
    "            # Iterate over data\n",
    "            for inputs, labels in dataloader:\n",
    "                inputs = inputs.to(device)\n",
    "                labels = labels.to(device)\n",
    "\n",
    "                # Zero the parameter gradients\n",
    "                optimizer.zero_grad()\n",
    "\n",
    "                # Forward pass (track history if only in train)\n",
    "                with torch.set_grad_enabled(phase == 'train'):\n",
    "                    outputs = model(inputs)\n",
    "                    _, preds = torch.max(outputs, 1)\n",
    "                    loss = criterion(outputs, labels)\n",
    "\n",
    "                    # Backward + optimize only if in training phase\n",
    "                    if phase == 'train':\n",
    "                        loss.backward()\n",
    "                        optimizer.step()\n",
    "\n",
    "                # Statistics\n",
    "                running_loss += loss.item() * inputs.size(0)\n",
    "                running_corrects += torch.sum(preds == labels.data)\n",
    "\n",
    "            epoch_loss = running_loss / len(dataloader.dataset)\n",
    "            epoch_acc = running_corrects.float() / len(dataloader.dataset)\n",
    "\n",
    "            print(f'{phase} Loss: {epoch_loss:.4f} Acc: {epoch_acc:.4f}')\n",
    "\n",
    "            # Deep copy the model if best\n",
    "            if phase == 'val' and epoch_acc > best_acc:\n",
    "                best_acc = epoch_acc\n",
    "                best_model_wts = copy.deepcopy(model.state_dict())\n",
    "\n",
    "        print()\n",
    "\n",
    "    time_elapsed = time.time() - since\n",
    "    print(f'Training complete in {time_elapsed // 60:.0f}m {time_elapsed % 60:.0f}s')\n",
    "    print(f'Best val Acc: {best_acc:.4f}')\n",
    "\n",
    "    # Load best model weights\n",
    "    model.load_state_dict(best_model_wts)\n",
    "    return model\n",
    "\n",
    "# Create model and move to device\n",
    "model = create_resnet50(num_classes=10)\n",
    "model = model.to(device)\n",
    "\n",
    "# Loss function and optimizer\n",
    "criterion = nn.CrossEntropyLoss()\n",
    "optimizer = optim.SGD(model.parameters(), lr=0.01, momentum=0.9, weight_decay=5e-4)\n",
    "\n",
    "# Learning rate scheduler\n",
    "scheduler = optim.lr_scheduler.CosineAnnealingLR(optimizer, T_max=200)\n",
    "\n",
    "# Create dataloaders dictionary\n",
    "dataloaders = {\n",
    "    'train': trainloader,\n",
    "    'val': testloader\n",
    "}\n",
    "\n",
    "# # Train model\n",
    "# model = train_model(model, dataloaders, criterion, optimizer, num_epochs=10)\n",
    "#\n",
    "# # Save the trained model\n",
    "# torch.save(model.state_dict(), 'checkpoints/resnet50_cifar10.pth')\n",
    "\n",
    "state_dict = torch.load('checkpoints/resnet50_cifar10.pth')\n",
    "# Load the state dictionary into the model\n",
    "model.load_state_dict(state_dict)\n",
    "\n",
    "# Evaluate model on test set\n",
    "model.eval()\n",
    "correct = 0\n",
    "total = 0\n",
    "\n",
    "with torch.no_grad():\n",
    "    for data in testloader:\n",
    "        images, labels = data\n",
    "        images, labels = images.to(device), labels.to(device)\n",
    "        outputs = model(images)\n",
    "        _, predicted = torch.max(outputs.data, 1)\n",
    "        total += labels.size(0)\n",
    "        correct += (predicted == labels).sum().item()\n",
    "\n",
    "print(f'Final accuracy on test set: {100 * correct / total:.2f}%')\n",
    "\n",
    "# Class-wise accuracy\n",
    "class_correct = list(0. for i in range(10))\n",
    "class_total = list(0. for i in range(10))\n",
    "\n",
    "with torch.no_grad():\n",
    "    for data in testloader:\n",
    "        images, labels = data\n",
    "        images, labels = images.to(device), labels.to(device)\n",
    "        outputs = model(images)\n",
    "        _, predicted = torch.max(outputs, 1)\n",
    "        c = (predicted == labels).squeeze()\n",
    "        for i in range(len(labels)):\n",
    "            label = labels[i]\n",
    "            class_correct[label] += c[i].item()\n",
    "            class_total[label] += 1\n",
    "\n",
    "for i in range(10):\n",
    "    print(f'Accuracy of {classes[i]}: {100 * class_correct[i] / class_total[i]:.2f}%')"
   ],
   "outputs": [
    {
     "name": "stdout",
     "output_type": "stream",
     "text": [
      "Using device: mps\n",
      "Final accuracy on test set: 94.50%\n",
      "Accuracy of plane: 94.50%\n",
      "Accuracy of car: 98.80%\n",
      "Accuracy of bird: 94.10%\n",
      "Accuracy of cat: 87.50%\n",
      "Accuracy of deer: 94.30%\n",
      "Accuracy of dog: 92.00%\n",
      "Accuracy of frog: 97.70%\n",
      "Accuracy of horse: 95.00%\n",
      "Accuracy of ship: 96.30%\n",
      "Accuracy of truck: 94.80%\n"
     ]
    }
   ],
   "execution_count": 1
  },
  {
   "metadata": {
    "ExecuteTime": {
     "end_time": "2025-03-31T17:27:58.830691Z",
     "start_time": "2025-03-31T17:27:45.816299Z"
    }
   },
   "cell_type": "code",
   "source": [
    "test_set = list(testloader)\n",
    "xs, ys = test_set[0] # batch 0\n",
    "print(xs.shape, ys.shape)"
   ],
   "id": "1638d34d1d4dfdc1",
   "outputs": [
    {
     "name": "stdout",
     "output_type": "stream",
     "text": [
      "torch.Size([128, 3, 32, 32]) torch.Size([128])\n"
     ]
    }
   ],
   "execution_count": 2
  },
  {
   "metadata": {
    "ExecuteTime": {
     "end_time": "2025-03-31T17:27:59.205589Z",
     "start_time": "2025-03-31T17:27:58.845666Z"
    }
   },
   "cell_type": "code",
   "source": [
    "from torchvision.transforms import ToPILImage\n",
    "import matplotlib.pyplot as plt\n",
    "\n",
    "def unnormalize(tensor, mean, std):\n",
    "    mean = torch.tensor(mean).view(3, 1, 1).to(device)  # Reshape for broadcasting\n",
    "    std = torch.tensor(std).view(3, 1, 1).to(device)\n",
    "    return tensor * std + mean  # Reverse the normalization\n",
    "\n",
    "def toImage(tensor):\n",
    "    unormal = unnormalize(tensor, (0.4914, 0.4822, 0.4465), (0.2470, 0.2435, 0.2616))\n",
    "    to_pil = ToPILImage()\n",
    "    return to_pil(unormal)\n",
    "\n",
    "# Convert to PIL Image\n",
    "x, y = xs[16].to(device), ys[16].to(device)\n",
    "plt.imshow(toImage(x))"
   ],
   "id": "b6c5ec17a46c9f5f",
   "outputs": [
    {
     "data": {
      "text/plain": [
       "<matplotlib.image.AxesImage at 0x31e49aa50>"
      ]
     },
     "execution_count": 3,
     "metadata": {},
     "output_type": "execute_result"
    },
    {
     "data": {
      "text/plain": [
       "<Figure size 640x480 with 1 Axes>"
      ],
      "image/png": "[encoded data removed]"
     },
     "metadata": {},
     "output_type": "display_data"
    }
   ],
   "execution_count": 3
  },
  {
   "metadata": {
    "ExecuteTime": {
     "end_time": "2025-03-31T17:27:59.216809Z",
     "start_time": "2025-03-31T17:27:59.214416Z"
    }
   },
   "cell_type": "code",
   "source": [
    "# Freeze all layers\n",
    "for param in model.parameters():\n",
    "    param.requires_grad = False\n",
    "# Make x batched and trainable\n",
    "x = x.view(-1, *x.shape)\n",
    "x.requires_grad = True"
   ],
   "id": "5bcad7ba632abc75",
   "outputs": [],
   "execution_count": 4
  },
  {
   "metadata": {
    "ExecuteTime": {
     "end_time": "2025-03-31T17:27:59.565296Z",
     "start_time": "2025-03-31T17:27:59.219456Z"
    }
   },
   "cell_type": "code",
   "source": [
    "# Get the gradient of the loss with respect to the input image\n",
    "y_pred = model(x)\n",
    "\n",
    "loss_fn = nn.CrossEntropyLoss()\n",
    "loss = loss_fn(y_pred, y.view(1))  # cross entropy loss\n",
    "loss += 0.01 * torch.sum(x ** 2)  # L2 loss\n",
    "\n",
    "x.grad = None\n",
    "loss.backward()\n",
    "print(x.grad)"
   ],
   "id": "c9dbf848c4a43b20",
   "outputs": [
    {
     "name": "stdout",
     "output_type": "stream",
     "text": [
      "tensor([[[[-0.0096, -0.0106, -0.0115,  ..., -0.0303,  0.0158,  0.0317],\n",
      "          [-0.0112, -0.0125, -0.0134,  ..., -0.0398, -0.0207,  0.0126],\n",
      "          [-0.0118, -0.0131, -0.0137,  ..., -0.0382, -0.0322,  0.0005],\n",
      "          ...,\n",
      "          [ 0.0247,  0.0279,  0.0243,  ...,  0.0180, -0.0023, -0.0280],\n",
      "          [-0.0007,  0.0269,  0.0272,  ..., -0.0030, -0.0258, -0.0363],\n",
      "          [-0.0074,  0.0262,  0.0285,  ..., -0.0280, -0.0344, -0.0328]],\n",
      "\n",
      "         [[-0.0152, -0.0148, -0.0148,  ..., -0.0306,  0.0193,  0.0358],\n",
      "          [-0.0168, -0.0164, -0.0167,  ..., -0.0396, -0.0193,  0.0155],\n",
      "          [-0.0174, -0.0171, -0.0171,  ..., -0.0396, -0.0312,  0.0052],\n",
      "          ...,\n",
      "          [ 0.0171,  0.0168,  0.0135,  ...,  0.0193, -0.0010, -0.0293],\n",
      "          [-0.0093,  0.0152,  0.0155,  ..., -0.0022, -0.0251, -0.0386],\n",
      "          [-0.0122,  0.0193,  0.0203,  ..., -0.0290, -0.0354, -0.0361]],\n",
      "\n",
      "         [[-0.0108, -0.0107, -0.0110,  ..., -0.0227,  0.0231,  0.0378],\n",
      "          [-0.0122, -0.0125, -0.0128,  ..., -0.0302, -0.0105,  0.0225],\n",
      "          [-0.0129, -0.0132, -0.0131,  ..., -0.0305, -0.0197,  0.0153],\n",
      "          ...,\n",
      "          [ 0.0141,  0.0126,  0.0123,  ...,  0.0225,  0.0033, -0.0203],\n",
      "          [-0.0071,  0.0130,  0.0138,  ...,  0.0018, -0.0200, -0.0296],\n",
      "          [-0.0089,  0.0183,  0.0186,  ..., -0.0212, -0.0275, -0.0257]]]],\n",
      "       device='mps:0')\n"
     ]
    }
   ],
   "execution_count": 5
  },
  {
   "metadata": {
    "ExecuteTime": {
     "end_time": "2025-03-31T17:28:03.026614Z",
     "start_time": "2025-03-31T17:27:59.573880Z"
    }
   },
   "cell_type": "code",
   "source": [
    "# Update the image in a loop\n",
    "x = torch.randn((1, 3, 32, 32), device=device)\n",
    "y = torch.tensor([2], device=device) # bird\n",
    "\n",
    "x.requires_grad = True\n",
    "for i in range(250):\n",
    "    y_pred = model(x)\n",
    "\n",
    "    loss_fn = nn.CrossEntropyLoss()\n",
    "    loss = loss_fn(y_pred, y.view(1))  # cross entropy loss\n",
    "    loss += 0.01 * torch.sum(x ** 2)  # L2 loss\n",
    "\n",
    "    x.grad = None\n",
    "    loss.backward()\n",
    "    x.data -= 5 * x.grad\n",
    "\n",
    "print(F.softmax(model(x), dim=1))\n",
    "plt.imshow(toImage(5.0 * x.squeeze(0) + 0.5))"
   ],
   "id": "6e4d084e483b2d40",
   "outputs": [
    {
     "name": "stdout",
     "output_type": "stream",
     "text": [
      "tensor([[4.1899e-05, 1.7858e-06, 9.9973e-01, 6.1897e-05, 3.9807e-05, 1.4603e-05,\n",
      "         9.6567e-05, 3.2505e-06, 8.3403e-06, 6.5564e-06]], device='mps:0',\n",
      "       grad_fn=<SoftmaxBackward0>)\n"
     ]
    },
    {
     "data": {
      "text/plain": [
       "<matplotlib.image.AxesImage at 0x31e57e850>"
      ]
     },
     "execution_count": 6,
     "metadata": {},
     "output_type": "execute_result"
    },
    {
     "data": {
      "text/plain": [
       "<Figure size 640x480 with 1 Axes>"
      ],
      "image/png": "[encoded data removed]"
     },
     "metadata": {},
     "output_type": "display_data"
    }
   ],
   "execution_count": 6
  },
  {
   "metadata": {
    "ExecuteTime": {
     "end_time": "2025-03-31T17:28:12.910619Z",
     "start_time": "2025-03-31T17:28:03.034842Z"
    }
   },
   "cell_type": "code",
   "source": [
    "import torch\n",
    "import torch.nn as nn\n",
    "import torch.nn.functional as F\n",
    "import matplotlib.pyplot as plt\n",
    "from ipywidgets import interact, FloatSlider, IntSlider, Layout, Dropdown, Output\n",
    "from IPython.display import display, clear_output\n",
    "\n",
    "# Assuming you have your model, xs, ys, toImage function already defined\n",
    "\n",
    "def generate_adversarial_image(target_class=None, steps=100,\n",
    "                               learning_rate=5.0, scaling_factor=0.6, shift=0.0,\n",
    "                               use_l2_reg=False, reg_strength=0.01, noise_init=False):\n",
    "    x = torch.randn((1, 3, 32, 32), device=device)\n",
    "    y = torch.tensor([target_class], device=device)\n",
    "\n",
    "    # Initialize with zeros or random noise\n",
    "    if noise_init:\n",
    "        x_adv = torch.randn_like(x) * 0.1\n",
    "    else:\n",
    "        x_adv = torch.zeros_like(x)\n",
    "\n",
    "    x_adv.requires_grad = True\n",
    "\n",
    "    # Create a figure for displaying the image\n",
    "    fig, (ax1, ax2) = plt.subplots(1, 2, figsize=(12, 5))\n",
    "\n",
    "    # Store the loss values for plotting\n",
    "    loss_values = []\n",
    "    prob_values = []\n",
    "\n",
    "    # Create an output widget for status updates\n",
    "    out = Output()\n",
    "    display(out)\n",
    "\n",
    "    for i in range(steps):\n",
    "        y_pred = model(x_adv)\n",
    "\n",
    "        loss_fn = nn.CrossEntropyLoss()\n",
    "        loss = loss_fn(y_pred, y.view(1))\n",
    "\n",
    "        # Add L2 regularization if enabled\n",
    "        if use_l2_reg:\n",
    "            l2_loss = reg_strength * torch.sum(x_adv ** 2)\n",
    "            loss = loss + l2_loss\n",
    "\n",
    "        loss_values.append(loss.item())\n",
    "\n",
    "        # Calculate current probability of target class\n",
    "        probs = F.softmax(y_pred, dim=1)\n",
    "        target_prob = probs[0, y.item()].item()\n",
    "        prob_values.append(target_prob)\n",
    "\n",
    "        x_adv.grad = None\n",
    "        loss.backward()\n",
    "        x_adv.data -= learning_rate * x_adv.grad\n",
    "\n",
    "        # Update the plot every 10 steps or on the last step\n",
    "        if i % 10 == 0 or i == steps - 1:\n",
    "            with out:\n",
    "                clear_output(wait=True)\n",
    "\n",
    "                # Plot the image with adjusted scaling and shift\n",
    "                ax1.clear()\n",
    "                # Apply scaling factor and shift to the image\n",
    "                img_data = scaling_factor * x_adv.squeeze(0) + shift\n",
    "                ax1.imshow(toImage(img_data))\n",
    "                ax1.set_title(f'Generated Image (Step {i+1})')\n",
    "\n",
    "                # Plot the loss curve and target probability\n",
    "                ax2.clear()\n",
    "                ax2.plot(loss_values, 'b-', label='Loss')\n",
    "                ax2.set_xlabel('Iteration')\n",
    "                ax2.set_ylabel('Loss', color='b')\n",
    "                ax2.tick_params(axis='y', labelcolor='b')\n",
    "\n",
    "                # Add target probability on secondary y-axis\n",
    "                ax3 = ax2.twinx()\n",
    "                ax3.plot(prob_values, 'r-', label='Target Probability')\n",
    "                ax3.set_ylabel('Target Class Probability', color='r')\n",
    "                ax3.tick_params(axis='y', labelcolor='r')\n",
    "                ax3.set_ylim(0, 1)\n",
    "\n",
    "                plt.tight_layout()\n",
    "                display(fig)\n",
    "\n",
    "                # Print status info\n",
    "                print(f\"Step {i+1}/{steps}: Loss = {loss.item():.4f}, Target Prob = {target_prob:.4f}\")\n",
    "\n",
    "    # Print the final class probabilities for all classes\n",
    "    probs = F.softmax(model(x_adv), dim=1)\n",
    "\n",
    "    # Get top 5 classes\n",
    "    values, indices = torch.topk(probs[0], 5)\n",
    "\n",
    "    with out:\n",
    "        print(\"\\nFinal Predictions:\")\n",
    "        for i, (idx, prob) in enumerate(zip(indices.cpu().detach().numpy(), values.cpu().detach().numpy())):\n",
    "            print(f\"  {i+1}. Class {idx}: {prob:.4f}\")\n",
    "\n",
    "    return x_adv\n",
    "\n",
    "# Prepare class labels for the dropdown (assuming we have class names)\n",
    "# If class_names isn't available, we'll use class indices\n",
    "try:\n",
    "    class_names = [\"Airplane\", \"Automobile\", \"Bird\", \"Cat\", \"Deer\", \"Dog\", \"Frog\", \"Horse\", \"Ship\", \"Truck\"]\n",
    "    class_options = {f\"{i}: {name}\": i for i, name in enumerate(class_names)}\n",
    "except NameError:\n",
    "    num_classes = model(xs[0].unsqueeze(0).to(device)).shape[1]  # Infer from model output\n",
    "    class_options = {f\"Class {i}\": i for i in range(num_classes)}\n",
    "\n",
    "# Create interactive slider controls\n",
    "def interactive_generation(target_class, steps, learning_rate,\n",
    "                           scaling_factor, shift, use_l2_reg, reg_strength, noise_init):\n",
    "    # Convert target_class from string to integer index if necessary\n",
    "    if target_class in class_options:\n",
    "        target_idx = class_options[target_class]\n",
    "    else:\n",
    "        target_idx = None\n",
    "\n",
    "    _ = generate_adversarial_image(\n",
    "        target_class=target_idx,\n",
    "        steps=steps,\n",
    "        learning_rate=learning_rate,\n",
    "        scaling_factor=scaling_factor,\n",
    "        shift=shift,\n",
    "        use_l2_reg=use_l2_reg,\n",
    "        reg_strength=reg_strength,\n",
    "        noise_init=noise_init\n",
    "    )\n",
    "\n",
    "# Make the widget layout wider\n",
    "wide_layout = Layout(width='500px')\n",
    "\n",
    "# Create the interactive interface\n",
    "class_targets = list(class_options.keys())\n",
    "interact(\n",
    "    interactive_generation,\n",
    "    target_class=Dropdown(options=class_targets, value=class_targets[0], description='Target Class:', layout=wide_layout),\n",
    "    steps=IntSlider(min=10, max=500, step=10, value=250, description='Steps:', layout=wide_layout),\n",
    "    learning_rate=FloatSlider(min=0.1, max=20.0, step=0.1, value=2.5, description='Learning Rate:', layout=wide_layout),\n",
    "    scaling_factor=FloatSlider(min=1, max=50.0, step=1, value=5.0, description='Scaling Factor:', layout=wide_layout),\n",
    "    shift=FloatSlider(min=-1.0, max=1.0, step=0.05, value=0.5, description='Shift:', layout=wide_layout),\n",
    "    use_l2_reg=Dropdown(options=[True, False], value=True, description='L2 Regularization:', layout=wide_layout),\n",
    "    reg_strength=FloatSlider(min=0.001, max=0.1, step=0.001, value=0.01, description='Reg Strength:', layout=wide_layout),\n",
    "    noise_init=Dropdown(options=[True, False], value=True, description='Random Init:', layout=wide_layout)\n",
    ");"
   ],
   "id": "23d242dc12e5705b",
   "outputs": [
    {
     "data": {
      "text/plain": [
       "interactive(children=(Dropdown(description='Target Class:', layout=Layout(width='500px'), options=('0: Airplan…"
      ],
      "application/vnd.jupyter.widget-view+json": {
       "version_major": 2,
       "version_minor": 0,
       "model_id": "5f9a51f186fa4d32b2fbf626fb88ecfe"
      }
     },
     "metadata": {},
     "output_type": "display_data"
    }
   ],
   "execution_count": 7
  }
 ],
 "metadata": {
  "kernelspec": {
   "display_name": "Python 3",
   "language": "python",
   "name": "python3"
  },
  "language_info": {
   "codemirror_mode": {
    "name": "ipython",
    "version": 2
   },
   "file_extension": ".py",
   "mimetype": "text/x-python",
   "name": "python",
   "nbconvert_exporter": "python",
   "pygments_lexer": "ipython2",
   "version": "2.7.6"
  }
 },
 "nbformat": 4,
 "nbformat_minor": 5
}
