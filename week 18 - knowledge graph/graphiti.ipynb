{
 "cells": [
  {
   "metadata": {
    "ExecuteTime": {
     "end_time": "2025-08-05T17:47:47.161788Z",
     "start_time": "2025-08-05T17:47:47.159130Z"
    }
   },
   "cell_type": "code",
   "source": [
    "# Let's use Graphiti to create a knowledge graph. In a knowledge graph:\n",
    "#   - concepts are represented as nodes.\n",
    "#   - facts are represented as edges (or relationships) connecting those nodes."
   ],
   "id": "34e70cbfea03d964",
   "outputs": [],
   "execution_count": 1
  },
  {
   "metadata": {
    "ExecuteTime": {
     "end_time": "2025-08-05T17:47:48.224540Z",
     "start_time": "2025-08-05T17:47:48.217646Z"
    }
   },
   "cell_type": "code",
   "source": [
    "from dotenv import load_dotenv\n",
    "load_dotenv() # load environment variables"
   ],
   "id": "c66c0fc97efa741c",
   "outputs": [
    {
     "data": {
      "text/plain": [
       "True"
      ]
     },
     "execution_count": 2,
     "metadata": {},
     "output_type": "execute_result"
    }
   ],
   "execution_count": 2
  },
  {
   "metadata": {
    "ExecuteTime": {
     "end_time": "2025-08-05T17:47:49.666880Z",
     "start_time": "2025-08-05T17:47:49.177037Z"
    }
   },
   "cell_type": "code",
   "source": [
    "import asyncio\n",
    "import json\n",
    "import logging\n",
    "import os\n",
    "from datetime import datetime, timezone\n",
    "from logging import INFO\n",
    "\n",
    "from graphiti_core import Graphiti\n",
    "from graphiti_core.nodes import EpisodeType\n",
    "from graphiti_core.search.search_config_recipes import NODE_HYBRID_SEARCH_RRF"
   ],
   "id": "1bb35891374044e2",
   "outputs": [],
   "execution_count": 3
  },
  {
   "metadata": {
    "ExecuteTime": {
     "end_time": "2025-08-05T17:47:54.054284Z",
     "start_time": "2025-08-05T17:47:54.052189Z"
    }
   },
   "cell_type": "code",
   "source": [
    "# Set up logging and environment variables for connecting to the Neo4j database\n",
    "\n",
    "# Configure logging\n",
    "logging.basicConfig(\n",
    "    level=INFO,\n",
    "    format='%(asctime)s - %(name)s - %(levelname)s - %(message)s',\n",
    "    datefmt='%Y-%m-%d %H:%M:%S',\n",
    ")\n",
    "logger = logging.getLogger(__name__)\n",
    "\n",
    "# Neo4j connection parameters\n",
    "# Make sure Neo4j Desktop is running with a local DBMS started\n",
    "neo4j_uri = os.environ.get('NEO4J_URI', 'bolt://localhost:7687')\n",
    "neo4j_user = os.environ.get('NEO4J_USER', 'neo4j')\n",
    "neo4j_password = os.environ.get('NEO4J_PASSWORD', \"password\")\n",
    "\n",
    "if not neo4j_uri or not neo4j_user or not neo4j_password:\n",
    "    raise ValueError('NEO4J_URI, NEO4J_USER, and NEO4J_PASSWORD must be set')"
   ],
   "id": "f46b7f6575cdc0e4",
   "outputs": [],
   "execution_count": 5
  },
  {
   "metadata": {
    "ExecuteTime": {
     "end_time": "2025-08-05T17:47:58.499856Z",
     "start_time": "2025-08-05T17:47:58.423316Z"
    }
   },
   "cell_type": "code",
   "source": [
    "# Configure Graphiti to work with Ollama\n",
    "\n",
    "from graphiti_core import Graphiti\n",
    "from graphiti_core.llm_client.config import LLMConfig\n",
    "from graphiti_core.llm_client.openai_client import OpenAIClient\n",
    "from graphiti_core.embedder.openai import OpenAIEmbedder, OpenAIEmbedderConfig\n",
    "from graphiti_core.cross_encoder.openai_reranker_client import OpenAIRerankerClient\n",
    "\n",
    "# Configure Ollama LLM client\n",
    "llm_config = LLMConfig(\n",
    "    api_key=\"abc\",  # Ollama doesn't require a real API key\n",
    "    model=\"gemma3n\",\n",
    "    small_model=\"gemma3n\",\n",
    "    base_url=\"http://localhost:11434/v1\",  # Ollama provides this port\n",
    ")\n",
    "llm_client = OpenAIClient(config=llm_config)\n",
    "\n",
    "# Initialize Graphiti with Ollama clients\n",
    "graphiti = Graphiti(\n",
    "    neo4j_uri,\n",
    "    neo4j_user,\n",
    "    neo4j_password,\n",
    "    llm_client=llm_client,\n",
    "    embedder=OpenAIEmbedder(\n",
    "        config=OpenAIEmbedderConfig(\n",
    "            api_key=\"abc\",\n",
    "            embedding_model=\"nomic-embed-text\",\n",
    "            embedding_dim=768,\n",
    "            base_url=\"http://localhost:11434/v1\",\n",
    "        )\n",
    "    ),\n",
    "    cross_encoder=OpenAIRerankerClient(client=llm_client, config=llm_config),\n",
    ")\n",
    "\n",
    "# Initialize the graph database with graphiti's indices. This only needs to be done once.\n",
    "await graphiti.build_indices_and_constraints()"
   ],
   "id": "644656c76fd1e7bd",
   "outputs": [
    {
     "name": "stderr",
     "output_type": "stream",
     "text": [
      "2025-08-05 10:47:58 - neo4j.notifications - INFO - Received notification from DBMS server: {severity: INFORMATION} {code: Neo.ClientNotification.Schema.IndexOrConstraintAlreadyExists} {category: SCHEMA} {title: `CREATE RANGE INDEX relation_uuid IF NOT EXISTS FOR ()-[e:RELATES_TO]-() ON (e.uuid)` has no effect.} {description: `RANGE INDEX relation_uuid FOR ()-[e:RELATES_TO]-() ON (e.uuid)` already exists.} {position: None} for query: 'CREATE INDEX relation_uuid IF NOT EXISTS FOR ()-[e:RELATES_TO]-() ON (e.uuid)'\n",
      "2025-08-05 10:47:58 - neo4j.notifications - INFO - Received notification from DBMS server: {severity: INFORMATION} {code: Neo.ClientNotification.Schema.IndexOrConstraintAlreadyExists} {category: SCHEMA} {title: `CREATE RANGE INDEX has_member_uuid IF NOT EXISTS FOR ()-[e:HAS_MEMBER]-() ON (e.uuid)` has no effect.} {description: `RANGE INDEX has_member_uuid FOR ()-[e:HAS_MEMBER]-() ON (e.uuid)` already exists.} {position: None} for query: 'CREATE INDEX has_member_uuid IF NOT EXISTS FOR ()-[e:HAS_MEMBER]-() ON (e.uuid)'\n",
      "2025-08-05 10:47:58 - neo4j.notifications - INFO - Received notification from DBMS server: {severity: INFORMATION} {code: Neo.ClientNotification.Schema.IndexOrConstraintAlreadyExists} {category: SCHEMA} {title: `CREATE RANGE INDEX entity_uuid IF NOT EXISTS FOR (e:Entity) ON (e.uuid)` has no effect.} {description: `RANGE INDEX entity_uuid FOR (e:Entity) ON (e.uuid)` already exists.} {position: None} for query: 'CREATE INDEX entity_uuid IF NOT EXISTS FOR (n:Entity) ON (n.uuid)'\n",
      "2025-08-05 10:47:58 - neo4j.notifications - INFO - Received notification from DBMS server: {severity: INFORMATION} {code: Neo.ClientNotification.Schema.IndexOrConstraintAlreadyExists} {category: SCHEMA} {title: `CREATE RANGE INDEX mention_uuid IF NOT EXISTS FOR ()-[e:MENTIONS]-() ON (e.uuid)` has no effect.} {description: `RANGE INDEX mention_uuid FOR ()-[e:MENTIONS]-() ON (e.uuid)` already exists.} {position: None} for query: 'CREATE INDEX mention_uuid IF NOT EXISTS FOR ()-[e:MENTIONS]-() ON (e.uuid)'\n",
      "2025-08-05 10:47:58 - neo4j.notifications - INFO - Received notification from DBMS server: {severity: INFORMATION} {code: Neo.ClientNotification.Schema.IndexOrConstraintAlreadyExists} {category: SCHEMA} {title: `CREATE RANGE INDEX community_uuid IF NOT EXISTS FOR (e:Community) ON (e.uuid)` has no effect.} {description: `RANGE INDEX community_uuid FOR (e:Community) ON (e.uuid)` already exists.} {position: None} for query: 'CREATE INDEX community_uuid IF NOT EXISTS FOR (n:Community) ON (n.uuid)'\n",
      "2025-08-05 10:47:58 - neo4j.notifications - INFO - Received notification from DBMS server: {severity: INFORMATION} {code: Neo.ClientNotification.Schema.IndexOrConstraintAlreadyExists} {category: SCHEMA} {title: `CREATE RANGE INDEX episode_group_id IF NOT EXISTS FOR (e:Episodic) ON (e.group_id)` has no effect.} {description: `RANGE INDEX episode_group_id FOR (e:Episodic) ON (e.group_id)` already exists.} {position: None} for query: 'CREATE INDEX episode_group_id IF NOT EXISTS FOR (n:Episodic) ON (n.group_id)'\n",
      "2025-08-05 10:47:58 - neo4j.notifications - INFO - Received notification from DBMS server: {severity: INFORMATION} {code: Neo.ClientNotification.Schema.IndexOrConstraintAlreadyExists} {category: SCHEMA} {title: `CREATE RANGE INDEX relation_group_id IF NOT EXISTS FOR ()-[e:RELATES_TO]-() ON (e.group_id)` has no effect.} {description: `RANGE INDEX relation_group_id FOR ()-[e:RELATES_TO]-() ON (e.group_id)` already exists.} {position: None} for query: 'CREATE INDEX relation_group_id IF NOT EXISTS FOR ()-[e:RELATES_TO]-() ON (e.group_id)'\n",
      "2025-08-05 10:47:58 - neo4j.notifications - INFO - Received notification from DBMS server: {severity: INFORMATION} {code: Neo.ClientNotification.Schema.IndexOrConstraintAlreadyExists} {category: SCHEMA} {title: `CREATE RANGE INDEX entity_group_id IF NOT EXISTS FOR (e:Entity) ON (e.group_id)` has no effect.} {description: `RANGE INDEX entity_group_id FOR (e:Entity) ON (e.group_id)` already exists.} {position: None} for query: 'CREATE INDEX entity_group_id IF NOT EXISTS FOR (n:Entity) ON (n.group_id)'\n",
      "2025-08-05 10:47:58 - neo4j.notifications - INFO - Received notification from DBMS server: {severity: INFORMATION} {code: Neo.ClientNotification.Schema.IndexOrConstraintAlreadyExists} {category: SCHEMA} {title: `CREATE RANGE INDEX mention_group_id IF NOT EXISTS FOR ()-[e:MENTIONS]-() ON (e.group_id)` has no effect.} {description: `RANGE INDEX mention_group_id FOR ()-[e:MENTIONS]-() ON (e.group_id)` already exists.} {position: None} for query: 'CREATE INDEX mention_group_id IF NOT EXISTS FOR ()-[e:MENTIONS]-() ON (e.group_id)'\n",
      "2025-08-05 10:47:58 - neo4j.notifications - INFO - Received notification from DBMS server: {severity: INFORMATION} {code: Neo.ClientNotification.Schema.IndexOrConstraintAlreadyExists} {category: SCHEMA} {title: `CREATE RANGE INDEX name_entity_index IF NOT EXISTS FOR (e:Entity) ON (e.name)` has no effect.} {description: `RANGE INDEX name_entity_index FOR (e:Entity) ON (e.name)` already exists.} {position: None} for query: 'CREATE INDEX name_entity_index IF NOT EXISTS FOR (n:Entity) ON (n.name)'\n",
      "2025-08-05 10:47:58 - neo4j.notifications - INFO - Received notification from DBMS server: {severity: INFORMATION} {code: Neo.ClientNotification.Schema.IndexOrConstraintAlreadyExists} {category: SCHEMA} {title: `CREATE RANGE INDEX episode_uuid IF NOT EXISTS FOR (e:Episodic) ON (e.uuid)` has no effect.} {description: `RANGE INDEX episode_uuid FOR (e:Episodic) ON (e.uuid)` already exists.} {position: None} for query: 'CREATE INDEX episode_uuid IF NOT EXISTS FOR (n:Episodic) ON (n.uuid)'\n",
      "2025-08-05 10:47:58 - neo4j.notifications - INFO - Received notification from DBMS server: {severity: INFORMATION} {code: Neo.ClientNotification.Schema.IndexOrConstraintAlreadyExists} {category: SCHEMA} {title: `CREATE RANGE INDEX created_at_episodic_index IF NOT EXISTS FOR (e:Episodic) ON (e.created_at)` has no effect.} {description: `RANGE INDEX created_at_episodic_index FOR (e:Episodic) ON (e.created_at)` already exists.} {position: None} for query: 'CREATE INDEX created_at_episodic_index IF NOT EXISTS FOR (n:Episodic) ON (n.created_at)'\n",
      "2025-08-05 10:47:58 - neo4j.notifications - INFO - Received notification from DBMS server: {severity: INFORMATION} {code: Neo.ClientNotification.Schema.IndexOrConstraintAlreadyExists} {category: SCHEMA} {title: `CREATE RANGE INDEX valid_at_episodic_index IF NOT EXISTS FOR (e:Episodic) ON (e.valid_at)` has no effect.} {description: `RANGE INDEX valid_at_episodic_index FOR (e:Episodic) ON (e.valid_at)` already exists.} {position: None} for query: 'CREATE INDEX valid_at_episodic_index IF NOT EXISTS FOR (n:Episodic) ON (n.valid_at)'\n",
      "2025-08-05 10:47:58 - neo4j.notifications - INFO - Received notification from DBMS server: {severity: INFORMATION} {code: Neo.ClientNotification.Schema.IndexOrConstraintAlreadyExists} {category: SCHEMA} {title: `CREATE RANGE INDEX created_at_entity_index IF NOT EXISTS FOR (e:Entity) ON (e.created_at)` has no effect.} {description: `RANGE INDEX created_at_entity_index FOR (e:Entity) ON (e.created_at)` already exists.} {position: None} for query: 'CREATE INDEX created_at_entity_index IF NOT EXISTS FOR (n:Entity) ON (n.created_at)'\n",
      "2025-08-05 10:47:58 - neo4j.notifications - INFO - Received notification from DBMS server: {severity: INFORMATION} {code: Neo.ClientNotification.Schema.IndexOrConstraintAlreadyExists} {category: SCHEMA} {title: `CREATE RANGE INDEX name_edge_index IF NOT EXISTS FOR ()-[e:RELATES_TO]-() ON (e.name)` has no effect.} {description: `RANGE INDEX name_edge_index FOR ()-[e:RELATES_TO]-() ON (e.name)` already exists.} {position: None} for query: 'CREATE INDEX name_edge_index IF NOT EXISTS FOR ()-[e:RELATES_TO]-() ON (e.name)'\n",
      "2025-08-05 10:47:58 - neo4j.notifications - INFO - Received notification from DBMS server: {severity: INFORMATION} {code: Neo.ClientNotification.Schema.IndexOrConstraintAlreadyExists} {category: SCHEMA} {title: `CREATE RANGE INDEX created_at_edge_index IF NOT EXISTS FOR ()-[e:RELATES_TO]-() ON (e.created_at)` has no effect.} {description: `RANGE INDEX created_at_edge_index FOR ()-[e:RELATES_TO]-() ON (e.created_at)` already exists.} {position: None} for query: 'CREATE INDEX created_at_edge_index IF NOT EXISTS FOR ()-[e:RELATES_TO]-() ON (e.created_at)'\n",
      "2025-08-05 10:47:58 - neo4j.notifications - INFO - Received notification from DBMS server: {severity: INFORMATION} {code: Neo.ClientNotification.Schema.IndexOrConstraintAlreadyExists} {category: SCHEMA} {title: `CREATE RANGE INDEX expired_at_edge_index IF NOT EXISTS FOR ()-[e:RELATES_TO]-() ON (e.expired_at)` has no effect.} {description: `RANGE INDEX expired_at_edge_index FOR ()-[e:RELATES_TO]-() ON (e.expired_at)` already exists.} {position: None} for query: 'CREATE INDEX expired_at_edge_index IF NOT EXISTS FOR ()-[e:RELATES_TO]-() ON (e.expired_at)'\n",
      "2025-08-05 10:47:58 - neo4j.notifications - INFO - Received notification from DBMS server: {severity: INFORMATION} {code: Neo.ClientNotification.Schema.IndexOrConstraintAlreadyExists} {category: SCHEMA} {title: `CREATE RANGE INDEX valid_at_edge_index IF NOT EXISTS FOR ()-[e:RELATES_TO]-() ON (e.valid_at)` has no effect.} {description: `RANGE INDEX valid_at_edge_index FOR ()-[e:RELATES_TO]-() ON (e.valid_at)` already exists.} {position: None} for query: 'CREATE INDEX valid_at_edge_index IF NOT EXISTS FOR ()-[e:RELATES_TO]-() ON (e.valid_at)'\n",
      "2025-08-05 10:47:58 - neo4j.notifications - INFO - Received notification from DBMS server: {severity: INFORMATION} {code: Neo.ClientNotification.Schema.IndexOrConstraintAlreadyExists} {category: SCHEMA} {title: `CREATE RANGE INDEX invalid_at_edge_index IF NOT EXISTS FOR ()-[e:RELATES_TO]-() ON (e.invalid_at)` has no effect.} {description: `RANGE INDEX invalid_at_edge_index FOR ()-[e:RELATES_TO]-() ON (e.invalid_at)` already exists.} {position: None} for query: 'CREATE INDEX invalid_at_edge_index IF NOT EXISTS FOR ()-[e:RELATES_TO]-() ON (e.invalid_at)'\n",
      "2025-08-05 10:47:58 - neo4j.notifications - INFO - Received notification from DBMS server: {severity: INFORMATION} {code: Neo.ClientNotification.Schema.IndexOrConstraintAlreadyExists} {category: SCHEMA} {title: `CREATE FULLTEXT INDEX episode_content IF NOT EXISTS FOR (e:Episodic) ON EACH [e.content, e.source, e.source_description, e.group_id]` has no effect.} {description: `FULLTEXT INDEX episode_content FOR (e:Episodic) ON EACH [e.content, e.source, e.source_description, e.group_id]` already exists.} {position: None} for query: 'CREATE FULLTEXT INDEX episode_content IF NOT EXISTS\\n        FOR (e:Episodic) ON EACH [e.content, e.source, e.source_description, e.group_id]'\n",
      "2025-08-05 10:47:58 - neo4j.notifications - INFO - Received notification from DBMS server: {severity: INFORMATION} {code: Neo.ClientNotification.Schema.IndexOrConstraintAlreadyExists} {category: SCHEMA} {title: `CREATE FULLTEXT INDEX node_name_and_summary IF NOT EXISTS FOR (e:Entity) ON EACH [e.name, e.summary, e.group_id]` has no effect.} {description: `FULLTEXT INDEX node_name_and_summary FOR (e:Entity) ON EACH [e.name, e.summary, e.group_id]` already exists.} {position: None} for query: 'CREATE FULLTEXT INDEX node_name_and_summary IF NOT EXISTS\\n        FOR (n:Entity) ON EACH [n.name, n.summary, n.group_id]'\n",
      "2025-08-05 10:47:58 - neo4j.notifications - INFO - Received notification from DBMS server: {severity: INFORMATION} {code: Neo.ClientNotification.Schema.IndexOrConstraintAlreadyExists} {category: SCHEMA} {title: `CREATE FULLTEXT INDEX community_name IF NOT EXISTS FOR (e:Community) ON EACH [e.name, e.group_id]` has no effect.} {description: `FULLTEXT INDEX community_name FOR (e:Community) ON EACH [e.name, e.group_id]` already exists.} {position: None} for query: 'CREATE FULLTEXT INDEX community_name IF NOT EXISTS\\n        FOR (n:Community) ON EACH [n.name, n.group_id]'\n",
      "2025-08-05 10:47:58 - neo4j.notifications - INFO - Received notification from DBMS server: {severity: INFORMATION} {code: Neo.ClientNotification.Schema.IndexOrConstraintAlreadyExists} {category: SCHEMA} {title: `CREATE FULLTEXT INDEX edge_name_and_fact IF NOT EXISTS FOR ()-[e:RELATES_TO]-() ON EACH [e.name, e.fact, e.group_id]` has no effect.} {description: `FULLTEXT INDEX edge_name_and_fact FOR ()-[e:RELATES_TO]-() ON EACH [e.name, e.fact, e.group_id]` already exists.} {position: None} for query: 'CREATE FULLTEXT INDEX edge_name_and_fact IF NOT EXISTS\\n        FOR ()-[e:RELATES_TO]-() ON EACH [e.name, e.fact, e.group_id]'\n"
     ]
    }
   ],
   "execution_count": 6
  },
  {
   "metadata": {
    "ExecuteTime": {
     "end_time": "2025-08-05T17:50:53.965545Z",
     "start_time": "2025-08-05T17:48:36.317829Z"
    }
   },
   "cell_type": "code",
   "source": [
    "# Ingest episodes into Graphiti\n",
    "#   - This will create our knowledge graph in Neo4j (http://localhost:7474/browser/preview/)\n",
    "\n",
    "# Episodes about Kamala Harris, Gavin Newsom, and the political roles they play in California\n",
    "#   - Notice that some episodes are structured (JSON) and some are unstructured (raw text)\n",
    "episodes = [\n",
    "    {\n",
    "        'content': 'Kamala Harris is the Attorney General of California. She was previously '\n",
    "        'the district attorney for San Francisco.',\n",
    "        'type': EpisodeType.text,\n",
    "        'description': 'podcast transcript',\n",
    "    },\n",
    "    {\n",
    "        'content': 'As AG, Harris was in office from January 3, 2011 – January 3, 2017',\n",
    "        'type': EpisodeType.text,\n",
    "        'description': 'podcast transcript',\n",
    "    },\n",
    "    {\n",
    "        'content': {\n",
    "            'name': 'Gavin Newsom',\n",
    "            'position': 'Governor',\n",
    "            'state': 'California',\n",
    "            'previous_role': 'Lieutenant Governor',\n",
    "            'previous_location': 'San Francisco',\n",
    "        },\n",
    "        'type': EpisodeType.json,\n",
    "        'description': 'podcast metadata',\n",
    "    },\n",
    "    {\n",
    "        'content': {\n",
    "            'name': 'Gavin Newsom',\n",
    "            'position': 'Governor',\n",
    "            'term_start': 'January 7, 2019',\n",
    "            'term_end': 'Present',\n",
    "        },\n",
    "        'type': EpisodeType.json,\n",
    "        'description': 'podcast metadata',\n",
    "    },\n",
    "]\n",
    "\n",
    "# Ingest episodes\n",
    "for i, episode in enumerate(episodes):\n",
    "    await graphiti.add_episode(\n",
    "        name=f'Freakonomics Radio {i}',\n",
    "        episode_body=episode['content']\n",
    "        if isinstance(episode['content'], str)\n",
    "        else json.dumps(episode['content']),\n",
    "        source=episode['type'],\n",
    "        source_description=episode['description'],\n",
    "        reference_time=datetime.now(timezone.utc),\n",
    "    )\n",
    "    print(f'Added episode: Freakonomics Radio {i} ({episode[\"type\"].value})')"
   ],
   "id": "22fd02a8021ed786",
   "outputs": [
    {
     "name": "stderr",
     "output_type": "stream",
     "text": [
      "2025-08-05 10:48:45 - httpx - INFO - HTTP Request: POST http://localhost:11434/v1/chat/completions \"HTTP/1.1 200 OK\"\n",
      "2025-08-05 10:48:46 - httpx - INFO - HTTP Request: POST http://localhost:11434/v1/embeddings \"HTTP/1.1 200 OK\"\n",
      "2025-08-05 10:48:46 - httpx - INFO - HTTP Request: POST http://localhost:11434/v1/embeddings \"HTTP/1.1 200 OK\"\n",
      "2025-08-05 10:48:46 - httpx - INFO - HTTP Request: POST http://localhost:11434/v1/embeddings \"HTTP/1.1 200 OK\"\n",
      "2025-08-05 10:48:46 - httpx - INFO - HTTP Request: POST http://localhost:11434/v1/embeddings \"HTTP/1.1 200 OK\"\n",
      "2025-08-05 10:48:46 - httpx - INFO - HTTP Request: POST http://localhost:11434/v1/embeddings \"HTTP/1.1 200 OK\"\n",
      "2025-08-05 10:48:57 - httpx - INFO - HTTP Request: POST http://localhost:11434/v1/chat/completions \"HTTP/1.1 200 OK\"\n",
      "2025-08-05 10:49:09 - httpx - INFO - HTTP Request: POST http://localhost:11434/v1/chat/completions \"HTTP/1.1 200 OK\"\n",
      "2025-08-05 10:49:09 - httpx - INFO - HTTP Request: POST http://localhost:11434/v1/embeddings \"HTTP/1.1 200 OK\"\n",
      "2025-08-05 10:49:09 - httpx - INFO - HTTP Request: POST http://localhost:11434/v1/embeddings \"HTTP/1.1 200 OK\"\n",
      "2025-08-05 10:49:10 - httpx - INFO - HTTP Request: POST http://localhost:11434/v1/chat/completions \"HTTP/1.1 200 OK\"\n",
      "2025-08-05 10:49:11 - httpx - INFO - HTTP Request: POST http://localhost:11434/v1/chat/completions \"HTTP/1.1 200 OK\"\n",
      "2025-08-05 10:49:12 - httpx - INFO - HTTP Request: POST http://localhost:11434/v1/chat/completions \"HTTP/1.1 200 OK\"\n",
      "2025-08-05 10:49:13 - httpx - INFO - HTTP Request: POST http://localhost:11434/v1/chat/completions \"HTTP/1.1 200 OK\"\n",
      "2025-08-05 10:49:14 - httpx - INFO - HTTP Request: POST http://localhost:11434/v1/chat/completions \"HTTP/1.1 200 OK\"\n",
      "2025-08-05 10:49:14 - httpx - INFO - HTTP Request: POST http://localhost:11434/v1/embeddings \"HTTP/1.1 200 OK\"\n",
      "2025-08-05 10:49:14 - graphiti_core.graphiti - INFO - Completed add_episode in 38494.07196044922 ms\n"
     ]
    },
    {
     "name": "stdout",
     "output_type": "stream",
     "text": [
      "Added episode: Freakonomics Radio 0 (text)\n"
     ]
    },
    {
     "name": "stderr",
     "output_type": "stream",
     "text": [
      "2025-08-05 10:49:18 - httpx - INFO - HTTP Request: POST http://localhost:11434/v1/chat/completions \"HTTP/1.1 200 OK\"\n",
      "2025-08-05 10:49:18 - httpx - INFO - HTTP Request: POST http://localhost:11434/v1/embeddings \"HTTP/1.1 200 OK\"\n",
      "2025-08-05 10:49:18 - httpx - INFO - HTTP Request: POST http://localhost:11434/v1/embeddings \"HTTP/1.1 200 OK\"\n",
      "2025-08-05 10:49:18 - httpx - INFO - HTTP Request: POST http://localhost:11434/v1/embeddings \"HTTP/1.1 200 OK\"\n",
      "2025-08-05 10:49:18 - httpx - INFO - HTTP Request: POST http://localhost:11434/v1/embeddings \"HTTP/1.1 200 OK\"\n",
      "2025-08-05 10:49:24 - httpx - INFO - HTTP Request: POST http://localhost:11434/v1/chat/completions \"HTTP/1.1 200 OK\"\n",
      "2025-08-05 10:49:39 - httpx - INFO - HTTP Request: POST http://localhost:11434/v1/chat/completions \"HTTP/1.1 200 OK\"\n",
      "2025-08-05 10:49:39 - httpx - INFO - HTTP Request: POST http://localhost:11434/v1/embeddings \"HTTP/1.1 200 OK\"\n",
      "2025-08-05 10:49:41 - httpx - INFO - HTTP Request: POST http://localhost:11434/v1/chat/completions \"HTTP/1.1 200 OK\"\n",
      "2025-08-05 10:49:43 - httpx - INFO - HTTP Request: POST http://localhost:11434/v1/chat/completions \"HTTP/1.1 200 OK\"\n",
      "2025-08-05 10:49:44 - httpx - INFO - HTTP Request: POST http://localhost:11434/v1/chat/completions \"HTTP/1.1 200 OK\"\n",
      "2025-08-05 10:49:46 - httpx - INFO - HTTP Request: POST http://localhost:11434/v1/chat/completions \"HTTP/1.1 200 OK\"\n",
      "2025-08-05 10:49:46 - httpx - INFO - HTTP Request: POST http://localhost:11434/v1/embeddings \"HTTP/1.1 200 OK\"\n",
      "2025-08-05 10:49:48 - httpx - INFO - HTTP Request: POST http://localhost:11434/v1/chat/completions \"HTTP/1.1 200 OK\"\n",
      "2025-08-05 10:49:48 - httpx - INFO - HTTP Request: POST http://localhost:11434/v1/embeddings \"HTTP/1.1 200 OK\"\n",
      "2025-08-05 10:49:48 - httpx - INFO - HTTP Request: POST http://localhost:11434/v1/embeddings \"HTTP/1.1 200 OK\"\n",
      "2025-08-05 10:49:48 - httpx - INFO - HTTP Request: POST http://localhost:11434/v1/embeddings \"HTTP/1.1 200 OK\"\n",
      "2025-08-05 10:49:48 - httpx - INFO - HTTP Request: POST http://localhost:11434/v1/embeddings \"HTTP/1.1 200 OK\"\n",
      "2025-08-05 10:49:48 - httpx - INFO - HTTP Request: POST http://localhost:11434/v1/embeddings \"HTTP/1.1 200 OK\"\n",
      "2025-08-05 10:49:48 - httpx - INFO - HTTP Request: POST http://localhost:11434/v1/embeddings \"HTTP/1.1 200 OK\"\n",
      "2025-08-05 10:49:48 - httpx - INFO - HTTP Request: POST http://localhost:11434/v1/embeddings \"HTTP/1.1 200 OK\"\n",
      "2025-08-05 10:49:48 - graphiti_core.graphiti - INFO - Completed add_episode in 33663.38586807251 ms\n"
     ]
    },
    {
     "name": "stdout",
     "output_type": "stream",
     "text": [
      "Added episode: Freakonomics Radio 1 (text)\n"
     ]
    },
    {
     "name": "stderr",
     "output_type": "stream",
     "text": [
      "2025-08-05 10:49:52 - httpx - INFO - HTTP Request: POST http://localhost:11434/v1/chat/completions \"HTTP/1.1 200 OK\"\n",
      "2025-08-05 10:49:52 - httpx - INFO - HTTP Request: POST http://localhost:11434/v1/embeddings \"HTTP/1.1 200 OK\"\n",
      "2025-08-05 10:49:52 - httpx - INFO - HTTP Request: POST http://localhost:11434/v1/embeddings \"HTTP/1.1 200 OK\"\n",
      "2025-08-05 10:49:52 - httpx - INFO - HTTP Request: POST http://localhost:11434/v1/embeddings \"HTTP/1.1 200 OK\"\n",
      "2025-08-05 10:49:52 - httpx - INFO - HTTP Request: POST http://localhost:11434/v1/embeddings \"HTTP/1.1 200 OK\"\n",
      "2025-08-05 10:49:52 - httpx - INFO - HTTP Request: POST http://localhost:11434/v1/embeddings \"HTTP/1.1 200 OK\"\n",
      "2025-08-05 10:50:02 - httpx - INFO - HTTP Request: POST http://localhost:11434/v1/chat/completions \"HTTP/1.1 200 OK\"\n",
      "2025-08-05 10:50:16 - httpx - INFO - HTTP Request: POST http://localhost:11434/v1/chat/completions \"HTTP/1.1 200 OK\"\n",
      "2025-08-05 10:50:16 - httpx - INFO - HTTP Request: POST http://localhost:11434/v1/embeddings \"HTTP/1.1 200 OK\"\n",
      "2025-08-05 10:50:17 - httpx - INFO - HTTP Request: POST http://localhost:11434/v1/chat/completions \"HTTP/1.1 200 OK\"\n",
      "2025-08-05 10:50:19 - httpx - INFO - HTTP Request: POST http://localhost:11434/v1/chat/completions \"HTTP/1.1 200 OK\"\n",
      "2025-08-05 10:50:20 - httpx - INFO - HTTP Request: POST http://localhost:11434/v1/chat/completions \"HTTP/1.1 200 OK\"\n",
      "2025-08-05 10:50:22 - httpx - INFO - HTTP Request: POST http://localhost:11434/v1/chat/completions \"HTTP/1.1 200 OK\"\n",
      "2025-08-05 10:50:23 - httpx - INFO - HTTP Request: POST http://localhost:11434/v1/chat/completions \"HTTP/1.1 200 OK\"\n",
      "2025-08-05 10:50:23 - httpx - INFO - HTTP Request: POST http://localhost:11434/v1/embeddings \"HTTP/1.1 200 OK\"\n",
      "2025-08-05 10:50:25 - httpx - INFO - HTTP Request: POST http://localhost:11434/v1/chat/completions \"HTTP/1.1 200 OK\"\n",
      "2025-08-05 10:50:27 - httpx - INFO - HTTP Request: POST http://localhost:11434/v1/chat/completions \"HTTP/1.1 200 OK\"\n",
      "2025-08-05 10:50:29 - httpx - INFO - HTTP Request: POST http://localhost:11434/v1/chat/completions \"HTTP/1.1 200 OK\"\n",
      "2025-08-05 10:50:29 - httpx - INFO - HTTP Request: POST http://localhost:11434/v1/embeddings \"HTTP/1.1 200 OK\"\n",
      "2025-08-05 10:50:29 - httpx - INFO - HTTP Request: POST http://localhost:11434/v1/embeddings \"HTTP/1.1 200 OK\"\n",
      "2025-08-05 10:50:29 - httpx - INFO - HTTP Request: POST http://localhost:11434/v1/embeddings \"HTTP/1.1 200 OK\"\n",
      "2025-08-05 10:50:29 - httpx - INFO - HTTP Request: POST http://localhost:11434/v1/embeddings \"HTTP/1.1 200 OK\"\n",
      "2025-08-05 10:50:29 - httpx - INFO - HTTP Request: POST http://localhost:11434/v1/embeddings \"HTTP/1.1 200 OK\"\n",
      "2025-08-05 10:50:29 - graphiti_core.graphiti - INFO - Completed add_episode in 41159.85727310181 ms\n"
     ]
    },
    {
     "name": "stdout",
     "output_type": "stream",
     "text": [
      "Added episode: Freakonomics Radio 2 (json)\n"
     ]
    },
    {
     "name": "stderr",
     "output_type": "stream",
     "text": [
      "2025-08-05 10:50:31 - httpx - INFO - HTTP Request: POST http://localhost:11434/v1/chat/completions \"HTTP/1.1 200 OK\"\n",
      "2025-08-05 10:50:31 - httpx - INFO - HTTP Request: POST http://localhost:11434/v1/embeddings \"HTTP/1.1 200 OK\"\n",
      "2025-08-05 10:50:41 - httpx - INFO - HTTP Request: POST http://localhost:11434/v1/chat/completions \"HTTP/1.1 200 OK\"\n",
      "2025-08-05 10:50:46 - httpx - INFO - HTTP Request: POST http://localhost:11434/v1/chat/completions \"HTTP/1.1 200 OK\"\n",
      "2025-08-05 10:50:46 - httpx - INFO - HTTP Request: POST http://localhost:11434/v1/embeddings \"HTTP/1.1 200 OK\"\n",
      "2025-08-05 10:50:48 - httpx - INFO - HTTP Request: POST http://localhost:11434/v1/chat/completions \"HTTP/1.1 200 OK\"\n",
      "2025-08-05 10:50:48 - httpx - INFO - HTTP Request: POST http://localhost:11434/v1/embeddings \"HTTP/1.1 200 OK\"\n",
      "2025-08-05 10:50:50 - httpx - INFO - HTTP Request: POST http://localhost:11434/v1/chat/completions \"HTTP/1.1 200 OK\"\n",
      "2025-08-05 10:50:52 - httpx - INFO - HTTP Request: POST http://localhost:11434/v1/chat/completions \"HTTP/1.1 200 OK\"\n",
      "2025-08-05 10:50:53 - httpx - INFO - HTTP Request: POST http://localhost:11434/v1/chat/completions \"HTTP/1.1 200 OK\"\n",
      "2025-08-05 10:50:53 - httpx - INFO - HTTP Request: POST http://localhost:11434/v1/embeddings \"HTTP/1.1 200 OK\"\n",
      "2025-08-05 10:50:53 - httpx - INFO - HTTP Request: POST http://localhost:11434/v1/embeddings \"HTTP/1.1 200 OK\"\n",
      "2025-08-05 10:50:53 - graphiti_core.graphiti - INFO - Completed add_episode in 24325.011014938354 ms\n"
     ]
    },
    {
     "name": "stdout",
     "output_type": "stream",
     "text": [
      "Added episode: Freakonomics Radio 3 (json)\n"
     ]
    }
   ],
   "execution_count": 7
  },
  {
   "metadata": {
    "ExecuteTime": {
     "end_time": "2025-08-05T17:52:26.878740Z",
     "start_time": "2025-08-05T17:52:26.799031Z"
    }
   },
   "cell_type": "code",
   "source": [
    "# Basic Search\n",
    "#   - Analogous to searching a vector database.\n",
    "#   - Note that some data has an \"invalid_at\" date. Data in Graphiti is expected to always be changing\n",
    "#     and evolving. Facts are true for valid for a time until they're invalidated by more recent facts.\n",
    "\n",
    "# Perform a hybrid search combining semantic similarity and BM25 retrieval\n",
    "print(\"\\nSearching for: 'Who was the California Attorney General?'\")\n",
    "results = await graphiti.search('Who was the California Attorney General?')\n",
    "\n",
    "# Print search results\n",
    "print('\\nSearch Results:')\n",
    "for result in results:\n",
    "    print(f'UUID: {result.uuid}')\n",
    "    print(f'Fact: {result.fact}')\n",
    "    if hasattr(result, 'valid_at') and result.valid_at:\n",
    "        print(f'Valid from: {result.valid_at}')\n",
    "    if hasattr(result, 'invalid_at') and result.invalid_at:\n",
    "        print(f'Valid until: {result.invalid_at}')\n",
    "    print('---')"
   ],
   "id": "1de81552d431d92a",
   "outputs": [
    {
     "name": "stderr",
     "output_type": "stream",
     "text": [
      "2025-08-05 10:52:26 - httpx - INFO - HTTP Request: POST http://localhost:11434/v1/embeddings \"HTTP/1.1 200 OK\"\n"
     ]
    },
    {
     "name": "stdout",
     "output_type": "stream",
     "text": [
      "\n",
      "Searching for: 'Who was the California Attorney General?'\n",
      "\n",
      "Search Results:\n",
      "UUID: 05f3535a-4bfc-44f9-9f3f-b60ac4ca107d\n",
      "Fact: Kamala Harris is the Attorney General of California.\n",
      "Valid from: 2025-08-05 17:48:36.319499+00:00\n",
      "---\n",
      "UUID: da7fb298-ae23-4096-8f0a-0708a78a7ab3\n",
      "Fact: Kamala Harris is the Attorney General of California.\n",
      "Valid from: 2025-08-05 17:48:36.319499+00:00\n",
      "Valid until: 2025-08-05 17:49:48.478255+00:00\n",
      "---\n",
      "UUID: c117f6e1-61f9-4335-ae7f-6df2021813fa\n",
      "Fact: Gavin Newsom is the Governor of California.\n",
      "Valid from: 2025-08-05 17:49:48.478255+00:00\n",
      "---\n",
      "UUID: 30d029e3-04c2-48d7-9353-ed96e3c88989\n",
      "Fact: Gavin Newsom is the Governor of California.\n",
      "Valid from: 2025-08-05 17:50:29.638794+00:00\n",
      "---\n",
      "UUID: 2860bc1b-0644-4ed2-bbfe-ad45d02b4c08\n",
      "Fact: She was previously the district attorney for San Francisco.\n",
      "Valid from: 2025-08-05 17:48:36.319499+00:00\n",
      "---\n",
      "UUID: ff4296fa-9fda-4ff4-be26-dd664feda615\n",
      "Fact: district attorney for San Francisco\n",
      "Valid from: 2025-08-05 17:48:36.319499+00:00\n",
      "---\n",
      "UUID: 6a76cc73-e5c9-4bff-a2ad-af322db2a1ee\n",
      "Fact: Gavin Newsom's term as Governor is present.\n",
      "Valid from: 2025-08-05 17:50:29.638794+00:00\n",
      "---\n",
      "UUID: d8b3be56-8b78-422e-9c7a-698178b8e4e8\n",
      "Fact: Gavin Newsom was formerly a Lieutenant Governor.\n",
      "Valid from: 2025-08-05 17:49:48.478255+00:00\n",
      "---\n",
      "UUID: 4be12d5a-969b-4744-b377-fb2d8d5b2ad9\n",
      "Fact: Gavin Newsom's term as Governor started on January 7, 2019.\n",
      "Valid from: 2019-01-07 00:00:00+00:00\n",
      "---\n",
      "UUID: 86bf502e-1ff3-4741-9947-269abe6bddc4\n",
      "Fact: Gavin Newsom was formerly located in San Francisco.\n",
      "Valid from: 2025-08-05 17:49:48.478255+00:00\n",
      "---\n"
     ]
    }
   ],
   "execution_count": 8
  },
  {
   "metadata": {
    "ExecuteTime": {
     "end_time": "2025-08-05T18:10:06.302542Z",
     "start_time": "2025-08-05T18:10:05.951830Z"
    }
   },
   "cell_type": "code",
   "source": [
    "# Center node search\n",
    "#   - We can leverage the properties of a knowledge graph to get better search results.\n",
    "#   - Above, we were retrieving facts about Gavin Newsom when we were expecting facts only on the California\n",
    "#     Attorney General which is Kamala Harris.\n",
    "#       - The first result from our basic similarity search (\"Kamala Harris is the Attorney General of\n",
    "#         California\") is accurate and closely related to the original query.\n",
    "#       - We can do a center node search from this \"good\" result to retrieve facts ranked by their \"distance\" to\n",
    "#         Kamala Harris in the knowledge graph. This essentially selects for facts that are relevant to Kamala Harris.\n",
    "\n",
    "# Use the top search result's UUID as the center node for reranking\n",
    "if results and len(results) > 0:\n",
    "    # Get the source node UUID from the top result\n",
    "    center_node_uuid = results[0].source_node_uuid\n",
    "\n",
    "    print('\\nReranking search results based on graph distance:')\n",
    "    print(f'Using center node UUID: {center_node_uuid}')\n",
    "\n",
    "    reranked_results = await graphiti.search(\n",
    "        'Who was the California Attorney General?', center_node_uuid=center_node_uuid\n",
    "    )\n",
    "\n",
    "    # Print reranked search results\n",
    "    print('\\nReranked Search Results:')\n",
    "    for result in reranked_results:\n",
    "        print(f'UUID: {result.uuid}')\n",
    "        print(f'Fact: {result.fact}')\n",
    "        if hasattr(result, 'valid_at') and result.valid_at:\n",
    "            print(f'Valid from: {result.valid_at}')\n",
    "        if hasattr(result, 'invalid_at') and result.invalid_at:\n",
    "            print(f'Valid until: {result.invalid_at}')\n",
    "        print('---')\n",
    "else:\n",
    "    print('No results found in the initial search to use as center node.')"
   ],
   "id": "68ba1e1f2ebdd7a2",
   "outputs": [
    {
     "name": "stdout",
     "output_type": "stream",
     "text": [
      "\n",
      "Reranking search results based on graph distance:\n",
      "Using center node UUID: d5ae65cb-8f15-4bac-8d0a-8185786d6bae\n"
     ]
    },
    {
     "name": "stderr",
     "output_type": "stream",
     "text": [
      "2025-08-05 11:10:06 - httpx - INFO - HTTP Request: POST http://localhost:11434/v1/embeddings \"HTTP/1.1 200 OK\"\n"
     ]
    },
    {
     "name": "stdout",
     "output_type": "stream",
     "text": [
      "\n",
      "Reranked Search Results:\n",
      "UUID: 05f3535a-4bfc-44f9-9f3f-b60ac4ca107d\n",
      "Fact: Kamala Harris is the Attorney General of California.\n",
      "Valid from: 2025-08-05 17:48:36.319499+00:00\n",
      "---\n",
      "UUID: 2860bc1b-0644-4ed2-bbfe-ad45d02b4c08\n",
      "Fact: She was previously the district attorney for San Francisco.\n",
      "Valid from: 2025-08-05 17:48:36.319499+00:00\n",
      "---\n",
      "UUID: 534bf21a-78a9-497c-a62d-af42e9111b0e\n",
      "Fact: Kamala Harris was in office from January 3, 2011 – January 3, 2017\n",
      "Valid from: 2025-08-05 17:49:14.813973+00:00\n",
      "Valid until: 2017-01-03 00:00:00+00:00\n",
      "---\n",
      "UUID: da7fb298-ae23-4096-8f0a-0708a78a7ab3\n",
      "Fact: Kamala Harris is the Attorney General of California.\n",
      "Valid from: 2025-08-05 17:48:36.319499+00:00\n",
      "Valid until: 2025-08-05 17:49:48.478255+00:00\n",
      "---\n",
      "UUID: 86bf502e-1ff3-4741-9947-269abe6bddc4\n",
      "Fact: Gavin Newsom was formerly located in San Francisco.\n",
      "Valid from: 2025-08-05 17:49:48.478255+00:00\n",
      "---\n",
      "UUID: ff4296fa-9fda-4ff4-be26-dd664feda615\n",
      "Fact: district attorney for San Francisco\n",
      "Valid from: 2025-08-05 17:48:36.319499+00:00\n",
      "---\n",
      "UUID: c117f6e1-61f9-4335-ae7f-6df2021813fa\n",
      "Fact: Gavin Newsom is the Governor of California.\n",
      "Valid from: 2025-08-05 17:49:48.478255+00:00\n",
      "---\n",
      "UUID: 30d029e3-04c2-48d7-9353-ed96e3c88989\n",
      "Fact: Gavin Newsom is the Governor of California.\n",
      "Valid from: 2025-08-05 17:50:29.638794+00:00\n",
      "---\n",
      "UUID: 6a76cc73-e5c9-4bff-a2ad-af322db2a1ee\n",
      "Fact: Gavin Newsom's term as Governor is present.\n",
      "Valid from: 2025-08-05 17:50:29.638794+00:00\n",
      "---\n",
      "UUID: d8b3be56-8b78-422e-9c7a-698178b8e4e8\n",
      "Fact: Gavin Newsom was formerly a Lieutenant Governor.\n",
      "Valid from: 2025-08-05 17:49:48.478255+00:00\n",
      "---\n"
     ]
    }
   ],
   "execution_count": 9
  },
  {
   "metadata": {
    "ExecuteTime": {
     "end_time": "2025-08-05T18:11:25.944569Z",
     "start_time": "2025-08-05T18:11:25.880660Z"
    }
   },
   "cell_type": "code",
   "source": [
    "# Node Search Using Search Recipes\n",
    "#   - Up to now, we've been retrieving edges (facts) from the knowledge graph.\n",
    "#   - Graphiti also allows us to retrieve nodes directly (concepts).\n",
    "\n",
    "print('\\nPerforming node search using _search method with standard recipe NODE_HYBRID_SEARCH_RRF:')\n",
    "\n",
    "# Use a predefined search configuration recipe and modify its limit\n",
    "node_search_config = NODE_HYBRID_SEARCH_RRF.model_copy(deep=True)\n",
    "node_search_config.limit = 5  # Limit to 5 results\n",
    "\n",
    "# Execute the node search\n",
    "node_search_results = await graphiti._search(\n",
    "    query='California Governor',\n",
    "    config=node_search_config,\n",
    ")\n",
    "\n",
    "# Print node search results\n",
    "print('\\nNode Search Results:')\n",
    "for node in node_search_results.nodes:\n",
    "    print(f'Node UUID: {node.uuid}')\n",
    "    print(f'Node Name: {node.name}')\n",
    "    node_summary = node.summary[:100] + '...' if len(node.summary) > 100 else node.summary\n",
    "    print(f'Content Summary: {node_summary}')\n",
    "    print(f\"Node Labels: {', '.join(node.labels)}\")\n",
    "    print(f'Created At: {node.created_at}')\n",
    "    if hasattr(node, 'attributes') and node.attributes:\n",
    "        print('Attributes:')\n",
    "        for key, value in node.attributes.items():\n",
    "            print(f'  {key}: {value}')\n",
    "    print('---')"
   ],
   "id": "5b901142b733250c",
   "outputs": [
    {
     "name": "stderr",
     "output_type": "stream",
     "text": [
      "2025-08-05 11:11:25 - httpx - INFO - HTTP Request: POST http://localhost:11434/v1/embeddings \"HTTP/1.1 200 OK\"\n"
     ]
    },
    {
     "name": "stdout",
     "output_type": "stream",
     "text": [
      "\n",
      "Performing node search using _search method with standard recipe NODE_HYBRID_SEARCH_RRF:\n",
      "\n",
      "Node Search Results:\n",
      "Node UUID: ecbd3386-9b47-4e09-880b-821cbb2c6d88\n",
      "Node Name: Governor\n",
      "Content Summary: Gavin Newsom is the Governor of California. He was previously the Lieutenant Governor and was locate...\n",
      "Node Labels: Entity\n",
      "Created At: 2025-08-05 17:49:52.589209+00:00\n",
      "Attributes:\n",
      "  labels: ['Entity']\n",
      "---\n",
      "Node UUID: ca8da3c2-6acd-4bf2-a13b-75b6ffb73d39\n",
      "Node Name: California\n",
      "Content Summary: Gavin Newsom is the Governor of California. He was previously the Lieutenant Governor and was locate...\n",
      "Node Labels: Entity\n",
      "Created At: 2025-08-05 17:48:45.648571+00:00\n",
      "Attributes:\n",
      "  labels: ['Entity']\n",
      "---\n",
      "Node UUID: 60c3bb99-20de-4185-9f20-75702c43da9a\n",
      "Node Name: Attorney General\n",
      "Content Summary: Gavin Newsom is the Governor of California. He was previously the Lieutenant Governor and was locate...\n",
      "Node Labels: Entity\n",
      "Created At: 2025-08-05 17:48:45.648553+00:00\n",
      "Attributes:\n",
      "  labels: ['Entity']\n",
      "---\n",
      "Node UUID: 86ef3266-76dc-4263-977b-74d32ad7167e\n",
      "Node Name: San Francisco\n",
      "Content Summary: Gavin Newsom is the current Governor of California. He was previously the Lieutenant Governor and wa...\n",
      "Node Labels: Entity\n",
      "Created At: 2025-08-05 17:48:45.648592+00:00\n",
      "Attributes:\n",
      "  labels: ['Entity']\n",
      "---\n",
      "Node UUID: d5ae65cb-8f15-4bac-8d0a-8185786d6bae\n",
      "Node Name: Kamala Harris\n",
      "Content Summary: Kamala Harris is the Attorney General of California. She was previously the district attorney for Sa...\n",
      "Node Labels: Entity\n",
      "Created At: 2025-08-05 17:48:45.648147+00:00\n",
      "Attributes:\n",
      "  labels: ['Entity']\n",
      "---\n"
     ]
    }
   ],
   "execution_count": 10
  }
 ],
 "metadata": {
  "kernelspec": {
   "display_name": "Python 3",
   "language": "python",
   "name": "python3"
  },
  "language_info": {
   "codemirror_mode": {
    "name": "ipython",
    "version": 2
   },
   "file_extension": ".py",
   "mimetype": "text/x-python",
   "name": "python",
   "nbconvert_exporter": "python",
   "pygments_lexer": "ipython2",
   "version": "2.7.6"
  }
 },
 "nbformat": 4,
 "nbformat_minor": 5
}
