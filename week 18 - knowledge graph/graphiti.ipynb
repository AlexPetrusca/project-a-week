{
 "cells": [
  {
   "metadata": {
    "ExecuteTime": {
     "end_time": "2025-08-05T16:58:34.181245Z",
     "start_time": "2025-08-05T16:58:34.168243Z"
    }
   },
   "cell_type": "code",
   "source": [
    "from dotenv import load_dotenv\n",
    "load_dotenv() # load environment variables"
   ],
   "id": "c66c0fc97efa741c",
   "outputs": [
    {
     "data": {
      "text/plain": [
       "False"
      ]
     },
     "execution_count": 1,
     "metadata": {},
     "output_type": "execute_result"
    }
   ],
   "execution_count": 1
  },
  {
   "metadata": {
    "ExecuteTime": {
     "end_time": "2025-08-05T16:58:34.750259Z",
     "start_time": "2025-08-05T16:58:34.276989Z"
    }
   },
   "cell_type": "code",
   "source": [
    "import asyncio\n",
    "import json\n",
    "import logging\n",
    "import os\n",
    "from datetime import datetime, timezone\n",
    "from logging import INFO\n",
    "\n",
    "from graphiti_core import Graphiti\n",
    "from graphiti_core.nodes import EpisodeType\n",
    "from graphiti_core.search.search_config_recipes import NODE_HYBRID_SEARCH_RRF"
   ],
   "id": "1bb35891374044e2",
   "outputs": [],
   "execution_count": 2
  },
  {
   "metadata": {
    "ExecuteTime": {
     "end_time": "2025-08-05T16:58:34.761633Z",
     "start_time": "2025-08-05T16:58:34.759650Z"
    }
   },
   "cell_type": "code",
   "source": [
    "# Set up logging and environment variables for connecting to the Neo4j database\n",
    "\n",
    "# Configure logging\n",
    "logging.basicConfig(\n",
    "    level=INFO,\n",
    "    format='%(asctime)s - %(name)s - %(levelname)s - %(message)s',\n",
    "    datefmt='%Y-%m-%d %H:%M:%S',\n",
    ")\n",
    "logger = logging.getLogger(__name__)\n",
    "\n",
    "# Neo4j connection parameters\n",
    "# Make sure Neo4j Desktop is running with a local DBMS started\n",
    "neo4j_uri = os.environ.get('NEO4J_URI', 'bolt://localhost:7687')\n",
    "neo4j_user = os.environ.get('NEO4J_USER', 'neo4j')\n",
    "neo4j_password = os.environ.get('NEO4J_PASSWORD', \"password\")\n",
    "\n",
    "if not neo4j_uri or not neo4j_user or not neo4j_password:\n",
    "    raise ValueError('NEO4J_URI, NEO4J_USER, and NEO4J_PASSWORD must be set')"
   ],
   "id": "f46b7f6575cdc0e4",
   "outputs": [],
   "execution_count": 3
  },
  {
   "metadata": {
    "ExecuteTime": {
     "end_time": "2025-08-05T16:58:34.850571Z",
     "start_time": "2025-08-05T16:58:34.768600Z"
    }
   },
   "cell_type": "code",
   "source": [
    "# Configure Graphiti for Ollama\n",
    "\n",
    "from graphiti_core import Graphiti\n",
    "from graphiti_core.llm_client.config import LLMConfig\n",
    "from graphiti_core.llm_client.openai_client import OpenAIClient\n",
    "from graphiti_core.embedder.openai import OpenAIEmbedder, OpenAIEmbedderConfig\n",
    "from graphiti_core.cross_encoder.openai_reranker_client import OpenAIRerankerClient\n",
    "\n",
    "# Configure Ollama LLM client\n",
    "llm_config = LLMConfig(\n",
    "    api_key=\"abc\",  # Ollama doesn't require a real API key\n",
    "    model=\"gemma3n\",\n",
    "    small_model=\"gemma3n\",\n",
    "    base_url=\"http://localhost:11434/v1\",  # Ollama provides this port\n",
    ")\n",
    "llm_client = OpenAIClient(config=llm_config)\n",
    "\n",
    "# Initialize Graphiti with Ollama clients\n",
    "graphiti = Graphiti(\n",
    "    neo4j_uri,\n",
    "    neo4j_user,\n",
    "    neo4j_password,\n",
    "    llm_client=llm_client,\n",
    "    embedder=OpenAIEmbedder(\n",
    "        config=OpenAIEmbedderConfig(\n",
    "            api_key=\"abc\",\n",
    "            embedding_model=\"nomic-embed-text\",\n",
    "            embedding_dim=768,\n",
    "            base_url=\"http://localhost:11434/v1\",\n",
    "        )\n",
    "    ),\n",
    "    cross_encoder=OpenAIRerankerClient(client=llm_client, config=llm_config),\n",
    ")\n",
    "\n",
    "# Initialize the graph database with graphiti's indices. This only needs to be done once.\n",
    "graphiti.build_indices_and_constraints()"
   ],
   "id": "644656c76fd1e7bd",
   "outputs": [
    {
     "data": {
      "text/plain": [
       "<coroutine object Graphiti.build_indices_and_constraints at 0x107e3b030>"
      ]
     },
     "execution_count": 4,
     "metadata": {},
     "output_type": "execute_result"
    }
   ],
   "execution_count": 4
  },
  {
   "metadata": {
    "ExecuteTime": {
     "end_time": "2025-08-05T17:00:59.214441Z",
     "start_time": "2025-08-05T16:58:34.858Z"
    }
   },
   "cell_type": "code",
   "source": [
    "episodes = [\n",
    "    {\n",
    "        'content': 'Kamala Harris is the Attorney General of California. She was previously '\n",
    "        'the district attorney for San Francisco.',\n",
    "        'type': EpisodeType.text,\n",
    "        'description': 'podcast transcript',\n",
    "    },\n",
    "    {\n",
    "        'content': 'As AG, Harris was in office from January 3, 2011 – January 3, 2017',\n",
    "        'type': EpisodeType.text,\n",
    "        'description': 'podcast transcript',\n",
    "    },\n",
    "    {\n",
    "        'content': {\n",
    "            'name': 'Gavin Newsom',\n",
    "            'position': 'Governor',\n",
    "            'state': 'California',\n",
    "            'previous_role': 'Lieutenant Governor',\n",
    "            'previous_location': 'San Francisco',\n",
    "        },\n",
    "        'type': EpisodeType.json,\n",
    "        'description': 'podcast metadata',\n",
    "    },\n",
    "    {\n",
    "        'content': {\n",
    "            'name': 'Gavin Newsom',\n",
    "            'position': 'Governor',\n",
    "            'term_start': 'January 7, 2019',\n",
    "            'term_end': 'Present',\n",
    "        },\n",
    "        'type': EpisodeType.json,\n",
    "        'description': 'podcast metadata',\n",
    "    },\n",
    "]\n",
    "\n",
    "# Add episodes to the graph\n",
    "for i, episode in enumerate(episodes):\n",
    "    await graphiti.add_episode(\n",
    "        name=f'Freakonomics Radio {i}',\n",
    "        episode_body=episode['content']\n",
    "        if isinstance(episode['content'], str)\n",
    "        else json.dumps(episode['content']),\n",
    "        source=episode['type'],\n",
    "        source_description=episode['description'],\n",
    "        reference_time=datetime.now(timezone.utc),\n",
    "    )\n",
    "    print(f'Added episode: Freakonomics Radio {i} ({episode[\"type\"].value})')"
   ],
   "id": "22fd02a8021ed786",
   "outputs": [
    {
     "name": "stderr",
     "output_type": "stream",
     "text": [
      "2025-08-05 09:58:44 - httpx - INFO - HTTP Request: POST http://localhost:11434/v1/chat/completions \"HTTP/1.1 200 OK\"\n",
      "2025-08-05 09:58:45 - httpx - INFO - HTTP Request: POST http://localhost:11434/v1/embeddings \"HTTP/1.1 200 OK\"\n",
      "2025-08-05 09:58:45 - httpx - INFO - HTTP Request: POST http://localhost:11434/v1/embeddings \"HTTP/1.1 200 OK\"\n",
      "2025-08-05 09:58:45 - httpx - INFO - HTTP Request: POST http://localhost:11434/v1/embeddings \"HTTP/1.1 200 OK\"\n",
      "2025-08-05 09:58:45 - httpx - INFO - HTTP Request: POST http://localhost:11434/v1/embeddings \"HTTP/1.1 200 OK\"\n",
      "2025-08-05 09:58:45 - httpx - INFO - HTTP Request: POST http://localhost:11434/v1/embeddings \"HTTP/1.1 200 OK\"\n",
      "2025-08-05 09:58:57 - httpx - INFO - HTTP Request: POST http://localhost:11434/v1/chat/completions \"HTTP/1.1 200 OK\"\n",
      "2025-08-05 09:59:09 - httpx - INFO - HTTP Request: POST http://localhost:11434/v1/chat/completions \"HTTP/1.1 200 OK\"\n",
      "2025-08-05 09:59:09 - httpx - INFO - HTTP Request: POST http://localhost:11434/v1/embeddings \"HTTP/1.1 200 OK\"\n",
      "2025-08-05 09:59:09 - httpx - INFO - HTTP Request: POST http://localhost:11434/v1/embeddings \"HTTP/1.1 200 OK\"\n",
      "2025-08-05 09:59:11 - httpx - INFO - HTTP Request: POST http://localhost:11434/v1/chat/completions \"HTTP/1.1 200 OK\"\n",
      "2025-08-05 09:59:12 - httpx - INFO - HTTP Request: POST http://localhost:11434/v1/chat/completions \"HTTP/1.1 200 OK\"\n",
      "2025-08-05 09:59:13 - httpx - INFO - HTTP Request: POST http://localhost:11434/v1/chat/completions \"HTTP/1.1 200 OK\"\n",
      "2025-08-05 09:59:13 - httpx - INFO - HTTP Request: POST http://localhost:11434/v1/chat/completions \"HTTP/1.1 200 OK\"\n",
      "2025-08-05 09:59:14 - httpx - INFO - HTTP Request: POST http://localhost:11434/v1/chat/completions \"HTTP/1.1 200 OK\"\n",
      "2025-08-05 09:59:14 - httpx - INFO - HTTP Request: POST http://localhost:11434/v1/embeddings \"HTTP/1.1 200 OK\"\n",
      "2025-08-05 09:59:15 - graphiti_core.graphiti - INFO - Completed add_episode in 40344.32101249695 ms\n"
     ]
    },
    {
     "name": "stdout",
     "output_type": "stream",
     "text": [
      "Added episode: Freakonomics Radio 0 (text)\n"
     ]
    },
    {
     "name": "stderr",
     "output_type": "stream",
     "text": [
      "2025-08-05 09:59:18 - httpx - INFO - HTTP Request: POST http://localhost:11434/v1/chat/completions \"HTTP/1.1 200 OK\"\n",
      "2025-08-05 09:59:18 - httpx - INFO - HTTP Request: POST http://localhost:11434/v1/embeddings \"HTTP/1.1 200 OK\"\n",
      "2025-08-05 09:59:18 - httpx - INFO - HTTP Request: POST http://localhost:11434/v1/embeddings \"HTTP/1.1 200 OK\"\n",
      "2025-08-05 09:59:18 - httpx - INFO - HTTP Request: POST http://localhost:11434/v1/embeddings \"HTTP/1.1 200 OK\"\n",
      "2025-08-05 09:59:18 - httpx - INFO - HTTP Request: POST http://localhost:11434/v1/embeddings \"HTTP/1.1 200 OK\"\n",
      "2025-08-05 09:59:25 - httpx - INFO - HTTP Request: POST http://localhost:11434/v1/chat/completions \"HTTP/1.1 200 OK\"\n",
      "2025-08-05 09:59:40 - httpx - INFO - HTTP Request: POST http://localhost:11434/v1/chat/completions \"HTTP/1.1 200 OK\"\n",
      "2025-08-05 09:59:41 - httpx - INFO - HTTP Request: POST http://localhost:11434/v1/embeddings \"HTTP/1.1 200 OK\"\n",
      "2025-08-05 09:59:43 - httpx - INFO - HTTP Request: POST http://localhost:11434/v1/chat/completions \"HTTP/1.1 200 OK\"\n",
      "2025-08-05 09:59:44 - httpx - INFO - HTTP Request: POST http://localhost:11434/v1/chat/completions \"HTTP/1.1 200 OK\"\n",
      "2025-08-05 09:59:46 - httpx - INFO - HTTP Request: POST http://localhost:11434/v1/chat/completions \"HTTP/1.1 200 OK\"\n",
      "2025-08-05 09:59:48 - httpx - INFO - HTTP Request: POST http://localhost:11434/v1/chat/completions \"HTTP/1.1 200 OK\"\n",
      "2025-08-05 09:59:48 - httpx - INFO - HTTP Request: POST http://localhost:11434/v1/embeddings \"HTTP/1.1 200 OK\"\n",
      "2025-08-05 09:59:50 - httpx - INFO - HTTP Request: POST http://localhost:11434/v1/chat/completions \"HTTP/1.1 200 OK\"\n",
      "2025-08-05 09:59:50 - httpx - INFO - HTTP Request: POST http://localhost:11434/v1/embeddings \"HTTP/1.1 200 OK\"\n",
      "2025-08-05 09:59:50 - httpx - INFO - HTTP Request: POST http://localhost:11434/v1/embeddings \"HTTP/1.1 200 OK\"\n",
      "2025-08-05 09:59:50 - httpx - INFO - HTTP Request: POST http://localhost:11434/v1/embeddings \"HTTP/1.1 200 OK\"\n",
      "2025-08-05 09:59:50 - httpx - INFO - HTTP Request: POST http://localhost:11434/v1/embeddings \"HTTP/1.1 200 OK\"\n",
      "2025-08-05 09:59:50 - httpx - INFO - HTTP Request: POST http://localhost:11434/v1/embeddings \"HTTP/1.1 200 OK\"\n",
      "2025-08-05 09:59:50 - httpx - INFO - HTTP Request: POST http://localhost:11434/v1/embeddings \"HTTP/1.1 200 OK\"\n",
      "2025-08-05 09:59:50 - httpx - INFO - HTTP Request: POST http://localhost:11434/v1/embeddings \"HTTP/1.1 200 OK\"\n",
      "2025-08-05 09:59:50 - graphiti_core.graphiti - INFO - Completed add_episode in 35253.65090370178 ms\n"
     ]
    },
    {
     "name": "stdout",
     "output_type": "stream",
     "text": [
      "Added episode: Freakonomics Radio 1 (text)\n"
     ]
    },
    {
     "name": "stderr",
     "output_type": "stream",
     "text": [
      "2025-08-05 09:59:54 - httpx - INFO - HTTP Request: POST http://localhost:11434/v1/chat/completions \"HTTP/1.1 200 OK\"\n",
      "2025-08-05 09:59:54 - httpx - INFO - HTTP Request: POST http://localhost:11434/v1/embeddings \"HTTP/1.1 200 OK\"\n",
      "2025-08-05 09:59:54 - httpx - INFO - HTTP Request: POST http://localhost:11434/v1/embeddings \"HTTP/1.1 200 OK\"\n",
      "2025-08-05 09:59:54 - httpx - INFO - HTTP Request: POST http://localhost:11434/v1/embeddings \"HTTP/1.1 200 OK\"\n",
      "2025-08-05 09:59:54 - httpx - INFO - HTTP Request: POST http://localhost:11434/v1/embeddings \"HTTP/1.1 200 OK\"\n",
      "2025-08-05 09:59:54 - httpx - INFO - HTTP Request: POST http://localhost:11434/v1/embeddings \"HTTP/1.1 200 OK\"\n",
      "2025-08-05 10:00:05 - httpx - INFO - HTTP Request: POST http://localhost:11434/v1/chat/completions \"HTTP/1.1 200 OK\"\n",
      "2025-08-05 10:00:19 - httpx - INFO - HTTP Request: POST http://localhost:11434/v1/chat/completions \"HTTP/1.1 200 OK\"\n",
      "2025-08-05 10:00:19 - httpx - INFO - HTTP Request: POST http://localhost:11434/v1/embeddings \"HTTP/1.1 200 OK\"\n",
      "2025-08-05 10:00:22 - httpx - INFO - HTTP Request: POST http://localhost:11434/v1/chat/completions \"HTTP/1.1 200 OK\"\n",
      "2025-08-05 10:00:24 - httpx - INFO - HTTP Request: POST http://localhost:11434/v1/chat/completions \"HTTP/1.1 200 OK\"\n",
      "2025-08-05 10:00:25 - httpx - INFO - HTTP Request: POST http://localhost:11434/v1/chat/completions \"HTTP/1.1 200 OK\"\n",
      "2025-08-05 10:00:26 - httpx - INFO - HTTP Request: POST http://localhost:11434/v1/chat/completions \"HTTP/1.1 200 OK\"\n",
      "2025-08-05 10:00:27 - httpx - INFO - HTTP Request: POST http://localhost:11434/v1/chat/completions \"HTTP/1.1 200 OK\"\n",
      "2025-08-05 10:00:27 - httpx - INFO - HTTP Request: POST http://localhost:11434/v1/embeddings \"HTTP/1.1 200 OK\"\n",
      "2025-08-05 10:00:29 - httpx - INFO - HTTP Request: POST http://localhost:11434/v1/chat/completions \"HTTP/1.1 200 OK\"\n",
      "2025-08-05 10:00:31 - httpx - INFO - HTTP Request: POST http://localhost:11434/v1/chat/completions \"HTTP/1.1 200 OK\"\n",
      "2025-08-05 10:00:33 - httpx - INFO - HTTP Request: POST http://localhost:11434/v1/chat/completions \"HTTP/1.1 200 OK\"\n",
      "2025-08-05 10:00:33 - httpx - INFO - HTTP Request: POST http://localhost:11434/v1/embeddings \"HTTP/1.1 200 OK\"\n",
      "2025-08-05 10:00:33 - httpx - INFO - HTTP Request: POST http://localhost:11434/v1/embeddings \"HTTP/1.1 200 OK\"\n",
      "2025-08-05 10:00:33 - httpx - INFO - HTTP Request: POST http://localhost:11434/v1/embeddings \"HTTP/1.1 200 OK\"\n",
      "2025-08-05 10:00:33 - httpx - INFO - HTTP Request: POST http://localhost:11434/v1/embeddings \"HTTP/1.1 200 OK\"\n",
      "2025-08-05 10:00:33 - httpx - INFO - HTTP Request: POST http://localhost:11434/v1/embeddings \"HTTP/1.1 200 OK\"\n",
      "2025-08-05 10:00:33 - graphiti_core.graphiti - INFO - Completed add_episode in 43267.297983169556 ms\n"
     ]
    },
    {
     "name": "stdout",
     "output_type": "stream",
     "text": [
      "Added episode: Freakonomics Radio 2 (json)\n"
     ]
    },
    {
     "name": "stderr",
     "output_type": "stream",
     "text": [
      "2025-08-05 10:00:35 - httpx - INFO - HTTP Request: POST http://localhost:11434/v1/chat/completions \"HTTP/1.1 200 OK\"\n",
      "2025-08-05 10:00:35 - httpx - INFO - HTTP Request: POST http://localhost:11434/v1/embeddings \"HTTP/1.1 200 OK\"\n",
      "2025-08-05 10:00:46 - httpx - INFO - HTTP Request: POST http://localhost:11434/v1/chat/completions \"HTTP/1.1 200 OK\"\n",
      "2025-08-05 10:00:51 - httpx - INFO - HTTP Request: POST http://localhost:11434/v1/chat/completions \"HTTP/1.1 200 OK\"\n",
      "2025-08-05 10:00:51 - httpx - INFO - HTTP Request: POST http://localhost:11434/v1/embeddings \"HTTP/1.1 200 OK\"\n",
      "2025-08-05 10:00:53 - httpx - INFO - HTTP Request: POST http://localhost:11434/v1/chat/completions \"HTTP/1.1 200 OK\"\n",
      "2025-08-05 10:00:53 - httpx - INFO - HTTP Request: POST http://localhost:11434/v1/embeddings \"HTTP/1.1 200 OK\"\n",
      "2025-08-05 10:00:55 - httpx - INFO - HTTP Request: POST http://localhost:11434/v1/chat/completions \"HTTP/1.1 200 OK\"\n",
      "2025-08-05 10:00:57 - httpx - INFO - HTTP Request: POST http://localhost:11434/v1/chat/completions \"HTTP/1.1 200 OK\"\n",
      "2025-08-05 10:00:59 - httpx - INFO - HTTP Request: POST http://localhost:11434/v1/chat/completions \"HTTP/1.1 200 OK\"\n",
      "2025-08-05 10:00:59 - httpx - INFO - HTTP Request: POST http://localhost:11434/v1/embeddings \"HTTP/1.1 200 OK\"\n",
      "2025-08-05 10:00:59 - httpx - INFO - HTTP Request: POST http://localhost:11434/v1/embeddings \"HTTP/1.1 200 OK\"\n",
      "2025-08-05 10:00:59 - graphiti_core.graphiti - INFO - Completed add_episode in 25483.777046203613 ms\n"
     ]
    },
    {
     "name": "stdout",
     "output_type": "stream",
     "text": [
      "Added episode: Freakonomics Radio 3 (json)\n"
     ]
    }
   ],
   "execution_count": 5
  },
  {
   "metadata": {
    "ExecuteTime": {
     "end_time": "2025-08-05T17:00:59.292851Z",
     "start_time": "2025-08-05T17:00:59.233129Z"
    }
   },
   "cell_type": "code",
   "source": [
    "# Basic Search\n",
    "\n",
    "# Perform a hybrid search combining semantic similarity and BM25 retrieval\n",
    "print(\"\\nSearching for: 'Who was the California Attorney General?'\")\n",
    "results = await graphiti.search('Who was the California Attorney General?')\n",
    "\n",
    "# Print search results\n",
    "print('\\nSearch Results:')\n",
    "for result in results:\n",
    "    print(f'UUID: {result.uuid}')\n",
    "    print(f'Fact: {result.fact}')\n",
    "    if hasattr(result, 'valid_at') and result.valid_at:\n",
    "        print(f'Valid from: {result.valid_at}')\n",
    "    if hasattr(result, 'invalid_at') and result.invalid_at:\n",
    "        print(f'Valid until: {result.invalid_at}')\n",
    "    print('---')\n"
   ],
   "id": "1de81552d431d92a",
   "outputs": [
    {
     "name": "stderr",
     "output_type": "stream",
     "text": [
      "2025-08-05 10:00:59 - httpx - INFO - HTTP Request: POST http://localhost:11434/v1/embeddings \"HTTP/1.1 200 OK\"\n"
     ]
    },
    {
     "name": "stdout",
     "output_type": "stream",
     "text": [
      "\n",
      "Searching for: 'Who was the California Attorney General?'\n",
      "\n",
      "Search Results:\n",
      "UUID: 014caa1b-2625-402a-9722-0ba7a81cc570\n",
      "Fact: Kamala Harris is the Attorney General of California.\n",
      "Valid from: 2025-08-05 16:58:34.859349+00:00\n",
      "---\n",
      "UUID: cb211323-5154-4caf-9f39-9fa8b5f529a9\n",
      "Fact: Kamala Harris is the Attorney General of California.\n",
      "Valid from: 2025-08-05 16:58:34.859349+00:00\n",
      "Valid until: 2025-08-05 16:59:50.459896+00:00\n",
      "---\n",
      "UUID: 36304b1d-df2a-4ac6-9935-91b2c26e6c60\n",
      "Fact: Gavin Newsom is the Governor of California.\n",
      "Valid from: 2025-08-05 16:59:50.459896+00:00\n",
      "---\n",
      "UUID: 3aa53794-fb72-483b-87c2-816c47eab9f5\n",
      "Fact: Gavin Newsom is the Governor of California.\n",
      "Valid from: 2025-08-05 17:00:33.727681+00:00\n",
      "---\n",
      "UUID: 670b563a-7fda-4d67-ba60-a5b21cabadb9\n",
      "Fact: She was previously the district attorney for San Francisco.\n",
      "Valid from: 2025-08-05 16:58:34.859349+00:00\n",
      "---\n",
      "UUID: cd0c571b-06e3-4b1e-895e-8742a30389ed\n",
      "Fact: She was previously the district attorney for San Francisco.\n",
      "Valid from: 2025-08-05 16:58:34.859349+00:00\n",
      "---\n",
      "UUID: 35275e81-90e5-4c56-ab02-6657f3df70e1\n",
      "Fact: Gavin Newsom's term as Governor is present.\n",
      "Valid from: 2025-08-05 17:00:33.727681+00:00\n",
      "---\n",
      "UUID: 1a7361cc-9184-40ca-8a1f-66c8d6a045cb\n",
      "Fact: Gavin Newsom was formerly a Lieutenant Governor.\n",
      "Valid from: 2025-08-05 16:59:50.459896+00:00\n",
      "---\n",
      "UUID: 60f83d32-0a7b-43f6-b4e6-32ef8a0d82c0\n",
      "Fact: Gavin Newsom's term as Governor started on January 7, 2019.\n",
      "Valid from: 2019-01-07 00:00:00+00:00\n",
      "---\n",
      "UUID: 9fd79e71-050a-4920-ac08-5642966cb081\n",
      "Fact: As AG, Harris was in office from January 3, 2011 – January 3, 2017\n",
      "Valid from: 2025-08-05 16:59:15.205131+00:00\n",
      "Valid until: 2017-01-03 00:00:00+00:00\n",
      "---\n"
     ]
    }
   ],
   "execution_count": 6
  },
  {
   "metadata": {
    "ExecuteTime": {
     "end_time": "2025-08-05T17:00:59.350366Z",
     "start_time": "2025-08-05T17:00:59.301443Z"
    }
   },
   "cell_type": "code",
   "source": [
    "# Center node search\n",
    "\n",
    "# Use the top search result's UUID as the center node for reranking\n",
    "if results and len(results) > 0:\n",
    "    # Get the source node UUID from the top result\n",
    "    center_node_uuid = results[0].source_node_uuid\n",
    "\n",
    "    print('\\nReranking search results based on graph distance:')\n",
    "    print(f'Using center node UUID: {center_node_uuid}')\n",
    "\n",
    "    reranked_results = await graphiti.search(\n",
    "        'Who was the California Attorney General?', center_node_uuid=center_node_uuid\n",
    "    )\n",
    "\n",
    "    # Print reranked search results\n",
    "    print('\\nReranked Search Results:')\n",
    "    for result in reranked_results:\n",
    "        print(f'UUID: {result.uuid}')\n",
    "        print(f'Fact: {result.fact}')\n",
    "        if hasattr(result, 'valid_at') and result.valid_at:\n",
    "            print(f'Valid from: {result.valid_at}')\n",
    "        if hasattr(result, 'invalid_at') and result.invalid_at:\n",
    "            print(f'Valid until: {result.invalid_at}')\n",
    "        print('---')\n",
    "else:\n",
    "    print('No results found in the initial search to use as center node.')\n"
   ],
   "id": "68ba1e1f2ebdd7a2",
   "outputs": [
    {
     "name": "stderr",
     "output_type": "stream",
     "text": [
      "2025-08-05 10:00:59 - httpx - INFO - HTTP Request: POST http://localhost:11434/v1/embeddings \"HTTP/1.1 200 OK\"\n"
     ]
    },
    {
     "name": "stdout",
     "output_type": "stream",
     "text": [
      "\n",
      "Reranking search results based on graph distance:\n",
      "Using center node UUID: 307c636b-c903-42a6-8c19-afc5f2d09e34\n",
      "\n",
      "Reranked Search Results:\n",
      "UUID: 014caa1b-2625-402a-9722-0ba7a81cc570\n",
      "Fact: Kamala Harris is the Attorney General of California.\n",
      "Valid from: 2025-08-05 16:58:34.859349+00:00\n",
      "---\n",
      "UUID: 670b563a-7fda-4d67-ba60-a5b21cabadb9\n",
      "Fact: She was previously the district attorney for San Francisco.\n",
      "Valid from: 2025-08-05 16:58:34.859349+00:00\n",
      "---\n",
      "UUID: 9fd79e71-050a-4920-ac08-5642966cb081\n",
      "Fact: As AG, Harris was in office from January 3, 2011 – January 3, 2017\n",
      "Valid from: 2025-08-05 16:59:15.205131+00:00\n",
      "Valid until: 2017-01-03 00:00:00+00:00\n",
      "---\n",
      "UUID: cb211323-5154-4caf-9f39-9fa8b5f529a9\n",
      "Fact: Kamala Harris is the Attorney General of California.\n",
      "Valid from: 2025-08-05 16:58:34.859349+00:00\n",
      "Valid until: 2025-08-05 16:59:50.459896+00:00\n",
      "---\n",
      "UUID: 53dd1b92-f7c8-4c22-ad7d-bbb87f6fec02\n",
      "Fact: Gavin Newsom was formerly located in San Francisco.\n",
      "Valid from: 2025-08-05 16:59:50.459896+00:00\n",
      "---\n",
      "UUID: cd0c571b-06e3-4b1e-895e-8742a30389ed\n",
      "Fact: She was previously the district attorney for San Francisco.\n",
      "Valid from: 2025-08-05 16:58:34.859349+00:00\n",
      "---\n",
      "UUID: 36304b1d-df2a-4ac6-9935-91b2c26e6c60\n",
      "Fact: Gavin Newsom is the Governor of California.\n",
      "Valid from: 2025-08-05 16:59:50.459896+00:00\n",
      "---\n",
      "UUID: 3aa53794-fb72-483b-87c2-816c47eab9f5\n",
      "Fact: Gavin Newsom is the Governor of California.\n",
      "Valid from: 2025-08-05 17:00:33.727681+00:00\n",
      "---\n",
      "UUID: 35275e81-90e5-4c56-ab02-6657f3df70e1\n",
      "Fact: Gavin Newsom's term as Governor is present.\n",
      "Valid from: 2025-08-05 17:00:33.727681+00:00\n",
      "---\n",
      "UUID: 1a7361cc-9184-40ca-8a1f-66c8d6a045cb\n",
      "Fact: Gavin Newsom was formerly a Lieutenant Governor.\n",
      "Valid from: 2025-08-05 16:59:50.459896+00:00\n",
      "---\n"
     ]
    }
   ],
   "execution_count": 7
  },
  {
   "metadata": {
    "ExecuteTime": {
     "end_time": "2025-08-05T17:00:59.391829Z",
     "start_time": "2025-08-05T17:00:59.359939Z"
    }
   },
   "cell_type": "code",
   "source": [
    "# Node Search Using Search Recipes\n",
    "\n",
    "# Example: Perform a node search using _search method with standard recipes\n",
    "print(\n",
    "    '\\nPerforming node search using _search method with standard recipe NODE_HYBRID_SEARCH_RRF:'\n",
    ")\n",
    "\n",
    "# Use a predefined search configuration recipe and modify its limit\n",
    "node_search_config = NODE_HYBRID_SEARCH_RRF.model_copy(deep=True)\n",
    "node_search_config.limit = 5  # Limit to 5 results\n",
    "\n",
    "# Execute the node search\n",
    "node_search_results = await graphiti._search(\n",
    "    query='California Governor',\n",
    "    config=node_search_config,\n",
    ")\n",
    "\n",
    "# Print node search results\n",
    "print('\\nNode Search Results:')\n",
    "for node in node_search_results.nodes:\n",
    "    print(f'Node UUID: {node.uuid}')\n",
    "    print(f'Node Name: {node.name}')\n",
    "    node_summary = node.summary[:100] + '...' if len(node.summary) > 100 else node.summary\n",
    "    print(f'Content Summary: {node_summary}')\n",
    "    print(f\"Node Labels: {', '.join(node.labels)}\")\n",
    "    print(f'Created At: {node.created_at}')\n",
    "    if hasattr(node, 'attributes') and node.attributes:\n",
    "        print('Attributes:')\n",
    "        for key, value in node.attributes.items():\n",
    "            print(f'  {key}: {value}')\n",
    "    print('---')\n"
   ],
   "id": "5b901142b733250c",
   "outputs": [
    {
     "name": "stderr",
     "output_type": "stream",
     "text": [
      "2025-08-05 10:00:59 - httpx - INFO - HTTP Request: POST http://localhost:11434/v1/embeddings \"HTTP/1.1 200 OK\"\n"
     ]
    },
    {
     "name": "stdout",
     "output_type": "stream",
     "text": [
      "\n",
      "Performing node search using _search method with standard recipe NODE_HYBRID_SEARCH_RRF:\n",
      "\n",
      "Node Search Results:\n",
      "Node UUID: fb2de6f4-4e42-4635-a5d8-c64b53bb4fb6\n",
      "Node Name: Governor\n",
      "Content Summary: Gavin Newsom is the Governor of California. He was previously the Lieutenant Governor and was locate...\n",
      "Node Labels: Entity\n",
      "Created At: 2025-08-05 16:59:54.856541+00:00\n",
      "Attributes:\n",
      "  labels: ['Entity']\n",
      "---\n",
      "Node UUID: a54132df-ccaf-48b2-ab04-5d5996e0438e\n",
      "Node Name: California\n",
      "Content Summary: Gavin Newsom is the Governor of California. He was previously the Lieutenant Governor and was locate...\n",
      "Node Labels: Entity\n",
      "Created At: 2025-08-05 16:58:44.749366+00:00\n",
      "Attributes:\n",
      "  labels: ['Entity']\n",
      "---\n",
      "Node UUID: dc1db3a7-3ba4-4107-8e9b-73e68a6b0958\n",
      "Node Name: Attorney General\n",
      "Content Summary: Gavin Newsom is the Governor of California. He was previously the Lieutenant Governor and was locate...\n",
      "Node Labels: Entity\n",
      "Created At: 2025-08-05 16:58:44.749329+00:00\n",
      "Attributes:\n",
      "  labels: ['Entity']\n",
      "---\n",
      "Node UUID: 2b204328-afc3-499b-8fd4-eae892a04277\n",
      "Node Name: San Francisco\n",
      "Content Summary: Gavin Newsom is the current Governor of California. He was previously the Lieutenant Governor and wa...\n",
      "Node Labels: Entity\n",
      "Created At: 2025-08-05 16:58:44.749522+00:00\n",
      "Attributes:\n",
      "  labels: ['Entity']\n",
      "---\n",
      "Node UUID: 307c636b-c903-42a6-8c19-afc5f2d09e34\n",
      "Node Name: Kamala Harris\n",
      "Content Summary: Kamala Harris is the Attorney General of California. She was previously the district attorney for Sa...\n",
      "Node Labels: Entity\n",
      "Created At: 2025-08-05 16:58:44.749068+00:00\n",
      "Attributes:\n",
      "  labels: ['Entity']\n",
      "---\n"
     ]
    }
   ],
   "execution_count": 8
  }
 ],
 "metadata": {
  "kernelspec": {
   "display_name": "Python 3",
   "language": "python",
   "name": "python3"
  },
  "language_info": {
   "codemirror_mode": {
    "name": "ipython",
    "version": 2
   },
   "file_extension": ".py",
   "mimetype": "text/x-python",
   "name": "python",
   "nbconvert_exporter": "python",
   "pygments_lexer": "ipython2",
   "version": "2.7.6"
  }
 },
 "nbformat": 4,
 "nbformat_minor": 5
}
