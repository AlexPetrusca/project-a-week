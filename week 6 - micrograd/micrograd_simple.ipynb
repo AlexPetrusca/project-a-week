{
 "cells": [
  {
   "cell_type": "code",
   "id": "initial_id",
   "metadata": {
    "collapsed": true,
    "ExecuteTime": {
     "end_time": "2025-03-09T00:24:51.786705Z",
     "start_time": "2025-03-09T00:24:51.784400Z"
    }
   },
   "source": [
    "import math\n",
    "import numpy as np\n",
    "import matplotlib.pyplot as plt"
   ],
   "outputs": [],
   "execution_count": 384
  },
  {
   "metadata": {
    "ExecuteTime": {
     "end_time": "2025-03-09T00:24:51.798486Z",
     "start_time": "2025-03-09T00:24:51.796557Z"
    }
   },
   "cell_type": "code",
   "source": [
    "def f(x):\n",
    "    return 3*x**2 - 4*x + 5"
   ],
   "id": "67ab1ca1edc3e801",
   "outputs": [],
   "execution_count": 385
  },
  {
   "metadata": {
    "ExecuteTime": {
     "end_time": "2025-03-09T00:24:51.807711Z",
     "start_time": "2025-03-09T00:24:51.805361Z"
    }
   },
   "cell_type": "code",
   "source": "f(3.0)",
   "id": "b894f8bb093a5c79",
   "outputs": [
    {
     "data": {
      "text/plain": [
       "20.0"
      ]
     },
     "execution_count": 386,
     "metadata": {},
     "output_type": "execute_result"
    }
   ],
   "execution_count": 386
  },
  {
   "metadata": {
    "ExecuteTime": {
     "end_time": "2025-03-09T00:24:51.862544Z",
     "start_time": "2025-03-09T00:24:51.823850Z"
    }
   },
   "cell_type": "code",
   "source": [
    "xs = np.arange(-5, 5, 0.25)\n",
    "ys = f(xs)\n",
    "plt.plot(xs, ys)"
   ],
   "id": "99d4b0d11e9d9b7b",
   "outputs": [
    {
     "data": {
      "text/plain": [
       "[<matplotlib.lines.Line2D at 0x10a67a710>]"
      ]
     },
     "execution_count": 387,
     "metadata": {},
     "output_type": "execute_result"
    },
    {
     "data": {
      "text/plain": [
       "<Figure size 640x480 with 1 Axes>"
      ],
      "image/png": "[encoded data removed]"
     },
     "metadata": {},
     "output_type": "display_data"
    }
   ],
   "execution_count": 387
  },
  {
   "metadata": {
    "ExecuteTime": {
     "end_time": "2025-03-09T00:24:51.873376Z",
     "start_time": "2025-03-09T00:24:51.871117Z"
    }
   },
   "cell_type": "code",
   "source": [
    "h = 0.001\n",
    "x = -3.0\n",
    "(f(x + h) - f(x)) / h  # slope (derivative) at x"
   ],
   "id": "6973d350a2e7351f",
   "outputs": [
    {
     "data": {
      "text/plain": [
       "-21.996999999998934"
      ]
     },
     "execution_count": 388,
     "metadata": {},
     "output_type": "execute_result"
    }
   ],
   "execution_count": 388
  },
  {
   "metadata": {
    "ExecuteTime": {
     "end_time": "2025-03-09T00:24:51.887653Z",
     "start_time": "2025-03-09T00:24:51.885822Z"
    }
   },
   "cell_type": "code",
   "source": [
    "# let's get more complex\n",
    "a = 2.0\n",
    "b = -3.0\n",
    "c = 10.0\n",
    "d = a * b + c\n",
    "print(d)"
   ],
   "id": "7fd6f964230faefc",
   "outputs": [
    {
     "name": "stdout",
     "output_type": "stream",
     "text": [
      "4.0\n"
     ]
    }
   ],
   "execution_count": 389
  },
  {
   "metadata": {
    "ExecuteTime": {
     "end_time": "2025-03-09T00:24:51.899438Z",
     "start_time": "2025-03-09T00:24:51.897358Z"
    }
   },
   "cell_type": "code",
   "source": [
    "h = 0.001\n",
    "\n",
    "# inputs\n",
    "a = 2.0\n",
    "b = -3.0\n",
    "c = 10.0\n",
    "\n",
    "d1 = a * b + c\n",
    "c += h\n",
    "d2 = a * b + c\n",
    "\n",
    "print('d1', d1)\n",
    "print('d2', d2)\n",
    "print('slope', (d2 - d1) / h)"
   ],
   "id": "b0c63297d4d69acd",
   "outputs": [
    {
     "name": "stdout",
     "output_type": "stream",
     "text": [
      "d1 4.0\n",
      "d2 4.0009999999999994\n",
      "slope 0.9999999999994458\n"
     ]
    }
   ],
   "execution_count": 390
  },
  {
   "metadata": {
    "ExecuteTime": {
     "end_time": "2025-03-09T00:24:51.920808Z",
     "start_time": "2025-03-09T00:24:51.912972Z"
    }
   },
   "cell_type": "code",
   "source": [
    "class Value:\n",
    "    def __init__(self, data, _children=(), _op='', label=''):\n",
    "        self.data = data\n",
    "        self.grad = 0.0\n",
    "        self._backward = lambda: None\n",
    "        self._children = list(_children)\n",
    "        self._op = _op\n",
    "        if label:  # is labelled?\n",
    "            self.label = label\n",
    "        elif len(_children) == 1:  # is unary op?\n",
    "            self.label = f'{_op}({_children[0].label})'\n",
    "        elif len(_children) == 2:  # is binary op?\n",
    "            self.label = f'{_children[0].label} {_op} {_children[1].label}'\n",
    "        else:  # is leaf?\n",
    "            self.label = f\"{data:.4f}\"\n",
    "\n",
    "    def __repr__(self):\n",
    "        if self.label:\n",
    "            return f\"Value(label={self.label}, data={self.data:.4f})\"\n",
    "        else:\n",
    "            return f\"Value(data={self.data:.4f})\"\n",
    "\n",
    "    def tanh(self):\n",
    "        t = (math.exp(2 * self.data) - 1) / (math.exp(2 * self.data) + 1)\n",
    "        # t = math.tanh(x)\n",
    "        out = Value(t, (self,), 'tanh')\n",
    "\n",
    "        def _backward():\n",
    "            self.grad += out.grad * (1 - out.data**2)\n",
    "        out._backward = _backward\n",
    "\n",
    "        return out\n",
    "\n",
    "    def exp(self):\n",
    "        out = Value(math.exp(self.data), (self,), 'exp')\n",
    "\n",
    "        def _backward():\n",
    "            self.grad += out.grad * out.data\n",
    "        out._backward = _backward\n",
    "\n",
    "        return out\n",
    "\n",
    "    def __add__(self, other):\n",
    "        other = other if isinstance(other, Value) else Value(other)\n",
    "        out = Value(self.data + other.data, (self, other), '+')\n",
    "\n",
    "        def _backward():\n",
    "            self.grad += out.grad * 1.0\n",
    "            other.grad += out.grad * 1.0\n",
    "        out._backward = _backward\n",
    "\n",
    "        return out\n",
    "\n",
    "    def __radd__(self, other):\n",
    "        return Value(other) + self\n",
    "\n",
    "    def __sub__(self, other):\n",
    "        other = other if isinstance(other, Value) else Value(other)\n",
    "        out = Value(self.data - other.data, (self, other), '-')\n",
    "\n",
    "        def _backward():\n",
    "            self.grad += out.grad * 1.0\n",
    "            other.grad += out.grad * (-1.0)\n",
    "        out._backward = _backward\n",
    "\n",
    "        return out\n",
    "\n",
    "    def __rsub__(self, other):\n",
    "        return Value(other) - self\n",
    "\n",
    "    def __mul__(self, other):\n",
    "        other = other if isinstance(other, Value) else Value(other)\n",
    "        out = Value(self.data * other.data, (self, other), '*')\n",
    "\n",
    "        def _backward():\n",
    "            self.grad += out.grad * other.data\n",
    "            other.grad += out.grad * self.data\n",
    "        out._backward = _backward\n",
    "\n",
    "        return out\n",
    "\n",
    "    def __rmul__(self, other):\n",
    "        return Value(other) * self\n",
    "\n",
    "    def __truediv__(self, other):\n",
    "        other = other if isinstance(other, Value) else Value(other)\n",
    "        out = Value(self.data / other.data, (self, other), '/')\n",
    "\n",
    "        def _backward():\n",
    "            self.grad += out.grad * (1 / other.data)\n",
    "            other.grad += out.grad * (-self.data / other.data**2)\n",
    "        out._backward = _backward\n",
    "\n",
    "        return out\n",
    "\n",
    "    def __rtruediv__(self, other):\n",
    "        return Value(other) / self\n",
    "\n",
    "    def __pow__(self, other):\n",
    "        other = other if isinstance(other, Value) else Value(other)\n",
    "        out = Value(self.data**other.data, (self, other), '**')\n",
    "\n",
    "        def _backward():\n",
    "            self.grad += out.grad * (other.data / self.data * out.data)\n",
    "            other.grad += out.grad * (math.log(self.data) * out.data)\n",
    "        out._backward = _backward\n",
    "\n",
    "        return out\n",
    "\n",
    "    def __rpow__(self, other):\n",
    "        return Value(other) ** self\n",
    "\n",
    "    def __neg__(self):\n",
    "        out = Value(-self.data, (self,), '-')\n",
    "\n",
    "        def _backward():\n",
    "            self.grad += out.grad * (-1.0)\n",
    "        out._backward = _backward\n",
    "\n",
    "        return out\n",
    "\n",
    "    def backward(self):\n",
    "        topo = []\n",
    "        visited = set()\n",
    "        def build_topo(root):\n",
    "            if root not in visited:\n",
    "                visited.add(root)\n",
    "                for child in root._children:\n",
    "                    build_topo(child)\n",
    "                topo.append(root)\n",
    "        build_topo(self)\n",
    "\n",
    "        self.grad = 1.0\n",
    "        for node in reversed(topo):\n",
    "            node._backward()\n",
    "\n",
    "    def zero_grad(self):\n",
    "        visited = set()\n",
    "        def _zero_grad(root):\n",
    "            if root not in visited:\n",
    "                visited.add(root)\n",
    "                root.grad = 0.0\n",
    "                for child in root._children:\n",
    "                    _zero_grad(child)\n",
    "        _zero_grad(self)\n",
    "\n",
    "a = Value(2.0, label='a')\n",
    "b = Value(-3.0, label='b')\n",
    "c = Value(10.0, label='c')\n",
    "d = a * b; d.label = 'd'\n",
    "e = d + c; e.label = 'e'\n",
    "f = Value(-2.0, label='f')\n",
    "L = e * f; L.label = 'L'\n",
    "\n",
    "print(L._children)\n",
    "print(L._op)\n",
    "print(L)"
   ],
   "id": "3fc0a064e84fc5e6",
   "outputs": [
    {
     "name": "stdout",
     "output_type": "stream",
     "text": [
      "[Value(label=e, data=4.0000), Value(label=f, data=-2.0000)]\n",
      "*\n",
      "Value(label=L, data=-8.0000)\n"
     ]
    }
   ],
   "execution_count": 391
  },
  {
   "metadata": {
    "ExecuteTime": {
     "end_time": "2025-03-09T00:24:52.023686Z",
     "start_time": "2025-03-09T00:24:51.925908Z"
    }
   },
   "cell_type": "code",
   "source": [
    "from graphviz import Digraph\n",
    "\n",
    "def trace(root):\n",
    "    # builds a set of all nodes and edges in a graph\n",
    "    nodes, edges = list(), set()\n",
    "    def build(_root):\n",
    "        if _root not in nodes:\n",
    "            nodes.append(_root)\n",
    "            for child in _root._children:\n",
    "                edges.add((child, _root))\n",
    "                build(child)\n",
    "    build(root)\n",
    "    return nodes, edges\n",
    "\n",
    "def draw_dot(root):\n",
    "    dot = Digraph(format='svg', graph_attr={'rankdir': 'LR'})\n",
    "\n",
    "    nodes, edges = trace(root)\n",
    "    for n in nodes:\n",
    "        uid = str(id(n))\n",
    "        # for any value in the graph, create a rectangular ('record') node for it\n",
    "        dot.node(uid, f\"{n.label} | data: {n.data:.4f} | grad: {n.grad:.4f}\", shape='record')\n",
    "        if n._op:\n",
    "            # if this value is a result of some operation, create an op node for it\n",
    "            dot.node(uid + n._op, n._op)\n",
    "            # and connect this node to it\n",
    "            dot.edge(uid + n._op, uid)\n",
    "\n",
    "    for n1, n2 in edges:\n",
    "        # connect n1 to the op node of n2\n",
    "        dot.edge(str(id(n1)), str(id(n2)) + n2._op)\n",
    "\n",
    "    return dot\n",
    "\n",
    "draw_dot(L)"
   ],
   "id": "28df780302e91039",
   "outputs": [
    {
     "data": {
      "image/svg+xml": "<?xml version=\"1.0\" encoding=\"UTF-8\" standalone=\"no\"?>\n<!DOCTYPE svg PUBLIC \"-//W3C//DTD SVG 1.1//EN\"\n \"http://www.w3.org/Graphics/SVG/1.1/DTD/svg11.dtd\">\n<!-- Generated by graphviz version 12.2.1 (20241206.2353)\n -->\n<!-- Pages: 1 -->\n<svg width=\"740pt\" height=\"270pt\"\n viewBox=\"0.00 0.00 740.25 269.50\" xmlns=\"http://www.w3.org/2000/svg\" xmlns:xlink=\"http://www.w3.org/1999/xlink\">\n<g id=\"graph0\" class=\"graph\" transform=\"scale(1 1) rotate(0) translate(4 265.5)\">\n<polygon fill=\"white\" stroke=\"none\" points=\"-4,4 -4,-265.5 736.25,-265.5 736.25,4 -4,4\"/>\n<!-- 4437670592 -->\n<g id=\"node1\" class=\"node\">\n<title>4437670592</title>\n<polygon fill=\"none\" stroke=\"black\" points=\"644.25,-46.5 644.25,-120 732.25,-120 732.25,-46.5 644.25,-46.5\"/>\n<text text-anchor=\"middle\" x=\"688.25\" y=\"-102.7\" font-family=\"Times,serif\" font-size=\"14.00\">L</text>\n<polyline fill=\"none\" stroke=\"black\" points=\"644.25,-95.5 732.25,-95.5\"/>\n<text text-anchor=\"middle\" x=\"688.25\" y=\"-78.2\" font-family=\"Times,serif\" font-size=\"14.00\">data: &#45;8.0000</text>\n<polyline fill=\"none\" stroke=\"black\" points=\"644.25,-71 732.25,-71\"/>\n<text text-anchor=\"middle\" x=\"688.25\" y=\"-53.7\" font-family=\"Times,serif\" font-size=\"14.00\">grad: 0.0000</text>\n</g>\n<!-- 4437670592* -->\n<g id=\"node2\" class=\"node\">\n<title>4437670592*</title>\n<ellipse fill=\"none\" stroke=\"black\" cx=\"581.25\" cy=\"-83.25\" rx=\"27\" ry=\"18\"/>\n<text text-anchor=\"middle\" x=\"581.25\" y=\"-78.2\" font-family=\"Times,serif\" font-size=\"14.00\">*</text>\n</g>\n<!-- 4437670592*&#45;&gt;4437670592 -->\n<g id=\"edge1\" class=\"edge\">\n<title>4437670592*&#45;&gt;4437670592</title>\n<path fill=\"none\" stroke=\"black\" d=\"M608.75,-83.25C616.1,-83.25 624.36,-83.25 632.69,-83.25\"/>\n<polygon fill=\"black\" stroke=\"black\" points=\"632.5,-86.75 642.5,-83.25 632.5,-79.75 632.5,-86.75\"/>\n</g>\n<!-- 4438722720 -->\n<g id=\"node3\" class=\"node\">\n<title>4438722720</title>\n<polygon fill=\"none\" stroke=\"black\" points=\"431.75,-93.5 431.75,-167 516.75,-167 516.75,-93.5 431.75,-93.5\"/>\n<text text-anchor=\"middle\" x=\"474.25\" y=\"-149.7\" font-family=\"Times,serif\" font-size=\"14.00\">e</text>\n<polyline fill=\"none\" stroke=\"black\" points=\"431.75,-142.5 516.75,-142.5\"/>\n<text text-anchor=\"middle\" x=\"474.25\" y=\"-125.2\" font-family=\"Times,serif\" font-size=\"14.00\">data: 4.0000</text>\n<polyline fill=\"none\" stroke=\"black\" points=\"431.75,-118 516.75,-118\"/>\n<text text-anchor=\"middle\" x=\"474.25\" y=\"-100.7\" font-family=\"Times,serif\" font-size=\"14.00\">grad: 0.0000</text>\n</g>\n<!-- 4438722720&#45;&gt;4437670592* -->\n<g id=\"edge9\" class=\"edge\">\n<title>4438722720&#45;&gt;4437670592*</title>\n<path fill=\"none\" stroke=\"black\" d=\"M517.05,-111.54C527.27,-106.96 538.06,-102.14 547.77,-97.79\"/>\n<polygon fill=\"black\" stroke=\"black\" points=\"549.11,-101.02 556.81,-93.74 546.25,-94.63 549.11,-101.02\"/>\n</g>\n<!-- 4438722720+ -->\n<g id=\"node4\" class=\"node\">\n<title>4438722720+</title>\n<ellipse fill=\"none\" stroke=\"black\" cx=\"367.25\" cy=\"-130.25\" rx=\"27\" ry=\"18\"/>\n<text text-anchor=\"middle\" x=\"367.25\" y=\"-125.2\" font-family=\"Times,serif\" font-size=\"14.00\">+</text>\n</g>\n<!-- 4438722720+&#45;&gt;4438722720 -->\n<g id=\"edge2\" class=\"edge\">\n<title>4438722720+&#45;&gt;4438722720</title>\n<path fill=\"none\" stroke=\"black\" d=\"M394.75,-130.25C402.61,-130.25 411.51,-130.25 420.42,-130.25\"/>\n<polygon fill=\"black\" stroke=\"black\" points=\"420.12,-133.75 430.12,-130.25 420.12,-126.75 420.12,-133.75\"/>\n</g>\n<!-- 4438735792 -->\n<g id=\"node5\" class=\"node\">\n<title>4438735792</title>\n<polygon fill=\"none\" stroke=\"black\" points=\"215.12,-140.5 215.12,-214 303.12,-214 303.12,-140.5 215.12,-140.5\"/>\n<text text-anchor=\"middle\" x=\"259.12\" y=\"-196.7\" font-family=\"Times,serif\" font-size=\"14.00\">d</text>\n<polyline fill=\"none\" stroke=\"black\" points=\"215.12,-189.5 303.12,-189.5\"/>\n<text text-anchor=\"middle\" x=\"259.12\" y=\"-172.2\" font-family=\"Times,serif\" font-size=\"14.00\">data: &#45;6.0000</text>\n<polyline fill=\"none\" stroke=\"black\" points=\"215.12,-165 303.12,-165\"/>\n<text text-anchor=\"middle\" x=\"259.12\" y=\"-147.7\" font-family=\"Times,serif\" font-size=\"14.00\">grad: 0.0000</text>\n</g>\n<!-- 4438735792&#45;&gt;4438722720+ -->\n<g id=\"edge8\" class=\"edge\">\n<title>4438735792&#45;&gt;4438722720+</title>\n<path fill=\"none\" stroke=\"black\" d=\"M303.6,-158C313.74,-153.5 324.38,-148.79 333.94,-144.56\"/>\n<polygon fill=\"black\" stroke=\"black\" points=\"335.09,-147.88 342.82,-140.63 332.26,-141.48 335.09,-147.88\"/>\n</g>\n<!-- 4438735792* -->\n<g id=\"node6\" class=\"node\">\n<title>4438735792*</title>\n<ellipse fill=\"none\" stroke=\"black\" cx=\"151\" cy=\"-177.25\" rx=\"27\" ry=\"18\"/>\n<text text-anchor=\"middle\" x=\"151\" y=\"-172.2\" font-family=\"Times,serif\" font-size=\"14.00\">*</text>\n</g>\n<!-- 4438735792*&#45;&gt;4438735792 -->\n<g id=\"edge3\" class=\"edge\">\n<title>4438735792*&#45;&gt;4438735792</title>\n<path fill=\"none\" stroke=\"black\" d=\"M178.23,-177.25C185.92,-177.25 194.62,-177.25 203.38,-177.25\"/>\n<polygon fill=\"black\" stroke=\"black\" points=\"203.34,-180.75 213.34,-177.25 203.34,-173.75 203.34,-180.75\"/>\n</g>\n<!-- 4465279056 -->\n<g id=\"node7\" class=\"node\">\n<title>4465279056</title>\n<polygon fill=\"none\" stroke=\"black\" points=\"1.5,-187.5 1.5,-261 86.5,-261 86.5,-187.5 1.5,-187.5\"/>\n<text text-anchor=\"middle\" x=\"44\" y=\"-243.7\" font-family=\"Times,serif\" font-size=\"14.00\">a</text>\n<polyline fill=\"none\" stroke=\"black\" points=\"1.5,-236.5 86.5,-236.5\"/>\n<text text-anchor=\"middle\" x=\"44\" y=\"-219.2\" font-family=\"Times,serif\" font-size=\"14.00\">data: 2.0000</text>\n<polyline fill=\"none\" stroke=\"black\" points=\"1.5,-212 86.5,-212\"/>\n<text text-anchor=\"middle\" x=\"44\" y=\"-194.7\" font-family=\"Times,serif\" font-size=\"14.00\">grad: 0.0000</text>\n</g>\n<!-- 4465279056&#45;&gt;4438735792* -->\n<g id=\"edge7\" class=\"edge\">\n<title>4465279056&#45;&gt;4438735792*</title>\n<path fill=\"none\" stroke=\"black\" d=\"M86.8,-205.54C97.02,-200.96 107.81,-196.14 117.52,-191.79\"/>\n<polygon fill=\"black\" stroke=\"black\" points=\"118.86,-195.02 126.56,-187.74 116,-188.63 118.86,-195.02\"/>\n</g>\n<!-- 4468394896 -->\n<g id=\"node8\" class=\"node\">\n<title>4468394896</title>\n<polygon fill=\"none\" stroke=\"black\" points=\"0,-94.5 0,-168 88,-168 88,-94.5 0,-94.5\"/>\n<text text-anchor=\"middle\" x=\"44\" y=\"-150.7\" font-family=\"Times,serif\" font-size=\"14.00\">b</text>\n<polyline fill=\"none\" stroke=\"black\" points=\"0,-143.5 88,-143.5\"/>\n<text text-anchor=\"middle\" x=\"44\" y=\"-126.2\" font-family=\"Times,serif\" font-size=\"14.00\">data: &#45;3.0000</text>\n<polyline fill=\"none\" stroke=\"black\" points=\"0,-119 88,-119\"/>\n<text text-anchor=\"middle\" x=\"44\" y=\"-101.7\" font-family=\"Times,serif\" font-size=\"14.00\">grad: 0.0000</text>\n</g>\n<!-- 4468394896&#45;&gt;4438735792* -->\n<g id=\"edge6\" class=\"edge\">\n<title>4468394896&#45;&gt;4438735792*</title>\n<path fill=\"none\" stroke=\"black\" d=\"M88.31,-150.23C98.06,-154.49 108.24,-158.95 117.46,-162.99\"/>\n<polygon fill=\"black\" stroke=\"black\" points=\"115.8,-166.09 126.36,-166.89 118.61,-159.68 115.8,-166.09\"/>\n</g>\n<!-- 4469819984 -->\n<g id=\"node9\" class=\"node\">\n<title>4469819984</title>\n<polygon fill=\"none\" stroke=\"black\" points=\"214,-47.5 214,-121 304.25,-121 304.25,-47.5 214,-47.5\"/>\n<text text-anchor=\"middle\" x=\"259.12\" y=\"-103.7\" font-family=\"Times,serif\" font-size=\"14.00\">c</text>\n<polyline fill=\"none\" stroke=\"black\" points=\"214,-96.5 304.25,-96.5\"/>\n<text text-anchor=\"middle\" x=\"259.12\" y=\"-79.2\" font-family=\"Times,serif\" font-size=\"14.00\">data: 10.0000</text>\n<polyline fill=\"none\" stroke=\"black\" points=\"214,-72 304.25,-72\"/>\n<text text-anchor=\"middle\" x=\"259.12\" y=\"-54.7\" font-family=\"Times,serif\" font-size=\"14.00\">grad: 0.0000</text>\n</g>\n<!-- 4469819984&#45;&gt;4438722720+ -->\n<g id=\"edge4\" class=\"edge\">\n<title>4469819984&#45;&gt;4438722720+</title>\n<path fill=\"none\" stroke=\"black\" d=\"M304.52,-103.49C314.31,-107.74 324.52,-112.16 333.74,-116.16\"/>\n<polygon fill=\"black\" stroke=\"black\" points=\"332.08,-119.25 342.65,-120.02 334.86,-112.83 332.08,-119.25\"/>\n</g>\n<!-- 4431904016 -->\n<g id=\"node10\" class=\"node\">\n<title>4431904016</title>\n<polygon fill=\"none\" stroke=\"black\" points=\"430.25,-0.5 430.25,-74 518.25,-74 518.25,-0.5 430.25,-0.5\"/>\n<text text-anchor=\"middle\" x=\"474.25\" y=\"-56.7\" font-family=\"Times,serif\" font-size=\"14.00\">f</text>\n<polyline fill=\"none\" stroke=\"black\" points=\"430.25,-49.5 518.25,-49.5\"/>\n<text text-anchor=\"middle\" x=\"474.25\" y=\"-32.2\" font-family=\"Times,serif\" font-size=\"14.00\">data: &#45;2.0000</text>\n<polyline fill=\"none\" stroke=\"black\" points=\"430.25,-25 518.25,-25\"/>\n<text text-anchor=\"middle\" x=\"474.25\" y=\"-7.7\" font-family=\"Times,serif\" font-size=\"14.00\">grad: 0.0000</text>\n</g>\n<!-- 4431904016&#45;&gt;4437670592* -->\n<g id=\"edge5\" class=\"edge\">\n<title>4431904016&#45;&gt;4437670592*</title>\n<path fill=\"none\" stroke=\"black\" d=\"M518.56,-56.23C528.31,-60.49 538.49,-64.95 547.71,-68.99\"/>\n<polygon fill=\"black\" stroke=\"black\" points=\"546.05,-72.09 556.61,-72.89 548.86,-65.68 546.05,-72.09\"/>\n</g>\n</g>\n</svg>\n",
      "text/plain": [
       "<graphviz.graphs.Digraph at 0x10a5d9590>"
      ]
     },
     "execution_count": 392,
     "metadata": {},
     "output_type": "execute_result"
    }
   ],
   "execution_count": 392
  },
  {
   "metadata": {
    "ExecuteTime": {
     "end_time": "2025-03-09T00:24:52.138761Z",
     "start_time": "2025-03-09T00:24:52.029930Z"
    }
   },
   "cell_type": "code",
   "source": [
    "# Single neuron example\n",
    "\n",
    "# inputs x1,x2\n",
    "x1 = Value(2.0, label='x1')\n",
    "x2 = Value(0.0, label='x2')\n",
    "# weights w1,w2\n",
    "w1 = Value(-3.0, label='w1')\n",
    "w2 = Value(1.0, label='w2')\n",
    "# bias of the neuron\n",
    "b = Value(6.8813735870195432, label='b')\n",
    "# x1*w1 + x2*w2 + b\n",
    "x1w1 = x1*w1; x1w1. label = 'w1*x1'\n",
    "x2w2 = x2*w2; x2w2.label = 'w2*x2'\n",
    "x1w1x2w2 = x1w1 + x2w2; x1w1x2w2.label = 'Wx'\n",
    "n = x1w1x2w2 + b; n.label = 'n'\n",
    "o = n.tanh(); o.label = 'o'\n",
    "\n",
    "o.grad = 1.0  # initialize \"loss\" to backpropagate\n",
    "\n",
    "o._backward()           # propagate through \"o\" = tanh(\"n\")\n",
    "\n",
    "n._backward()           # propagate through \"n\" = \"Wx\" + \"b\"\n",
    "\n",
    "b._backward()           # propagate through \"b\" (leaf - nothing happens)\n",
    "x1w1x2w2._backward()    # propagate through \"Wx\" = \"w2*x2\" + \"w1*x1\"\n",
    "\n",
    "x2w2._backward()        # propagate through \"w2*x2\" = \"w2\" * \"x2\"\n",
    "x1w1._backward()        # propagate through \"w1*x1\" = \"w1\" * \"x1\"\n",
    "\n",
    "draw_dot(o)"
   ],
   "id": "692e57c3108516b8",
   "outputs": [
    {
     "data": {
      "image/svg+xml": "<?xml version=\"1.0\" encoding=\"UTF-8\" standalone=\"no\"?>\n<!DOCTYPE svg PUBLIC \"-//W3C//DTD SVG 1.1//EN\"\n \"http://www.w3.org/Graphics/SVG/1.1/DTD/svg11.dtd\">\n<!-- Generated by graphviz version 12.2.1 (20241206.2353)\n -->\n<!-- Pages: 1 -->\n<svg width=\"948pt\" height=\"362pt\"\n viewBox=\"0.00 0.00 947.50 361.50\" xmlns=\"http://www.w3.org/2000/svg\" xmlns:xlink=\"http://www.w3.org/1999/xlink\">\n<g id=\"graph0\" class=\"graph\" transform=\"scale(1 1) rotate(0) translate(4 357.5)\">\n<polygon fill=\"white\" stroke=\"none\" points=\"-4,4 -4,-357.5 943.5,-357.5 943.5,4 -4,4\"/>\n<!-- 4469666256 -->\n<g id=\"node1\" class=\"node\">\n<title>4469666256</title>\n<polygon fill=\"none\" stroke=\"black\" points=\"854.5,-92.5 854.5,-166 939.5,-166 939.5,-92.5 854.5,-92.5\"/>\n<text text-anchor=\"middle\" x=\"897\" y=\"-148.7\" font-family=\"Times,serif\" font-size=\"14.00\">o</text>\n<polyline fill=\"none\" stroke=\"black\" points=\"854.5,-141.5 939.5,-141.5\"/>\n<text text-anchor=\"middle\" x=\"897\" y=\"-124.2\" font-family=\"Times,serif\" font-size=\"14.00\">data: 0.7071</text>\n<polyline fill=\"none\" stroke=\"black\" points=\"854.5,-117 939.5,-117\"/>\n<text text-anchor=\"middle\" x=\"897\" y=\"-99.7\" font-family=\"Times,serif\" font-size=\"14.00\">grad: 1.0000</text>\n</g>\n<!-- 4469666256tanh -->\n<g id=\"node2\" class=\"node\">\n<title>4469666256tanh</title>\n<ellipse fill=\"none\" stroke=\"black\" cx=\"791.5\" cy=\"-129.25\" rx=\"27\" ry=\"18\"/>\n<text text-anchor=\"middle\" x=\"791.5\" y=\"-124.2\" font-family=\"Times,serif\" font-size=\"14.00\">tanh</text>\n</g>\n<!-- 4469666256tanh&#45;&gt;4469666256 -->\n<g id=\"edge1\" class=\"edge\">\n<title>4469666256tanh&#45;&gt;4469666256</title>\n<path fill=\"none\" stroke=\"black\" d=\"M818.89,-129.25C826.3,-129.25 834.63,-129.25 843.01,-129.25\"/>\n<polygon fill=\"black\" stroke=\"black\" points=\"842.86,-132.75 852.86,-129.25 842.86,-125.75 842.86,-132.75\"/>\n</g>\n<!-- 4469664336 -->\n<g id=\"node3\" class=\"node\">\n<title>4469664336</title>\n<polygon fill=\"none\" stroke=\"black\" points=\"643.5,-92.5 643.5,-166 728.5,-166 728.5,-92.5 643.5,-92.5\"/>\n<text text-anchor=\"middle\" x=\"686\" y=\"-148.7\" font-family=\"Times,serif\" font-size=\"14.00\">n</text>\n<polyline fill=\"none\" stroke=\"black\" points=\"643.5,-141.5 728.5,-141.5\"/>\n<text text-anchor=\"middle\" x=\"686\" y=\"-124.2\" font-family=\"Times,serif\" font-size=\"14.00\">data: 0.8814</text>\n<polyline fill=\"none\" stroke=\"black\" points=\"643.5,-117 728.5,-117\"/>\n<text text-anchor=\"middle\" x=\"686\" y=\"-99.7\" font-family=\"Times,serif\" font-size=\"14.00\">grad: 0.5000</text>\n</g>\n<!-- 4469664336&#45;&gt;4469666256tanh -->\n<g id=\"edge13\" class=\"edge\">\n<title>4469664336&#45;&gt;4469666256tanh</title>\n<path fill=\"none\" stroke=\"black\" d=\"M728.8,-129.25C736.7,-129.25 744.92,-129.25 752.68,-129.25\"/>\n<polygon fill=\"black\" stroke=\"black\" points=\"752.51,-132.75 762.51,-129.25 752.51,-125.75 752.51,-132.75\"/>\n</g>\n<!-- 4469664336+ -->\n<g id=\"node4\" class=\"node\">\n<title>4469664336+</title>\n<ellipse fill=\"none\" stroke=\"black\" cx=\"580.5\" cy=\"-129.25\" rx=\"27\" ry=\"18\"/>\n<text text-anchor=\"middle\" x=\"580.5\" y=\"-124.2\" font-family=\"Times,serif\" font-size=\"14.00\">+</text>\n</g>\n<!-- 4469664336+&#45;&gt;4469664336 -->\n<g id=\"edge2\" class=\"edge\">\n<title>4469664336+&#45;&gt;4469664336</title>\n<path fill=\"none\" stroke=\"black\" d=\"M607.89,-129.25C615.3,-129.25 623.63,-129.25 632.01,-129.25\"/>\n<polygon fill=\"black\" stroke=\"black\" points=\"631.86,-132.75 641.86,-129.25 631.86,-125.75 631.86,-132.75\"/>\n</g>\n<!-- 4469299168 -->\n<g id=\"node5\" class=\"node\">\n<title>4469299168</title>\n<polygon fill=\"none\" stroke=\"black\" points=\"429.5,-139.5 429.5,-213 517.5,-213 517.5,-139.5 429.5,-139.5\"/>\n<text text-anchor=\"middle\" x=\"473.5\" y=\"-195.7\" font-family=\"Times,serif\" font-size=\"14.00\">Wx</text>\n<polyline fill=\"none\" stroke=\"black\" points=\"429.5,-188.5 517.5,-188.5\"/>\n<text text-anchor=\"middle\" x=\"473.5\" y=\"-171.2\" font-family=\"Times,serif\" font-size=\"14.00\">data: &#45;6.0000</text>\n<polyline fill=\"none\" stroke=\"black\" points=\"429.5,-164 517.5,-164\"/>\n<text text-anchor=\"middle\" x=\"473.5\" y=\"-146.7\" font-family=\"Times,serif\" font-size=\"14.00\">grad: 0.5000</text>\n</g>\n<!-- 4469299168&#45;&gt;4469664336+ -->\n<g id=\"edge9\" class=\"edge\">\n<title>4469299168&#45;&gt;4469664336+</title>\n<path fill=\"none\" stroke=\"black\" d=\"M517.81,-156.86C527.64,-152.46 537.91,-147.87 547.19,-143.71\"/>\n<polygon fill=\"black\" stroke=\"black\" points=\"548.46,-146.98 556.15,-139.7 545.6,-140.59 548.46,-146.98\"/>\n</g>\n<!-- 4469299168+ -->\n<g id=\"node6\" class=\"node\">\n<title>4469299168+</title>\n<ellipse fill=\"none\" stroke=\"black\" cx=\"366.5\" cy=\"-176.25\" rx=\"27\" ry=\"18\"/>\n<text text-anchor=\"middle\" x=\"366.5\" y=\"-171.2\" font-family=\"Times,serif\" font-size=\"14.00\">+</text>\n</g>\n<!-- 4469299168+&#45;&gt;4469299168 -->\n<g id=\"edge3\" class=\"edge\">\n<title>4469299168+&#45;&gt;4469299168</title>\n<path fill=\"none\" stroke=\"black\" d=\"M394,-176.25C401.35,-176.25 409.61,-176.25 417.94,-176.25\"/>\n<polygon fill=\"black\" stroke=\"black\" points=\"417.75,-179.75 427.75,-176.25 417.75,-172.75 417.75,-179.75\"/>\n</g>\n<!-- 4468943664 -->\n<g id=\"node7\" class=\"node\">\n<title>4468943664</title>\n<polygon fill=\"none\" stroke=\"black\" points=\"215.5,-186.5 215.5,-260 303.5,-260 303.5,-186.5 215.5,-186.5\"/>\n<text text-anchor=\"middle\" x=\"259.5\" y=\"-242.7\" font-family=\"Times,serif\" font-size=\"14.00\">w1*x1</text>\n<polyline fill=\"none\" stroke=\"black\" points=\"215.5,-235.5 303.5,-235.5\"/>\n<text text-anchor=\"middle\" x=\"259.5\" y=\"-218.2\" font-family=\"Times,serif\" font-size=\"14.00\">data: &#45;6.0000</text>\n<polyline fill=\"none\" stroke=\"black\" points=\"215.5,-211 303.5,-211\"/>\n<text text-anchor=\"middle\" x=\"259.5\" y=\"-193.7\" font-family=\"Times,serif\" font-size=\"14.00\">grad: 0.5000</text>\n</g>\n<!-- 4468943664&#45;&gt;4469299168+ -->\n<g id=\"edge10\" class=\"edge\">\n<title>4468943664&#45;&gt;4469299168+</title>\n<path fill=\"none\" stroke=\"black\" d=\"M303.81,-203.86C313.64,-199.46 323.91,-194.87 333.19,-190.71\"/>\n<polygon fill=\"black\" stroke=\"black\" points=\"334.46,-193.98 342.15,-186.7 331.6,-187.59 334.46,-193.98\"/>\n</g>\n<!-- 4468943664* -->\n<g id=\"node8\" class=\"node\">\n<title>4468943664*</title>\n<ellipse fill=\"none\" stroke=\"black\" cx=\"152.5\" cy=\"-223.25\" rx=\"27\" ry=\"18\"/>\n<text text-anchor=\"middle\" x=\"152.5\" y=\"-218.2\" font-family=\"Times,serif\" font-size=\"14.00\">*</text>\n</g>\n<!-- 4468943664*&#45;&gt;4468943664 -->\n<g id=\"edge4\" class=\"edge\">\n<title>4468943664*&#45;&gt;4468943664</title>\n<path fill=\"none\" stroke=\"black\" d=\"M180,-223.25C187.35,-223.25 195.61,-223.25 203.94,-223.25\"/>\n<polygon fill=\"black\" stroke=\"black\" points=\"203.75,-226.75 213.75,-223.25 203.75,-219.75 203.75,-226.75\"/>\n</g>\n<!-- 4437667600 -->\n<g id=\"node9\" class=\"node\">\n<title>4437667600</title>\n<polygon fill=\"none\" stroke=\"black\" points=\"0,-279.5 0,-353 89.5,-353 89.5,-279.5 0,-279.5\"/>\n<text text-anchor=\"middle\" x=\"44.75\" y=\"-335.7\" font-family=\"Times,serif\" font-size=\"14.00\">x1</text>\n<polyline fill=\"none\" stroke=\"black\" points=\"0,-328.5 89.5,-328.5\"/>\n<text text-anchor=\"middle\" x=\"44.75\" y=\"-311.2\" font-family=\"Times,serif\" font-size=\"14.00\">data: 2.0000</text>\n<polyline fill=\"none\" stroke=\"black\" points=\"0,-304 89.5,-304\"/>\n<text text-anchor=\"middle\" x=\"44.75\" y=\"-286.7\" font-family=\"Times,serif\" font-size=\"14.00\">grad: &#45;1.5000</text>\n</g>\n<!-- 4437667600&#45;&gt;4468943664* -->\n<g id=\"edge12\" class=\"edge\">\n<title>4437667600&#45;&gt;4468943664*</title>\n<path fill=\"none\" stroke=\"black\" d=\"M87.85,-279.23C101.16,-267.52 115.42,-254.98 127.06,-244.74\"/>\n<polygon fill=\"black\" stroke=\"black\" points=\"129.06,-247.64 134.26,-238.41 124.44,-242.39 129.06,-247.64\"/>\n</g>\n<!-- 4444336208 -->\n<g id=\"node10\" class=\"node\">\n<title>4444336208</title>\n<polygon fill=\"none\" stroke=\"black\" points=\"0.75,-186.5 0.75,-260 88.75,-260 88.75,-186.5 0.75,-186.5\"/>\n<text text-anchor=\"middle\" x=\"44.75\" y=\"-242.7\" font-family=\"Times,serif\" font-size=\"14.00\">w1</text>\n<polyline fill=\"none\" stroke=\"black\" points=\"0.75,-235.5 88.75,-235.5\"/>\n<text text-anchor=\"middle\" x=\"44.75\" y=\"-218.2\" font-family=\"Times,serif\" font-size=\"14.00\">data: &#45;3.0000</text>\n<polyline fill=\"none\" stroke=\"black\" points=\"0.75,-211 88.75,-211\"/>\n<text text-anchor=\"middle\" x=\"44.75\" y=\"-193.7\" font-family=\"Times,serif\" font-size=\"14.00\">grad: 1.0000</text>\n</g>\n<!-- 4444336208&#45;&gt;4468943664* -->\n<g id=\"edge6\" class=\"edge\">\n<title>4444336208&#45;&gt;4468943664*</title>\n<path fill=\"none\" stroke=\"black\" d=\"M89.07,-223.25C97.27,-223.25 105.79,-223.25 113.8,-223.25\"/>\n<polygon fill=\"black\" stroke=\"black\" points=\"113.56,-226.75 123.56,-223.25 113.56,-219.75 113.56,-226.75\"/>\n</g>\n<!-- 4465996784 -->\n<g id=\"node11\" class=\"node\">\n<title>4465996784</title>\n<polygon fill=\"none\" stroke=\"black\" points=\"217,-93.5 217,-167 302,-167 302,-93.5 217,-93.5\"/>\n<text text-anchor=\"middle\" x=\"259.5\" y=\"-149.7\" font-family=\"Times,serif\" font-size=\"14.00\">w2*x2</text>\n<polyline fill=\"none\" stroke=\"black\" points=\"217,-142.5 302,-142.5\"/>\n<text text-anchor=\"middle\" x=\"259.5\" y=\"-125.2\" font-family=\"Times,serif\" font-size=\"14.00\">data: 0.0000</text>\n<polyline fill=\"none\" stroke=\"black\" points=\"217,-118 302,-118\"/>\n<text text-anchor=\"middle\" x=\"259.5\" y=\"-100.7\" font-family=\"Times,serif\" font-size=\"14.00\">grad: 0.5000</text>\n</g>\n<!-- 4465996784&#45;&gt;4469299168+ -->\n<g id=\"edge8\" class=\"edge\">\n<title>4465996784&#45;&gt;4469299168+</title>\n<path fill=\"none\" stroke=\"black\" d=\"M302.3,-148.56C312.52,-153.04 323.31,-157.77 333.02,-162.02\"/>\n<polygon fill=\"black\" stroke=\"black\" points=\"331.49,-165.17 342.06,-165.98 334.3,-158.76 331.49,-165.17\"/>\n</g>\n<!-- 4465996784* -->\n<g id=\"node12\" class=\"node\">\n<title>4465996784*</title>\n<ellipse fill=\"none\" stroke=\"black\" cx=\"152.5\" cy=\"-130.25\" rx=\"27\" ry=\"18\"/>\n<text text-anchor=\"middle\" x=\"152.5\" y=\"-125.2\" font-family=\"Times,serif\" font-size=\"14.00\">*</text>\n</g>\n<!-- 4465996784*&#45;&gt;4465996784 -->\n<g id=\"edge5\" class=\"edge\">\n<title>4465996784*&#45;&gt;4465996784</title>\n<path fill=\"none\" stroke=\"black\" d=\"M180,-130.25C187.86,-130.25 196.76,-130.25 205.67,-130.25\"/>\n<polygon fill=\"black\" stroke=\"black\" points=\"205.37,-133.75 215.37,-130.25 205.37,-126.75 205.37,-133.75\"/>\n</g>\n<!-- 4444331600 -->\n<g id=\"node13\" class=\"node\">\n<title>4444331600</title>\n<polygon fill=\"none\" stroke=\"black\" points=\"2.25,-93.5 2.25,-167 87.25,-167 87.25,-93.5 2.25,-93.5\"/>\n<text text-anchor=\"middle\" x=\"44.75\" y=\"-149.7\" font-family=\"Times,serif\" font-size=\"14.00\">x2</text>\n<polyline fill=\"none\" stroke=\"black\" points=\"2.25,-142.5 87.25,-142.5\"/>\n<text text-anchor=\"middle\" x=\"44.75\" y=\"-125.2\" font-family=\"Times,serif\" font-size=\"14.00\">data: 0.0000</text>\n<polyline fill=\"none\" stroke=\"black\" points=\"2.25,-118 87.25,-118\"/>\n<text text-anchor=\"middle\" x=\"44.75\" y=\"-100.7\" font-family=\"Times,serif\" font-size=\"14.00\">grad: 0.5000</text>\n</g>\n<!-- 4444331600&#45;&gt;4465996784* -->\n<g id=\"edge14\" class=\"edge\">\n<title>4444331600&#45;&gt;4465996784*</title>\n<path fill=\"none\" stroke=\"black\" d=\"M87.55,-130.25C96.18,-130.25 105.22,-130.25 113.7,-130.25\"/>\n<polygon fill=\"black\" stroke=\"black\" points=\"113.7,-133.75 123.7,-130.25 113.7,-126.75 113.7,-133.75\"/>\n</g>\n<!-- 4467750096 -->\n<g id=\"node14\" class=\"node\">\n<title>4467750096</title>\n<polygon fill=\"none\" stroke=\"black\" points=\"2.25,-0.5 2.25,-74 87.25,-74 87.25,-0.5 2.25,-0.5\"/>\n<text text-anchor=\"middle\" x=\"44.75\" y=\"-56.7\" font-family=\"Times,serif\" font-size=\"14.00\">w2</text>\n<polyline fill=\"none\" stroke=\"black\" points=\"2.25,-49.5 87.25,-49.5\"/>\n<text text-anchor=\"middle\" x=\"44.75\" y=\"-32.2\" font-family=\"Times,serif\" font-size=\"14.00\">data: 1.0000</text>\n<polyline fill=\"none\" stroke=\"black\" points=\"2.25,-25 87.25,-25\"/>\n<text text-anchor=\"middle\" x=\"44.75\" y=\"-7.7\" font-family=\"Times,serif\" font-size=\"14.00\">grad: 0.0000</text>\n</g>\n<!-- 4467750096&#45;&gt;4465996784* -->\n<g id=\"edge11\" class=\"edge\">\n<title>4467750096&#45;&gt;4465996784*</title>\n<path fill=\"none\" stroke=\"black\" d=\"M87.55,-74.01C100.89,-85.74 115.21,-98.34 126.92,-108.63\"/>\n<polygon fill=\"black\" stroke=\"black\" points=\"124.34,-111.03 134.16,-115 128.96,-105.77 124.34,-111.03\"/>\n</g>\n<!-- 4467709408 -->\n<g id=\"node15\" class=\"node\">\n<title>4467709408</title>\n<polygon fill=\"none\" stroke=\"black\" points=\"431,-46.5 431,-120 516,-120 516,-46.5 431,-46.5\"/>\n<text text-anchor=\"middle\" x=\"473.5\" y=\"-102.7\" font-family=\"Times,serif\" font-size=\"14.00\">b</text>\n<polyline fill=\"none\" stroke=\"black\" points=\"431,-95.5 516,-95.5\"/>\n<text text-anchor=\"middle\" x=\"473.5\" y=\"-78.2\" font-family=\"Times,serif\" font-size=\"14.00\">data: 6.8814</text>\n<polyline fill=\"none\" stroke=\"black\" points=\"431,-71 516,-71\"/>\n<text text-anchor=\"middle\" x=\"473.5\" y=\"-53.7\" font-family=\"Times,serif\" font-size=\"14.00\">grad: 0.5000</text>\n</g>\n<!-- 4467709408&#45;&gt;4469664336+ -->\n<g id=\"edge7\" class=\"edge\">\n<title>4467709408&#45;&gt;4469664336+</title>\n<path fill=\"none\" stroke=\"black\" d=\"M516.3,-101.56C526.52,-106.04 537.31,-110.77 547.02,-115.02\"/>\n<polygon fill=\"black\" stroke=\"black\" points=\"545.49,-118.17 556.06,-118.98 548.3,-111.76 545.49,-118.17\"/>\n</g>\n</g>\n</svg>\n",
      "text/plain": [
       "<graphviz.graphs.Digraph at 0x10a52f930>"
      ]
     },
     "execution_count": 393,
     "metadata": {},
     "output_type": "execute_result"
    }
   ],
   "execution_count": 393
  },
  {
   "metadata": {
    "ExecuteTime": {
     "end_time": "2025-03-09T00:24:52.248226Z",
     "start_time": "2025-03-09T00:24:52.145107Z"
    }
   },
   "cell_type": "code",
   "source": [
    "# let's do backpropagation in Value instead\n",
    "o.zero_grad()\n",
    "o.backward()\n",
    "draw_dot(o)"
   ],
   "id": "3841f2c7b21e0b1c",
   "outputs": [
    {
     "data": {
      "image/svg+xml": "<?xml version=\"1.0\" encoding=\"UTF-8\" standalone=\"no\"?>\n<!DOCTYPE svg PUBLIC \"-//W3C//DTD SVG 1.1//EN\"\n \"http://www.w3.org/Graphics/SVG/1.1/DTD/svg11.dtd\">\n<!-- Generated by graphviz version 12.2.1 (20241206.2353)\n -->\n<!-- Pages: 1 -->\n<svg width=\"948pt\" height=\"362pt\"\n viewBox=\"0.00 0.00 947.50 361.50\" xmlns=\"http://www.w3.org/2000/svg\" xmlns:xlink=\"http://www.w3.org/1999/xlink\">\n<g id=\"graph0\" class=\"graph\" transform=\"scale(1 1) rotate(0) translate(4 357.5)\">\n<polygon fill=\"white\" stroke=\"none\" points=\"-4,4 -4,-357.5 943.5,-357.5 943.5,4 -4,4\"/>\n<!-- 4469666256 -->\n<g id=\"node1\" class=\"node\">\n<title>4469666256</title>\n<polygon fill=\"none\" stroke=\"black\" points=\"854.5,-92.5 854.5,-166 939.5,-166 939.5,-92.5 854.5,-92.5\"/>\n<text text-anchor=\"middle\" x=\"897\" y=\"-148.7\" font-family=\"Times,serif\" font-size=\"14.00\">o</text>\n<polyline fill=\"none\" stroke=\"black\" points=\"854.5,-141.5 939.5,-141.5\"/>\n<text text-anchor=\"middle\" x=\"897\" y=\"-124.2\" font-family=\"Times,serif\" font-size=\"14.00\">data: 0.7071</text>\n<polyline fill=\"none\" stroke=\"black\" points=\"854.5,-117 939.5,-117\"/>\n<text text-anchor=\"middle\" x=\"897\" y=\"-99.7\" font-family=\"Times,serif\" font-size=\"14.00\">grad: 1.0000</text>\n</g>\n<!-- 4469666256tanh -->\n<g id=\"node2\" class=\"node\">\n<title>4469666256tanh</title>\n<ellipse fill=\"none\" stroke=\"black\" cx=\"791.5\" cy=\"-129.25\" rx=\"27\" ry=\"18\"/>\n<text text-anchor=\"middle\" x=\"791.5\" y=\"-124.2\" font-family=\"Times,serif\" font-size=\"14.00\">tanh</text>\n</g>\n<!-- 4469666256tanh&#45;&gt;4469666256 -->\n<g id=\"edge1\" class=\"edge\">\n<title>4469666256tanh&#45;&gt;4469666256</title>\n<path fill=\"none\" stroke=\"black\" d=\"M818.89,-129.25C826.3,-129.25 834.63,-129.25 843.01,-129.25\"/>\n<polygon fill=\"black\" stroke=\"black\" points=\"842.86,-132.75 852.86,-129.25 842.86,-125.75 842.86,-132.75\"/>\n</g>\n<!-- 4469664336 -->\n<g id=\"node3\" class=\"node\">\n<title>4469664336</title>\n<polygon fill=\"none\" stroke=\"black\" points=\"643.5,-92.5 643.5,-166 728.5,-166 728.5,-92.5 643.5,-92.5\"/>\n<text text-anchor=\"middle\" x=\"686\" y=\"-148.7\" font-family=\"Times,serif\" font-size=\"14.00\">n</text>\n<polyline fill=\"none\" stroke=\"black\" points=\"643.5,-141.5 728.5,-141.5\"/>\n<text text-anchor=\"middle\" x=\"686\" y=\"-124.2\" font-family=\"Times,serif\" font-size=\"14.00\">data: 0.8814</text>\n<polyline fill=\"none\" stroke=\"black\" points=\"643.5,-117 728.5,-117\"/>\n<text text-anchor=\"middle\" x=\"686\" y=\"-99.7\" font-family=\"Times,serif\" font-size=\"14.00\">grad: 0.5000</text>\n</g>\n<!-- 4469664336&#45;&gt;4469666256tanh -->\n<g id=\"edge13\" class=\"edge\">\n<title>4469664336&#45;&gt;4469666256tanh</title>\n<path fill=\"none\" stroke=\"black\" d=\"M728.8,-129.25C736.7,-129.25 744.92,-129.25 752.68,-129.25\"/>\n<polygon fill=\"black\" stroke=\"black\" points=\"752.51,-132.75 762.51,-129.25 752.51,-125.75 752.51,-132.75\"/>\n</g>\n<!-- 4469664336+ -->\n<g id=\"node4\" class=\"node\">\n<title>4469664336+</title>\n<ellipse fill=\"none\" stroke=\"black\" cx=\"580.5\" cy=\"-129.25\" rx=\"27\" ry=\"18\"/>\n<text text-anchor=\"middle\" x=\"580.5\" y=\"-124.2\" font-family=\"Times,serif\" font-size=\"14.00\">+</text>\n</g>\n<!-- 4469664336+&#45;&gt;4469664336 -->\n<g id=\"edge2\" class=\"edge\">\n<title>4469664336+&#45;&gt;4469664336</title>\n<path fill=\"none\" stroke=\"black\" d=\"M607.89,-129.25C615.3,-129.25 623.63,-129.25 632.01,-129.25\"/>\n<polygon fill=\"black\" stroke=\"black\" points=\"631.86,-132.75 641.86,-129.25 631.86,-125.75 631.86,-132.75\"/>\n</g>\n<!-- 4469299168 -->\n<g id=\"node5\" class=\"node\">\n<title>4469299168</title>\n<polygon fill=\"none\" stroke=\"black\" points=\"429.5,-139.5 429.5,-213 517.5,-213 517.5,-139.5 429.5,-139.5\"/>\n<text text-anchor=\"middle\" x=\"473.5\" y=\"-195.7\" font-family=\"Times,serif\" font-size=\"14.00\">Wx</text>\n<polyline fill=\"none\" stroke=\"black\" points=\"429.5,-188.5 517.5,-188.5\"/>\n<text text-anchor=\"middle\" x=\"473.5\" y=\"-171.2\" font-family=\"Times,serif\" font-size=\"14.00\">data: &#45;6.0000</text>\n<polyline fill=\"none\" stroke=\"black\" points=\"429.5,-164 517.5,-164\"/>\n<text text-anchor=\"middle\" x=\"473.5\" y=\"-146.7\" font-family=\"Times,serif\" font-size=\"14.00\">grad: 0.5000</text>\n</g>\n<!-- 4469299168&#45;&gt;4469664336+ -->\n<g id=\"edge9\" class=\"edge\">\n<title>4469299168&#45;&gt;4469664336+</title>\n<path fill=\"none\" stroke=\"black\" d=\"M517.81,-156.86C527.64,-152.46 537.91,-147.87 547.19,-143.71\"/>\n<polygon fill=\"black\" stroke=\"black\" points=\"548.46,-146.98 556.15,-139.7 545.6,-140.59 548.46,-146.98\"/>\n</g>\n<!-- 4469299168+ -->\n<g id=\"node6\" class=\"node\">\n<title>4469299168+</title>\n<ellipse fill=\"none\" stroke=\"black\" cx=\"366.5\" cy=\"-176.25\" rx=\"27\" ry=\"18\"/>\n<text text-anchor=\"middle\" x=\"366.5\" y=\"-171.2\" font-family=\"Times,serif\" font-size=\"14.00\">+</text>\n</g>\n<!-- 4469299168+&#45;&gt;4469299168 -->\n<g id=\"edge3\" class=\"edge\">\n<title>4469299168+&#45;&gt;4469299168</title>\n<path fill=\"none\" stroke=\"black\" d=\"M394,-176.25C401.35,-176.25 409.61,-176.25 417.94,-176.25\"/>\n<polygon fill=\"black\" stroke=\"black\" points=\"417.75,-179.75 427.75,-176.25 417.75,-172.75 417.75,-179.75\"/>\n</g>\n<!-- 4468943664 -->\n<g id=\"node7\" class=\"node\">\n<title>4468943664</title>\n<polygon fill=\"none\" stroke=\"black\" points=\"215.5,-186.5 215.5,-260 303.5,-260 303.5,-186.5 215.5,-186.5\"/>\n<text text-anchor=\"middle\" x=\"259.5\" y=\"-242.7\" font-family=\"Times,serif\" font-size=\"14.00\">w1*x1</text>\n<polyline fill=\"none\" stroke=\"black\" points=\"215.5,-235.5 303.5,-235.5\"/>\n<text text-anchor=\"middle\" x=\"259.5\" y=\"-218.2\" font-family=\"Times,serif\" font-size=\"14.00\">data: &#45;6.0000</text>\n<polyline fill=\"none\" stroke=\"black\" points=\"215.5,-211 303.5,-211\"/>\n<text text-anchor=\"middle\" x=\"259.5\" y=\"-193.7\" font-family=\"Times,serif\" font-size=\"14.00\">grad: 0.5000</text>\n</g>\n<!-- 4468943664&#45;&gt;4469299168+ -->\n<g id=\"edge10\" class=\"edge\">\n<title>4468943664&#45;&gt;4469299168+</title>\n<path fill=\"none\" stroke=\"black\" d=\"M303.81,-203.86C313.64,-199.46 323.91,-194.87 333.19,-190.71\"/>\n<polygon fill=\"black\" stroke=\"black\" points=\"334.46,-193.98 342.15,-186.7 331.6,-187.59 334.46,-193.98\"/>\n</g>\n<!-- 4468943664* -->\n<g id=\"node8\" class=\"node\">\n<title>4468943664*</title>\n<ellipse fill=\"none\" stroke=\"black\" cx=\"152.5\" cy=\"-223.25\" rx=\"27\" ry=\"18\"/>\n<text text-anchor=\"middle\" x=\"152.5\" y=\"-218.2\" font-family=\"Times,serif\" font-size=\"14.00\">*</text>\n</g>\n<!-- 4468943664*&#45;&gt;4468943664 -->\n<g id=\"edge4\" class=\"edge\">\n<title>4468943664*&#45;&gt;4468943664</title>\n<path fill=\"none\" stroke=\"black\" d=\"M180,-223.25C187.35,-223.25 195.61,-223.25 203.94,-223.25\"/>\n<polygon fill=\"black\" stroke=\"black\" points=\"203.75,-226.75 213.75,-223.25 203.75,-219.75 203.75,-226.75\"/>\n</g>\n<!-- 4437667600 -->\n<g id=\"node9\" class=\"node\">\n<title>4437667600</title>\n<polygon fill=\"none\" stroke=\"black\" points=\"0,-279.5 0,-353 89.5,-353 89.5,-279.5 0,-279.5\"/>\n<text text-anchor=\"middle\" x=\"44.75\" y=\"-335.7\" font-family=\"Times,serif\" font-size=\"14.00\">x1</text>\n<polyline fill=\"none\" stroke=\"black\" points=\"0,-328.5 89.5,-328.5\"/>\n<text text-anchor=\"middle\" x=\"44.75\" y=\"-311.2\" font-family=\"Times,serif\" font-size=\"14.00\">data: 2.0000</text>\n<polyline fill=\"none\" stroke=\"black\" points=\"0,-304 89.5,-304\"/>\n<text text-anchor=\"middle\" x=\"44.75\" y=\"-286.7\" font-family=\"Times,serif\" font-size=\"14.00\">grad: &#45;1.5000</text>\n</g>\n<!-- 4437667600&#45;&gt;4468943664* -->\n<g id=\"edge12\" class=\"edge\">\n<title>4437667600&#45;&gt;4468943664*</title>\n<path fill=\"none\" stroke=\"black\" d=\"M87.85,-279.23C101.16,-267.52 115.42,-254.98 127.06,-244.74\"/>\n<polygon fill=\"black\" stroke=\"black\" points=\"129.06,-247.64 134.26,-238.41 124.44,-242.39 129.06,-247.64\"/>\n</g>\n<!-- 4444336208 -->\n<g id=\"node10\" class=\"node\">\n<title>4444336208</title>\n<polygon fill=\"none\" stroke=\"black\" points=\"0.75,-186.5 0.75,-260 88.75,-260 88.75,-186.5 0.75,-186.5\"/>\n<text text-anchor=\"middle\" x=\"44.75\" y=\"-242.7\" font-family=\"Times,serif\" font-size=\"14.00\">w1</text>\n<polyline fill=\"none\" stroke=\"black\" points=\"0.75,-235.5 88.75,-235.5\"/>\n<text text-anchor=\"middle\" x=\"44.75\" y=\"-218.2\" font-family=\"Times,serif\" font-size=\"14.00\">data: &#45;3.0000</text>\n<polyline fill=\"none\" stroke=\"black\" points=\"0.75,-211 88.75,-211\"/>\n<text text-anchor=\"middle\" x=\"44.75\" y=\"-193.7\" font-family=\"Times,serif\" font-size=\"14.00\">grad: 1.0000</text>\n</g>\n<!-- 4444336208&#45;&gt;4468943664* -->\n<g id=\"edge6\" class=\"edge\">\n<title>4444336208&#45;&gt;4468943664*</title>\n<path fill=\"none\" stroke=\"black\" d=\"M89.07,-223.25C97.27,-223.25 105.79,-223.25 113.8,-223.25\"/>\n<polygon fill=\"black\" stroke=\"black\" points=\"113.56,-226.75 123.56,-223.25 113.56,-219.75 113.56,-226.75\"/>\n</g>\n<!-- 4465996784 -->\n<g id=\"node11\" class=\"node\">\n<title>4465996784</title>\n<polygon fill=\"none\" stroke=\"black\" points=\"217,-93.5 217,-167 302,-167 302,-93.5 217,-93.5\"/>\n<text text-anchor=\"middle\" x=\"259.5\" y=\"-149.7\" font-family=\"Times,serif\" font-size=\"14.00\">w2*x2</text>\n<polyline fill=\"none\" stroke=\"black\" points=\"217,-142.5 302,-142.5\"/>\n<text text-anchor=\"middle\" x=\"259.5\" y=\"-125.2\" font-family=\"Times,serif\" font-size=\"14.00\">data: 0.0000</text>\n<polyline fill=\"none\" stroke=\"black\" points=\"217,-118 302,-118\"/>\n<text text-anchor=\"middle\" x=\"259.5\" y=\"-100.7\" font-family=\"Times,serif\" font-size=\"14.00\">grad: 0.5000</text>\n</g>\n<!-- 4465996784&#45;&gt;4469299168+ -->\n<g id=\"edge8\" class=\"edge\">\n<title>4465996784&#45;&gt;4469299168+</title>\n<path fill=\"none\" stroke=\"black\" d=\"M302.3,-148.56C312.52,-153.04 323.31,-157.77 333.02,-162.02\"/>\n<polygon fill=\"black\" stroke=\"black\" points=\"331.49,-165.17 342.06,-165.98 334.3,-158.76 331.49,-165.17\"/>\n</g>\n<!-- 4465996784* -->\n<g id=\"node12\" class=\"node\">\n<title>4465996784*</title>\n<ellipse fill=\"none\" stroke=\"black\" cx=\"152.5\" cy=\"-130.25\" rx=\"27\" ry=\"18\"/>\n<text text-anchor=\"middle\" x=\"152.5\" y=\"-125.2\" font-family=\"Times,serif\" font-size=\"14.00\">*</text>\n</g>\n<!-- 4465996784*&#45;&gt;4465996784 -->\n<g id=\"edge5\" class=\"edge\">\n<title>4465996784*&#45;&gt;4465996784</title>\n<path fill=\"none\" stroke=\"black\" d=\"M180,-130.25C187.86,-130.25 196.76,-130.25 205.67,-130.25\"/>\n<polygon fill=\"black\" stroke=\"black\" points=\"205.37,-133.75 215.37,-130.25 205.37,-126.75 205.37,-133.75\"/>\n</g>\n<!-- 4444331600 -->\n<g id=\"node13\" class=\"node\">\n<title>4444331600</title>\n<polygon fill=\"none\" stroke=\"black\" points=\"2.25,-93.5 2.25,-167 87.25,-167 87.25,-93.5 2.25,-93.5\"/>\n<text text-anchor=\"middle\" x=\"44.75\" y=\"-149.7\" font-family=\"Times,serif\" font-size=\"14.00\">x2</text>\n<polyline fill=\"none\" stroke=\"black\" points=\"2.25,-142.5 87.25,-142.5\"/>\n<text text-anchor=\"middle\" x=\"44.75\" y=\"-125.2\" font-family=\"Times,serif\" font-size=\"14.00\">data: 0.0000</text>\n<polyline fill=\"none\" stroke=\"black\" points=\"2.25,-118 87.25,-118\"/>\n<text text-anchor=\"middle\" x=\"44.75\" y=\"-100.7\" font-family=\"Times,serif\" font-size=\"14.00\">grad: 0.5000</text>\n</g>\n<!-- 4444331600&#45;&gt;4465996784* -->\n<g id=\"edge14\" class=\"edge\">\n<title>4444331600&#45;&gt;4465996784*</title>\n<path fill=\"none\" stroke=\"black\" d=\"M87.55,-130.25C96.18,-130.25 105.22,-130.25 113.7,-130.25\"/>\n<polygon fill=\"black\" stroke=\"black\" points=\"113.7,-133.75 123.7,-130.25 113.7,-126.75 113.7,-133.75\"/>\n</g>\n<!-- 4467750096 -->\n<g id=\"node14\" class=\"node\">\n<title>4467750096</title>\n<polygon fill=\"none\" stroke=\"black\" points=\"2.25,-0.5 2.25,-74 87.25,-74 87.25,-0.5 2.25,-0.5\"/>\n<text text-anchor=\"middle\" x=\"44.75\" y=\"-56.7\" font-family=\"Times,serif\" font-size=\"14.00\">w2</text>\n<polyline fill=\"none\" stroke=\"black\" points=\"2.25,-49.5 87.25,-49.5\"/>\n<text text-anchor=\"middle\" x=\"44.75\" y=\"-32.2\" font-family=\"Times,serif\" font-size=\"14.00\">data: 1.0000</text>\n<polyline fill=\"none\" stroke=\"black\" points=\"2.25,-25 87.25,-25\"/>\n<text text-anchor=\"middle\" x=\"44.75\" y=\"-7.7\" font-family=\"Times,serif\" font-size=\"14.00\">grad: 0.0000</text>\n</g>\n<!-- 4467750096&#45;&gt;4465996784* -->\n<g id=\"edge11\" class=\"edge\">\n<title>4467750096&#45;&gt;4465996784*</title>\n<path fill=\"none\" stroke=\"black\" d=\"M87.55,-74.01C100.89,-85.74 115.21,-98.34 126.92,-108.63\"/>\n<polygon fill=\"black\" stroke=\"black\" points=\"124.34,-111.03 134.16,-115 128.96,-105.77 124.34,-111.03\"/>\n</g>\n<!-- 4467709408 -->\n<g id=\"node15\" class=\"node\">\n<title>4467709408</title>\n<polygon fill=\"none\" stroke=\"black\" points=\"431,-46.5 431,-120 516,-120 516,-46.5 431,-46.5\"/>\n<text text-anchor=\"middle\" x=\"473.5\" y=\"-102.7\" font-family=\"Times,serif\" font-size=\"14.00\">b</text>\n<polyline fill=\"none\" stroke=\"black\" points=\"431,-95.5 516,-95.5\"/>\n<text text-anchor=\"middle\" x=\"473.5\" y=\"-78.2\" font-family=\"Times,serif\" font-size=\"14.00\">data: 6.8814</text>\n<polyline fill=\"none\" stroke=\"black\" points=\"431,-71 516,-71\"/>\n<text text-anchor=\"middle\" x=\"473.5\" y=\"-53.7\" font-family=\"Times,serif\" font-size=\"14.00\">grad: 0.5000</text>\n</g>\n<!-- 4467709408&#45;&gt;4469664336+ -->\n<g id=\"edge7\" class=\"edge\">\n<title>4467709408&#45;&gt;4469664336+</title>\n<path fill=\"none\" stroke=\"black\" d=\"M516.3,-101.56C526.52,-106.04 537.31,-110.77 547.02,-115.02\"/>\n<polygon fill=\"black\" stroke=\"black\" points=\"545.49,-118.17 556.06,-118.98 548.3,-111.76 545.49,-118.17\"/>\n</g>\n</g>\n</svg>\n",
      "text/plain": [
       "<graphviz.graphs.Digraph at 0x10a30e170>"
      ]
     },
     "execution_count": 394,
     "metadata": {},
     "output_type": "execute_result"
    }
   ],
   "execution_count": 394
  },
  {
   "metadata": {
    "ExecuteTime": {
     "end_time": "2025-03-09T00:24:52.362587Z",
     "start_time": "2025-03-09T00:24:52.259570Z"
    }
   },
   "cell_type": "code",
   "source": [
    "# Single neuron example w/ explicit auto-differentiation for tanh\n",
    "\n",
    "# inputs x1,x2\n",
    "x1 = Value(2.0, label='x1')\n",
    "x2 = Value(0.0, label='x2')\n",
    "# weights w1,w2\n",
    "w1 = Value(-3.0, label='w1')\n",
    "w2 = Value(1.0, label='w2')\n",
    "# bias of the neuron\n",
    "b = Value(6.8813735870195432, label='b')\n",
    "# x1*w1 + x2*w2 + b\n",
    "x1w1 = x1*w1; x1w1. label = 'w1*x1'\n",
    "x2w2 = x2*w2; x2w2.label = 'w2*x2'\n",
    "x1w1x2w2 = x1w1 + x2w2; x1w1x2w2.label = 'Wx'\n",
    "n = x1w1x2w2 + b; n.label = 'n'\n",
    "o = ((2 * n).exp() - 1) / ((2 * n).exp() + 1); o.label = 'o'  # o = n.tanh()\n",
    "\n",
    "o.zero_grad()\n",
    "o.backward()\n",
    "draw_dot(o)"
   ],
   "id": "1855f03936e6eaed",
   "outputs": [
    {
     "data": {
      "image/svg+xml": "<?xml version=\"1.0\" encoding=\"UTF-8\" standalone=\"no\"?>\n<!DOCTYPE svg PUBLIC \"-//W3C//DTD SVG 1.1//EN\"\n \"http://www.w3.org/Graphics/SVG/1.1/DTD/svg11.dtd\">\n<!-- Generated by graphviz version 12.2.1 (20241206.2353)\n -->\n<!-- Pages: 1 -->\n<svg width=\"1679pt\" height=\"430pt\"\n viewBox=\"0.00 0.00 1678.75 429.50\" xmlns=\"http://www.w3.org/2000/svg\" xmlns:xlink=\"http://www.w3.org/1999/xlink\">\n<g id=\"graph0\" class=\"graph\" transform=\"scale(1 1) rotate(0) translate(4 425.5)\">\n<polygon fill=\"white\" stroke=\"none\" points=\"-4,4 -4,-425.5 1674.75,-425.5 1674.75,4 -4,4\"/>\n<!-- 4467795152 -->\n<g id=\"node1\" class=\"node\">\n<title>4467795152</title>\n<polygon fill=\"none\" stroke=\"black\" points=\"1585.75,-139.5 1585.75,-213 1670.75,-213 1670.75,-139.5 1585.75,-139.5\"/>\n<text text-anchor=\"middle\" x=\"1628.25\" y=\"-195.7\" font-family=\"Times,serif\" font-size=\"14.00\">o</text>\n<polyline fill=\"none\" stroke=\"black\" points=\"1585.75,-188.5 1670.75,-188.5\"/>\n<text text-anchor=\"middle\" x=\"1628.25\" y=\"-171.2\" font-family=\"Times,serif\" font-size=\"14.00\">data: 0.7071</text>\n<polyline fill=\"none\" stroke=\"black\" points=\"1585.75,-164 1670.75,-164\"/>\n<text text-anchor=\"middle\" x=\"1628.25\" y=\"-146.7\" font-family=\"Times,serif\" font-size=\"14.00\">grad: 1.0000</text>\n</g>\n<!-- 4467795152/ -->\n<g id=\"node2\" class=\"node\">\n<title>4467795152/</title>\n<ellipse fill=\"none\" stroke=\"black\" cx=\"1522.75\" cy=\"-176.25\" rx=\"27\" ry=\"18\"/>\n<text text-anchor=\"middle\" x=\"1522.75\" y=\"-171.2\" font-family=\"Times,serif\" font-size=\"14.00\">/</text>\n</g>\n<!-- 4467795152/&#45;&gt;4467795152 -->\n<g id=\"edge1\" class=\"edge\">\n<title>4467795152/&#45;&gt;4467795152</title>\n<path fill=\"none\" stroke=\"black\" d=\"M1550.14,-176.25C1557.55,-176.25 1565.88,-176.25 1574.26,-176.25\"/>\n<polygon fill=\"black\" stroke=\"black\" points=\"1574.11,-179.75 1584.11,-176.25 1574.11,-172.75 1574.11,-179.75\"/>\n</g>\n<!-- 4469007440 -->\n<g id=\"node3\" class=\"node\">\n<title>4469007440</title>\n<polygon fill=\"none\" stroke=\"black\" points=\"1305.38,-186.5 1305.38,-260 1457.88,-260 1457.88,-186.5 1305.38,-186.5\"/>\n<text text-anchor=\"middle\" x=\"1381.62\" y=\"-242.7\" font-family=\"Times,serif\" font-size=\"14.00\">exp(2.0000 * n) &#45; 1.0000</text>\n<polyline fill=\"none\" stroke=\"black\" points=\"1305.38,-235.5 1457.88,-235.5\"/>\n<text text-anchor=\"middle\" x=\"1381.62\" y=\"-218.2\" font-family=\"Times,serif\" font-size=\"14.00\">data: 4.8284</text>\n<polyline fill=\"none\" stroke=\"black\" points=\"1305.38,-211 1457.88,-211\"/>\n<text text-anchor=\"middle\" x=\"1381.62\" y=\"-193.7\" font-family=\"Times,serif\" font-size=\"14.00\">grad: 0.1464</text>\n</g>\n<!-- 4469007440&#45;&gt;4467795152/ -->\n<g id=\"edge31\" class=\"edge\">\n<title>4469007440&#45;&gt;4467795152/</title>\n<path fill=\"none\" stroke=\"black\" d=\"M1458.29,-197.69C1468.51,-194.24 1478.55,-190.84 1487.52,-187.81\"/>\n<polygon fill=\"black\" stroke=\"black\" points=\"1488.46,-191.19 1496.82,-184.67 1486.22,-184.56 1488.46,-191.19\"/>\n</g>\n<!-- 4469007440&#45; -->\n<g id=\"node4\" class=\"node\">\n<title>4469007440&#45;</title>\n<ellipse fill=\"none\" stroke=\"black\" cx=\"1240.5\" cy=\"-223.25\" rx=\"27\" ry=\"18\"/>\n<text text-anchor=\"middle\" x=\"1240.5\" y=\"-218.2\" font-family=\"Times,serif\" font-size=\"14.00\">&#45;</text>\n</g>\n<!-- 4469007440&#45;&#45;&gt;4469007440 -->\n<g id=\"edge2\" class=\"edge\">\n<title>4469007440&#45;&#45;&gt;4469007440</title>\n<path fill=\"none\" stroke=\"black\" d=\"M1268,-223.25C1275.62,-223.25 1284.38,-223.25 1293.58,-223.25\"/>\n<polygon fill=\"black\" stroke=\"black\" points=\"1293.45,-226.75 1303.45,-223.25 1293.45,-219.75 1293.45,-226.75\"/>\n</g>\n<!-- 4468998864 -->\n<g id=\"node5\" class=\"node\">\n<title>4468998864</title>\n<polygon fill=\"none\" stroke=\"black\" points=\"1074.5,-279.5 1074.5,-353 1177.5,-353 1177.5,-279.5 1074.5,-279.5\"/>\n<text text-anchor=\"middle\" x=\"1126\" y=\"-335.7\" font-family=\"Times,serif\" font-size=\"14.00\">exp(2.0000 * n)</text>\n<polyline fill=\"none\" stroke=\"black\" points=\"1074.5,-328.5 1177.5,-328.5\"/>\n<text text-anchor=\"middle\" x=\"1126\" y=\"-311.2\" font-family=\"Times,serif\" font-size=\"14.00\">data: 5.8284</text>\n<polyline fill=\"none\" stroke=\"black\" points=\"1074.5,-304 1177.5,-304\"/>\n<text text-anchor=\"middle\" x=\"1126\" y=\"-286.7\" font-family=\"Times,serif\" font-size=\"14.00\">grad: 0.1464</text>\n</g>\n<!-- 4468998864&#45;&gt;4469007440&#45; -->\n<g id=\"edge22\" class=\"edge\">\n<title>4468998864&#45;&gt;4469007440&#45;</title>\n<path fill=\"none\" stroke=\"black\" d=\"M1171.79,-279.23C1186.18,-267.32 1201.63,-254.56 1214.13,-244.23\"/>\n<polygon fill=\"black\" stroke=\"black\" points=\"1216,-247.21 1221.48,-238.15 1211.54,-241.82 1216,-247.21\"/>\n</g>\n<!-- 4468998864exp -->\n<g id=\"node6\" class=\"node\">\n<title>4468998864exp</title>\n<ellipse fill=\"none\" stroke=\"black\" cx=\"1011.5\" cy=\"-315.25\" rx=\"27\" ry=\"18\"/>\n<text text-anchor=\"middle\" x=\"1011.5\" y=\"-310.2\" font-family=\"Times,serif\" font-size=\"14.00\">exp</text>\n</g>\n<!-- 4468998864exp&#45;&gt;4468998864 -->\n<g id=\"edge3\" class=\"edge\">\n<title>4468998864exp&#45;&gt;4468998864</title>\n<path fill=\"none\" stroke=\"black\" d=\"M1038.88,-315.48C1046.11,-315.55 1054.27,-315.62 1062.61,-315.7\"/>\n<polygon fill=\"black\" stroke=\"black\" points=\"1062.49,-319.19 1072.52,-315.78 1062.55,-312.19 1062.49,-319.19\"/>\n</g>\n<!-- 4469001040 -->\n<g id=\"node7\" class=\"node\">\n<title>4469001040</title>\n<polygon fill=\"none\" stroke=\"black\" points=\"861.25,-277.5 861.25,-351 946.25,-351 946.25,-277.5 861.25,-277.5\"/>\n<text text-anchor=\"middle\" x=\"903.75\" y=\"-333.7\" font-family=\"Times,serif\" font-size=\"14.00\">2.0000 * n</text>\n<polyline fill=\"none\" stroke=\"black\" points=\"861.25,-326.5 946.25,-326.5\"/>\n<text text-anchor=\"middle\" x=\"903.75\" y=\"-309.2\" font-family=\"Times,serif\" font-size=\"14.00\">data: 1.7627</text>\n<polyline fill=\"none\" stroke=\"black\" points=\"861.25,-302 946.25,-302\"/>\n<text text-anchor=\"middle\" x=\"903.75\" y=\"-284.7\" font-family=\"Times,serif\" font-size=\"14.00\">grad: 0.8536</text>\n</g>\n<!-- 4469001040&#45;&gt;4468998864exp -->\n<g id=\"edge17\" class=\"edge\">\n<title>4469001040&#45;&gt;4468998864exp</title>\n<path fill=\"none\" stroke=\"black\" d=\"M946.55,-314.65C955.18,-314.73 964.22,-314.81 972.7,-314.89\"/>\n<polygon fill=\"black\" stroke=\"black\" points=\"972.67,-318.39 982.7,-314.99 972.74,-311.39 972.67,-318.39\"/>\n</g>\n<!-- 4469001040* -->\n<g id=\"node8\" class=\"node\">\n<title>4469001040*</title>\n<ellipse fill=\"none\" stroke=\"black\" cx=\"796\" cy=\"-313.25\" rx=\"27\" ry=\"18\"/>\n<text text-anchor=\"middle\" x=\"796\" y=\"-308.2\" font-family=\"Times,serif\" font-size=\"14.00\">*</text>\n</g>\n<!-- 4469001040*&#45;&gt;4469001040 -->\n<g id=\"edge4\" class=\"edge\">\n<title>4469001040*&#45;&gt;4469001040</title>\n<path fill=\"none\" stroke=\"black\" d=\"M823.41,-313.5C831.41,-313.58 840.5,-313.66 849.6,-313.75\"/>\n<polygon fill=\"black\" stroke=\"black\" points=\"849.51,-317.25 859.54,-313.84 849.58,-310.25 849.51,-317.25\"/>\n</g>\n<!-- 4469000528 -->\n<g id=\"node9\" class=\"node\">\n<title>4469000528</title>\n<polygon fill=\"none\" stroke=\"black\" points=\"645.75,-276.5 645.75,-350 730.75,-350 730.75,-276.5 645.75,-276.5\"/>\n<text text-anchor=\"middle\" x=\"688.25\" y=\"-332.7\" font-family=\"Times,serif\" font-size=\"14.00\">2.0000</text>\n<polyline fill=\"none\" stroke=\"black\" points=\"645.75,-325.5 730.75,-325.5\"/>\n<text text-anchor=\"middle\" x=\"688.25\" y=\"-308.2\" font-family=\"Times,serif\" font-size=\"14.00\">data: 2.0000</text>\n<polyline fill=\"none\" stroke=\"black\" points=\"645.75,-301 730.75,-301\"/>\n<text text-anchor=\"middle\" x=\"688.25\" y=\"-283.7\" font-family=\"Times,serif\" font-size=\"14.00\">grad: 0.7523</text>\n</g>\n<!-- 4469000528&#45;&gt;4469001040* -->\n<g id=\"edge12\" class=\"edge\">\n<title>4469000528&#45;&gt;4469001040*</title>\n<path fill=\"none\" stroke=\"black\" d=\"M731.05,-313.25C739.68,-313.25 748.72,-313.25 757.2,-313.25\"/>\n<polygon fill=\"black\" stroke=\"black\" points=\"757.2,-316.75 767.2,-313.25 757.2,-309.75 757.2,-316.75\"/>\n</g>\n<!-- 4469011920 -->\n<g id=\"node10\" class=\"node\">\n<title>4469011920</title>\n<polygon fill=\"none\" stroke=\"black\" points=\"645.75,-160.5 645.75,-234 730.75,-234 730.75,-160.5 645.75,-160.5\"/>\n<text text-anchor=\"middle\" x=\"688.25\" y=\"-216.7\" font-family=\"Times,serif\" font-size=\"14.00\">n</text>\n<polyline fill=\"none\" stroke=\"black\" points=\"645.75,-209.5 730.75,-209.5\"/>\n<text text-anchor=\"middle\" x=\"688.25\" y=\"-192.2\" font-family=\"Times,serif\" font-size=\"14.00\">data: 0.8814</text>\n<polyline fill=\"none\" stroke=\"black\" points=\"645.75,-185 730.75,-185\"/>\n<text text-anchor=\"middle\" x=\"688.25\" y=\"-167.7\" font-family=\"Times,serif\" font-size=\"14.00\">grad: 0.5000</text>\n</g>\n<!-- 4469011920&#45;&gt;4469001040* -->\n<g id=\"edge28\" class=\"edge\">\n<title>4469011920&#45;&gt;4469001040*</title>\n<path fill=\"none\" stroke=\"black\" d=\"M723,-234.27C739.53,-252.4 758.93,-273.68 773.43,-289.59\"/>\n<polygon fill=\"black\" stroke=\"black\" points=\"770.58,-291.66 779.91,-296.7 775.76,-286.95 770.58,-291.66\"/>\n</g>\n<!-- 4467796816* -->\n<g id=\"node29\" class=\"node\">\n<title>4467796816*</title>\n<ellipse fill=\"none\" stroke=\"black\" cx=\"796\" cy=\"-58.25\" rx=\"27\" ry=\"18\"/>\n<text text-anchor=\"middle\" x=\"796\" y=\"-53.2\" font-family=\"Times,serif\" font-size=\"14.00\">*</text>\n</g>\n<!-- 4469011920&#45;&gt;4467796816* -->\n<g id=\"edge24\" class=\"edge\">\n<title>4469011920&#45;&gt;4467796816*</title>\n<path fill=\"none\" stroke=\"black\" d=\"M717.59,-160C736.05,-135.73 759.64,-104.72 775.9,-83.35\"/>\n<polygon fill=\"black\" stroke=\"black\" points=\"778.63,-85.55 781.9,-75.47 773.06,-81.31 778.63,-85.55\"/>\n</g>\n<!-- 4469011920+ -->\n<g id=\"node11\" class=\"node\">\n<title>4469011920+</title>\n<ellipse fill=\"none\" stroke=\"black\" cx=\"580.5\" cy=\"-197.25\" rx=\"27\" ry=\"18\"/>\n<text text-anchor=\"middle\" x=\"580.5\" y=\"-192.2\" font-family=\"Times,serif\" font-size=\"14.00\">+</text>\n</g>\n<!-- 4469011920+&#45;&gt;4469011920 -->\n<g id=\"edge5\" class=\"edge\">\n<title>4469011920+&#45;&gt;4469011920</title>\n<path fill=\"none\" stroke=\"black\" d=\"M607.91,-197.25C615.91,-197.25 625,-197.25 634.1,-197.25\"/>\n<polygon fill=\"black\" stroke=\"black\" points=\"634.04,-200.75 644.04,-197.25 634.04,-193.75 634.04,-200.75\"/>\n</g>\n<!-- 4469002960 -->\n<g id=\"node12\" class=\"node\">\n<title>4469002960</title>\n<polygon fill=\"none\" stroke=\"black\" points=\"429.5,-207.5 429.5,-281 517.5,-281 517.5,-207.5 429.5,-207.5\"/>\n<text text-anchor=\"middle\" x=\"473.5\" y=\"-263.7\" font-family=\"Times,serif\" font-size=\"14.00\">Wx</text>\n<polyline fill=\"none\" stroke=\"black\" points=\"429.5,-256.5 517.5,-256.5\"/>\n<text text-anchor=\"middle\" x=\"473.5\" y=\"-239.2\" font-family=\"Times,serif\" font-size=\"14.00\">data: &#45;6.0000</text>\n<polyline fill=\"none\" stroke=\"black\" points=\"429.5,-232 517.5,-232\"/>\n<text text-anchor=\"middle\" x=\"473.5\" y=\"-214.7\" font-family=\"Times,serif\" font-size=\"14.00\">grad: 0.5000</text>\n</g>\n<!-- 4469002960&#45;&gt;4469011920+ -->\n<g id=\"edge18\" class=\"edge\">\n<title>4469002960&#45;&gt;4469011920+</title>\n<path fill=\"none\" stroke=\"black\" d=\"M517.81,-224.86C527.64,-220.46 537.91,-215.87 547.19,-211.71\"/>\n<polygon fill=\"black\" stroke=\"black\" points=\"548.46,-214.98 556.15,-207.7 545.6,-208.59 548.46,-214.98\"/>\n</g>\n<!-- 4469002960+ -->\n<g id=\"node13\" class=\"node\">\n<title>4469002960+</title>\n<ellipse fill=\"none\" stroke=\"black\" cx=\"366.5\" cy=\"-244.25\" rx=\"27\" ry=\"18\"/>\n<text text-anchor=\"middle\" x=\"366.5\" y=\"-239.2\" font-family=\"Times,serif\" font-size=\"14.00\">+</text>\n</g>\n<!-- 4469002960+&#45;&gt;4469002960 -->\n<g id=\"edge6\" class=\"edge\">\n<title>4469002960+&#45;&gt;4469002960</title>\n<path fill=\"none\" stroke=\"black\" d=\"M394,-244.25C401.35,-244.25 409.61,-244.25 417.94,-244.25\"/>\n<polygon fill=\"black\" stroke=\"black\" points=\"417.75,-247.75 427.75,-244.25 417.75,-240.75 417.75,-247.75\"/>\n</g>\n<!-- 4469419344 -->\n<g id=\"node14\" class=\"node\">\n<title>4469419344</title>\n<polygon fill=\"none\" stroke=\"black\" points=\"215.5,-254.5 215.5,-328 303.5,-328 303.5,-254.5 215.5,-254.5\"/>\n<text text-anchor=\"middle\" x=\"259.5\" y=\"-310.7\" font-family=\"Times,serif\" font-size=\"14.00\">w1*x1</text>\n<polyline fill=\"none\" stroke=\"black\" points=\"215.5,-303.5 303.5,-303.5\"/>\n<text text-anchor=\"middle\" x=\"259.5\" y=\"-286.2\" font-family=\"Times,serif\" font-size=\"14.00\">data: &#45;6.0000</text>\n<polyline fill=\"none\" stroke=\"black\" points=\"215.5,-279 303.5,-279\"/>\n<text text-anchor=\"middle\" x=\"259.5\" y=\"-261.7\" font-family=\"Times,serif\" font-size=\"14.00\">grad: 0.5000</text>\n</g>\n<!-- 4469419344&#45;&gt;4469002960+ -->\n<g id=\"edge26\" class=\"edge\">\n<title>4469419344&#45;&gt;4469002960+</title>\n<path fill=\"none\" stroke=\"black\" d=\"M303.81,-271.86C313.64,-267.46 323.91,-262.87 333.19,-258.71\"/>\n<polygon fill=\"black\" stroke=\"black\" points=\"334.46,-261.98 342.15,-254.7 331.6,-255.59 334.46,-261.98\"/>\n</g>\n<!-- 4469419344* -->\n<g id=\"node15\" class=\"node\">\n<title>4469419344*</title>\n<ellipse fill=\"none\" stroke=\"black\" cx=\"152.5\" cy=\"-291.25\" rx=\"27\" ry=\"18\"/>\n<text text-anchor=\"middle\" x=\"152.5\" y=\"-286.2\" font-family=\"Times,serif\" font-size=\"14.00\">*</text>\n</g>\n<!-- 4469419344*&#45;&gt;4469419344 -->\n<g id=\"edge7\" class=\"edge\">\n<title>4469419344*&#45;&gt;4469419344</title>\n<path fill=\"none\" stroke=\"black\" d=\"M180,-291.25C187.35,-291.25 195.61,-291.25 203.94,-291.25\"/>\n<polygon fill=\"black\" stroke=\"black\" points=\"203.75,-294.75 213.75,-291.25 203.75,-287.75 203.75,-294.75\"/>\n</g>\n<!-- 4467371440 -->\n<g id=\"node16\" class=\"node\">\n<title>4467371440</title>\n<polygon fill=\"none\" stroke=\"black\" points=\"0,-347.5 0,-421 89.5,-421 89.5,-347.5 0,-347.5\"/>\n<text text-anchor=\"middle\" x=\"44.75\" y=\"-403.7\" font-family=\"Times,serif\" font-size=\"14.00\">x1</text>\n<polyline fill=\"none\" stroke=\"black\" points=\"0,-396.5 89.5,-396.5\"/>\n<text text-anchor=\"middle\" x=\"44.75\" y=\"-379.2\" font-family=\"Times,serif\" font-size=\"14.00\">data: 2.0000</text>\n<polyline fill=\"none\" stroke=\"black\" points=\"0,-372 89.5,-372\"/>\n<text text-anchor=\"middle\" x=\"44.75\" y=\"-354.7\" font-family=\"Times,serif\" font-size=\"14.00\">grad: &#45;1.5000</text>\n</g>\n<!-- 4467371440&#45;&gt;4469419344* -->\n<g id=\"edge14\" class=\"edge\">\n<title>4467371440&#45;&gt;4469419344*</title>\n<path fill=\"none\" stroke=\"black\" d=\"M87.85,-347.23C101.16,-335.52 115.42,-322.98 127.06,-312.74\"/>\n<polygon fill=\"black\" stroke=\"black\" points=\"129.06,-315.64 134.26,-306.41 124.44,-310.39 129.06,-315.64\"/>\n</g>\n<!-- 4465945296 -->\n<g id=\"node17\" class=\"node\">\n<title>4465945296</title>\n<polygon fill=\"none\" stroke=\"black\" points=\"0.75,-254.5 0.75,-328 88.75,-328 88.75,-254.5 0.75,-254.5\"/>\n<text text-anchor=\"middle\" x=\"44.75\" y=\"-310.7\" font-family=\"Times,serif\" font-size=\"14.00\">w1</text>\n<polyline fill=\"none\" stroke=\"black\" points=\"0.75,-303.5 88.75,-303.5\"/>\n<text text-anchor=\"middle\" x=\"44.75\" y=\"-286.2\" font-family=\"Times,serif\" font-size=\"14.00\">data: &#45;3.0000</text>\n<polyline fill=\"none\" stroke=\"black\" points=\"0.75,-279 88.75,-279\"/>\n<text text-anchor=\"middle\" x=\"44.75\" y=\"-261.7\" font-family=\"Times,serif\" font-size=\"14.00\">grad: 1.0000</text>\n</g>\n<!-- 4465945296&#45;&gt;4469419344* -->\n<g id=\"edge27\" class=\"edge\">\n<title>4465945296&#45;&gt;4469419344*</title>\n<path fill=\"none\" stroke=\"black\" d=\"M89.07,-291.25C97.27,-291.25 105.79,-291.25 113.8,-291.25\"/>\n<polygon fill=\"black\" stroke=\"black\" points=\"113.56,-294.75 123.56,-291.25 113.56,-287.75 113.56,-294.75\"/>\n</g>\n<!-- 4468932432 -->\n<g id=\"node18\" class=\"node\">\n<title>4468932432</title>\n<polygon fill=\"none\" stroke=\"black\" points=\"217,-161.5 217,-235 302,-235 302,-161.5 217,-161.5\"/>\n<text text-anchor=\"middle\" x=\"259.5\" y=\"-217.7\" font-family=\"Times,serif\" font-size=\"14.00\">w2*x2</text>\n<polyline fill=\"none\" stroke=\"black\" points=\"217,-210.5 302,-210.5\"/>\n<text text-anchor=\"middle\" x=\"259.5\" y=\"-193.2\" font-family=\"Times,serif\" font-size=\"14.00\">data: 0.0000</text>\n<polyline fill=\"none\" stroke=\"black\" points=\"217,-186 302,-186\"/>\n<text text-anchor=\"middle\" x=\"259.5\" y=\"-168.7\" font-family=\"Times,serif\" font-size=\"14.00\">grad: 0.5000</text>\n</g>\n<!-- 4468932432&#45;&gt;4469002960+ -->\n<g id=\"edge25\" class=\"edge\">\n<title>4468932432&#45;&gt;4469002960+</title>\n<path fill=\"none\" stroke=\"black\" d=\"M302.3,-216.56C312.52,-221.04 323.31,-225.77 333.02,-230.02\"/>\n<polygon fill=\"black\" stroke=\"black\" points=\"331.49,-233.17 342.06,-233.98 334.3,-226.76 331.49,-233.17\"/>\n</g>\n<!-- 4468932432* -->\n<g id=\"node19\" class=\"node\">\n<title>4468932432*</title>\n<ellipse fill=\"none\" stroke=\"black\" cx=\"152.5\" cy=\"-198.25\" rx=\"27\" ry=\"18\"/>\n<text text-anchor=\"middle\" x=\"152.5\" y=\"-193.2\" font-family=\"Times,serif\" font-size=\"14.00\">*</text>\n</g>\n<!-- 4468932432*&#45;&gt;4468932432 -->\n<g id=\"edge8\" class=\"edge\">\n<title>4468932432*&#45;&gt;4468932432</title>\n<path fill=\"none\" stroke=\"black\" d=\"M180,-198.25C187.86,-198.25 196.76,-198.25 205.67,-198.25\"/>\n<polygon fill=\"black\" stroke=\"black\" points=\"205.37,-201.75 215.37,-198.25 205.37,-194.75 205.37,-201.75\"/>\n</g>\n<!-- 4467371264 -->\n<g id=\"node20\" class=\"node\">\n<title>4467371264</title>\n<polygon fill=\"none\" stroke=\"black\" points=\"2.25,-161.5 2.25,-235 87.25,-235 87.25,-161.5 2.25,-161.5\"/>\n<text text-anchor=\"middle\" x=\"44.75\" y=\"-217.7\" font-family=\"Times,serif\" font-size=\"14.00\">x2</text>\n<polyline fill=\"none\" stroke=\"black\" points=\"2.25,-210.5 87.25,-210.5\"/>\n<text text-anchor=\"middle\" x=\"44.75\" y=\"-193.2\" font-family=\"Times,serif\" font-size=\"14.00\">data: 0.0000</text>\n<polyline fill=\"none\" stroke=\"black\" points=\"2.25,-186 87.25,-186\"/>\n<text text-anchor=\"middle\" x=\"44.75\" y=\"-168.7\" font-family=\"Times,serif\" font-size=\"14.00\">grad: 0.5000</text>\n</g>\n<!-- 4467371264&#45;&gt;4468932432* -->\n<g id=\"edge13\" class=\"edge\">\n<title>4467371264&#45;&gt;4468932432*</title>\n<path fill=\"none\" stroke=\"black\" d=\"M87.55,-198.25C96.18,-198.25 105.22,-198.25 113.7,-198.25\"/>\n<polygon fill=\"black\" stroke=\"black\" points=\"113.7,-201.75 123.7,-198.25 113.7,-194.75 113.7,-201.75\"/>\n</g>\n<!-- 4465945616 -->\n<g id=\"node21\" class=\"node\">\n<title>4465945616</title>\n<polygon fill=\"none\" stroke=\"black\" points=\"2.25,-68.5 2.25,-142 87.25,-142 87.25,-68.5 2.25,-68.5\"/>\n<text text-anchor=\"middle\" x=\"44.75\" y=\"-124.7\" font-family=\"Times,serif\" font-size=\"14.00\">w2</text>\n<polyline fill=\"none\" stroke=\"black\" points=\"2.25,-117.5 87.25,-117.5\"/>\n<text text-anchor=\"middle\" x=\"44.75\" y=\"-100.2\" font-family=\"Times,serif\" font-size=\"14.00\">data: 1.0000</text>\n<polyline fill=\"none\" stroke=\"black\" points=\"2.25,-93 87.25,-93\"/>\n<text text-anchor=\"middle\" x=\"44.75\" y=\"-75.7\" font-family=\"Times,serif\" font-size=\"14.00\">grad: 0.0000</text>\n</g>\n<!-- 4465945616&#45;&gt;4468932432* -->\n<g id=\"edge23\" class=\"edge\">\n<title>4465945616&#45;&gt;4468932432*</title>\n<path fill=\"none\" stroke=\"black\" d=\"M87.55,-142.01C100.89,-153.74 115.21,-166.34 126.92,-176.63\"/>\n<polygon fill=\"black\" stroke=\"black\" points=\"124.34,-179.03 134.16,-183 128.96,-173.77 124.34,-179.03\"/>\n</g>\n<!-- 4469047120 -->\n<g id=\"node22\" class=\"node\">\n<title>4469047120</title>\n<polygon fill=\"none\" stroke=\"black\" points=\"431,-114.5 431,-188 516,-188 516,-114.5 431,-114.5\"/>\n<text text-anchor=\"middle\" x=\"473.5\" y=\"-170.7\" font-family=\"Times,serif\" font-size=\"14.00\">b</text>\n<polyline fill=\"none\" stroke=\"black\" points=\"431,-163.5 516,-163.5\"/>\n<text text-anchor=\"middle\" x=\"473.5\" y=\"-146.2\" font-family=\"Times,serif\" font-size=\"14.00\">data: 6.8814</text>\n<polyline fill=\"none\" stroke=\"black\" points=\"431,-139 516,-139\"/>\n<text text-anchor=\"middle\" x=\"473.5\" y=\"-121.7\" font-family=\"Times,serif\" font-size=\"14.00\">grad: 0.5000</text>\n</g>\n<!-- 4469047120&#45;&gt;4469011920+ -->\n<g id=\"edge15\" class=\"edge\">\n<title>4469047120&#45;&gt;4469011920+</title>\n<path fill=\"none\" stroke=\"black\" d=\"M516.3,-169.56C526.52,-174.04 537.31,-178.77 547.02,-183.02\"/>\n<polygon fill=\"black\" stroke=\"black\" points=\"545.49,-186.17 556.06,-186.98 548.3,-179.76 545.49,-186.17\"/>\n</g>\n<!-- 4469012176 -->\n<g id=\"node23\" class=\"node\">\n<title>4469012176</title>\n<polygon fill=\"none\" stroke=\"black\" points=\"1081.25,-186.5 1081.25,-260 1170.75,-260 1170.75,-186.5 1081.25,-186.5\"/>\n<text text-anchor=\"middle\" x=\"1126\" y=\"-242.7\" font-family=\"Times,serif\" font-size=\"14.00\">1.0000</text>\n<polyline fill=\"none\" stroke=\"black\" points=\"1081.25,-235.5 1170.75,-235.5\"/>\n<text text-anchor=\"middle\" x=\"1126\" y=\"-218.2\" font-family=\"Times,serif\" font-size=\"14.00\">data: 1.0000</text>\n<polyline fill=\"none\" stroke=\"black\" points=\"1081.25,-211 1170.75,-211\"/>\n<text text-anchor=\"middle\" x=\"1126\" y=\"-193.7\" font-family=\"Times,serif\" font-size=\"14.00\">grad: &#45;0.1464</text>\n</g>\n<!-- 4469012176&#45;&gt;4469007440&#45; -->\n<g id=\"edge20\" class=\"edge\">\n<title>4469012176&#45;&gt;4469007440&#45;</title>\n<path fill=\"none\" stroke=\"black\" d=\"M1171.14,-223.25C1181.21,-223.25 1191.81,-223.25 1201.59,-223.25\"/>\n<polygon fill=\"black\" stroke=\"black\" points=\"1201.5,-226.75 1211.5,-223.25 1201.5,-219.75 1201.5,-226.75\"/>\n</g>\n<!-- 4467788496 -->\n<g id=\"node24\" class=\"node\">\n<title>4467788496</title>\n<polygon fill=\"none\" stroke=\"black\" points=\"1303.5,-93.5 1303.5,-167 1459.75,-167 1459.75,-93.5 1303.5,-93.5\"/>\n<text text-anchor=\"middle\" x=\"1381.62\" y=\"-149.7\" font-family=\"Times,serif\" font-size=\"14.00\">exp(2.0000 * n) + 1.0000</text>\n<polyline fill=\"none\" stroke=\"black\" points=\"1303.5,-142.5 1459.75,-142.5\"/>\n<text text-anchor=\"middle\" x=\"1381.62\" y=\"-125.2\" font-family=\"Times,serif\" font-size=\"14.00\">data: 6.8284</text>\n<polyline fill=\"none\" stroke=\"black\" points=\"1303.5,-118 1459.75,-118\"/>\n<text text-anchor=\"middle\" x=\"1381.62\" y=\"-100.7\" font-family=\"Times,serif\" font-size=\"14.00\">grad: &#45;0.1036</text>\n</g>\n<!-- 4467788496&#45;&gt;4467795152/ -->\n<g id=\"edge21\" class=\"edge\">\n<title>4467788496&#45;&gt;4467795152/</title>\n<path fill=\"none\" stroke=\"black\" d=\"M1459.92,-155.81C1469.46,-158.96 1478.81,-162.05 1487.23,-164.84\"/>\n<polygon fill=\"black\" stroke=\"black\" points=\"1486.04,-168.13 1496.64,-167.95 1488.24,-161.48 1486.04,-168.13\"/>\n</g>\n<!-- 4467788496+ -->\n<g id=\"node25\" class=\"node\">\n<title>4467788496+</title>\n<ellipse fill=\"none\" stroke=\"black\" cx=\"1240.5\" cy=\"-130.25\" rx=\"27\" ry=\"18\"/>\n<text text-anchor=\"middle\" x=\"1240.5\" y=\"-125.2\" font-family=\"Times,serif\" font-size=\"14.00\">+</text>\n</g>\n<!-- 4467788496+&#45;&gt;4467788496 -->\n<g id=\"edge9\" class=\"edge\">\n<title>4467788496+&#45;&gt;4467788496</title>\n<path fill=\"none\" stroke=\"black\" d=\"M1268,-130.25C1275.12,-130.25 1283.24,-130.25 1291.78,-130.25\"/>\n<polygon fill=\"black\" stroke=\"black\" points=\"1291.69,-133.75 1301.69,-130.25 1291.69,-126.75 1291.69,-133.75\"/>\n</g>\n<!-- 4467796944 -->\n<g id=\"node26\" class=\"node\">\n<title>4467796944</title>\n<polygon fill=\"none\" stroke=\"black\" points=\"1074.5,-0.5 1074.5,-74 1177.5,-74 1177.5,-0.5 1074.5,-0.5\"/>\n<text text-anchor=\"middle\" x=\"1126\" y=\"-56.7\" font-family=\"Times,serif\" font-size=\"14.00\">exp(2.0000 * n)</text>\n<polyline fill=\"none\" stroke=\"black\" points=\"1074.5,-49.5 1177.5,-49.5\"/>\n<text text-anchor=\"middle\" x=\"1126\" y=\"-32.2\" font-family=\"Times,serif\" font-size=\"14.00\">data: 5.8284</text>\n<polyline fill=\"none\" stroke=\"black\" points=\"1074.5,-25 1177.5,-25\"/>\n<text text-anchor=\"middle\" x=\"1126\" y=\"-7.7\" font-family=\"Times,serif\" font-size=\"14.00\">grad: &#45;0.1036</text>\n</g>\n<!-- 4467796944&#45;&gt;4467788496+ -->\n<g id=\"edge29\" class=\"edge\">\n<title>4467796944&#45;&gt;4467788496+</title>\n<path fill=\"none\" stroke=\"black\" d=\"M1171.79,-74.27C1186.18,-86.18 1201.63,-98.94 1214.13,-109.27\"/>\n<polygon fill=\"black\" stroke=\"black\" points=\"1211.54,-111.68 1221.48,-115.35 1216,-106.29 1211.54,-111.68\"/>\n</g>\n<!-- 4467796944exp -->\n<g id=\"node27\" class=\"node\">\n<title>4467796944exp</title>\n<ellipse fill=\"none\" stroke=\"black\" cx=\"1011.5\" cy=\"-40.25\" rx=\"27\" ry=\"18\"/>\n<text text-anchor=\"middle\" x=\"1011.5\" y=\"-35.2\" font-family=\"Times,serif\" font-size=\"14.00\">exp</text>\n</g>\n<!-- 4467796944exp&#45;&gt;4467796944 -->\n<g id=\"edge10\" class=\"edge\">\n<title>4467796944exp&#45;&gt;4467796944</title>\n<path fill=\"none\" stroke=\"black\" d=\"M1038.88,-39.55C1046.11,-39.35 1054.27,-39.14 1062.61,-38.91\"/>\n<polygon fill=\"black\" stroke=\"black\" points=\"1062.62,-42.41 1072.52,-38.65 1062.43,-35.42 1062.62,-42.41\"/>\n</g>\n<!-- 4467796816 -->\n<g id=\"node28\" class=\"node\">\n<title>4467796816</title>\n<polygon fill=\"none\" stroke=\"black\" points=\"859,-9.5 859,-83 948.5,-83 948.5,-9.5 859,-9.5\"/>\n<text text-anchor=\"middle\" x=\"903.75\" y=\"-65.7\" font-family=\"Times,serif\" font-size=\"14.00\">2.0000 * n</text>\n<polyline fill=\"none\" stroke=\"black\" points=\"859,-58.5 948.5,-58.5\"/>\n<text text-anchor=\"middle\" x=\"903.75\" y=\"-41.2\" font-family=\"Times,serif\" font-size=\"14.00\">data: 1.7627</text>\n<polyline fill=\"none\" stroke=\"black\" points=\"859,-34 948.5,-34\"/>\n<text text-anchor=\"middle\" x=\"903.75\" y=\"-16.7\" font-family=\"Times,serif\" font-size=\"14.00\">grad: &#45;0.6036</text>\n</g>\n<!-- 4467796816&#45;&gt;4467796944exp -->\n<g id=\"edge16\" class=\"edge\">\n<title>4467796816&#45;&gt;4467796944exp</title>\n<path fill=\"none\" stroke=\"black\" d=\"M948.98,-43.74C956.95,-43.29 965.19,-42.82 972.95,-42.38\"/>\n<polygon fill=\"black\" stroke=\"black\" points=\"972.95,-45.89 982.74,-41.83 972.56,-38.9 972.95,-45.89\"/>\n</g>\n<!-- 4467796816*&#45;&gt;4467796816 -->\n<g id=\"edge11\" class=\"edge\">\n<title>4467796816*&#45;&gt;4467796816</title>\n<path fill=\"none\" stroke=\"black\" d=\"M823.14,-55.28C830.63,-54.43 839.08,-53.47 847.61,-52.51\"/>\n<polygon fill=\"black\" stroke=\"black\" points=\"847.76,-56.01 857.3,-51.41 846.97,-49.06 847.76,-56.01\"/>\n</g>\n<!-- 4467798352 -->\n<g id=\"node30\" class=\"node\">\n<title>4467798352</title>\n<polygon fill=\"none\" stroke=\"black\" points=\"643.5,-21.5 643.5,-95 733,-95 733,-21.5 643.5,-21.5\"/>\n<text text-anchor=\"middle\" x=\"688.25\" y=\"-77.7\" font-family=\"Times,serif\" font-size=\"14.00\">2.0000</text>\n<polyline fill=\"none\" stroke=\"black\" points=\"643.5,-70.5 733,-70.5\"/>\n<text text-anchor=\"middle\" x=\"688.25\" y=\"-53.2\" font-family=\"Times,serif\" font-size=\"14.00\">data: 2.0000</text>\n<polyline fill=\"none\" stroke=\"black\" points=\"643.5,-46 733,-46\"/>\n<text text-anchor=\"middle\" x=\"688.25\" y=\"-28.7\" font-family=\"Times,serif\" font-size=\"14.00\">grad: &#45;0.5320</text>\n</g>\n<!-- 4467798352&#45;&gt;4467796816* -->\n<g id=\"edge19\" class=\"edge\">\n<title>4467798352&#45;&gt;4467796816*</title>\n<path fill=\"none\" stroke=\"black\" d=\"M733.48,-58.25C741.45,-58.25 749.69,-58.25 757.45,-58.25\"/>\n<polygon fill=\"black\" stroke=\"black\" points=\"757.24,-61.75 767.24,-58.25 757.24,-54.75 757.24,-61.75\"/>\n</g>\n<!-- 4467787472 -->\n<g id=\"node31\" class=\"node\">\n<title>4467787472</title>\n<polygon fill=\"none\" stroke=\"black\" points=\"1081.25,-93.5 1081.25,-167 1170.75,-167 1170.75,-93.5 1081.25,-93.5\"/>\n<text text-anchor=\"middle\" x=\"1126\" y=\"-149.7\" font-family=\"Times,serif\" font-size=\"14.00\">1.0000</text>\n<polyline fill=\"none\" stroke=\"black\" points=\"1081.25,-142.5 1170.75,-142.5\"/>\n<text text-anchor=\"middle\" x=\"1126\" y=\"-125.2\" font-family=\"Times,serif\" font-size=\"14.00\">data: 1.0000</text>\n<polyline fill=\"none\" stroke=\"black\" points=\"1081.25,-118 1170.75,-118\"/>\n<text text-anchor=\"middle\" x=\"1126\" y=\"-100.7\" font-family=\"Times,serif\" font-size=\"14.00\">grad: &#45;0.1036</text>\n</g>\n<!-- 4467787472&#45;&gt;4467788496+ -->\n<g id=\"edge30\" class=\"edge\">\n<title>4467787472&#45;&gt;4467788496+</title>\n<path fill=\"none\" stroke=\"black\" d=\"M1171.14,-130.25C1181.21,-130.25 1191.81,-130.25 1201.59,-130.25\"/>\n<polygon fill=\"black\" stroke=\"black\" points=\"1201.5,-133.75 1211.5,-130.25 1201.5,-126.75 1201.5,-133.75\"/>\n</g>\n</g>\n</svg>\n",
      "text/plain": [
       "<graphviz.graphs.Digraph at 0x10a37b430>"
      ]
     },
     "execution_count": 395,
     "metadata": {},
     "output_type": "execute_result"
    }
   ],
   "execution_count": 395
  },
  {
   "metadata": {
    "ExecuteTime": {
     "end_time": "2025-03-09T00:24:52.373786Z",
     "start_time": "2025-03-09T00:24:52.372505Z"
    }
   },
   "cell_type": "code",
   "source": "",
   "id": "cdf311d653d20d46",
   "outputs": [],
   "execution_count": null
  }
 ],
 "metadata": {
  "kernelspec": {
   "display_name": "Python 3",
   "language": "python",
   "name": "python3"
  },
  "language_info": {
   "codemirror_mode": {
    "name": "ipython",
    "version": 2
   },
   "file_extension": ".py",
   "mimetype": "text/x-python",
   "name": "python",
   "nbconvert_exporter": "python",
   "pygments_lexer": "ipython2",
   "version": "2.7.6"
  }
 },
 "nbformat": 4,
 "nbformat_minor": 5
}
