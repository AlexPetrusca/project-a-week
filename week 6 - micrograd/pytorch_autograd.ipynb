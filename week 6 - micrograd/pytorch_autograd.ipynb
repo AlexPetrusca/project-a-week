{
 "cells": [
  {
   "cell_type": "code",
   "id": "initial_id",
   "metadata": {
    "collapsed": true,
    "ExecuteTime": {
     "end_time": "2025-03-09T00:34:54.569189Z",
     "start_time": "2025-03-09T00:34:54.000480Z"
    }
   },
   "source": [
    "# same single neuron example as in micrograd, but implemented in pytorch\n",
    "import torch"
   ],
   "outputs": [],
   "execution_count": 2
  },
  {
   "metadata": {
    "ExecuteTime": {
     "end_time": "2025-03-09T00:34:54.574795Z",
     "start_time": "2025-03-09T00:34:54.571880Z"
    }
   },
   "cell_type": "code",
   "source": [
    "# forward pass\n",
    "x1 = torch.Tensor([2.0]).double(); x1.requires_grad = True\n",
    "x2 = torch.Tensor([0.0]).double(); x2.requires_grad = True\n",
    "w1 = torch.Tensor([-3.0]).double(); w1.requires_grad = True\n",
    "w2 = torch.Tensor([1.0]).double(); w2.requires_grad = True\n",
    "b = torch.Tensor([6.8813735870195432]).double(); b.requires_grad = True\n",
    "n = x1 * w1 + x2 * w2 + b\n",
    "o = torch.tanh(n)"
   ],
   "id": "49317f9370234dc8",
   "outputs": [],
   "execution_count": 3
  },
  {
   "metadata": {
    "ExecuteTime": {
     "end_time": "2025-03-09T00:34:54.592103Z",
     "start_time": "2025-03-09T00:34:54.581598Z"
    }
   },
   "cell_type": "code",
   "source": [
    "# Backward pass\n",
    "print('o:', o.data.item())\n",
    "o.backward()"
   ],
   "id": "b84cc7606b6bb189",
   "outputs": [
    {
     "name": "stdout",
     "output_type": "stream",
     "text": [
      "o: 0.7071066904050358\n"
     ]
    }
   ],
   "execution_count": 4
  },
  {
   "metadata": {
    "ExecuteTime": {
     "end_time": "2025-03-09T00:36:35.882990Z",
     "start_time": "2025-03-09T00:36:35.879330Z"
    }
   },
   "cell_type": "code",
   "source": [
    "print('x1:', x1.grad.item())\n",
    "print('w1:', w1.grad.item())\n",
    "print('x2:', x2.grad.item())\n",
    "print('w2:', w2.grad.item())"
   ],
   "id": "5970c270f9b94388",
   "outputs": [
    {
     "name": "stdout",
     "output_type": "stream",
     "text": [
      "x1: -1.5000003851533106\n",
      "w1: 1.0000002567688737\n",
      "x2: 0.5000001283844369\n",
      "w2: 0.0\n"
     ]
    }
   ],
   "execution_count": 6
  }
 ],
 "metadata": {
  "kernelspec": {
   "display_name": "Python 3",
   "language": "python",
   "name": "python3"
  },
  "language_info": {
   "codemirror_mode": {
    "name": "ipython",
    "version": 2
   },
   "file_extension": ".py",
   "mimetype": "text/x-python",
   "name": "python",
   "nbconvert_exporter": "python",
   "pygments_lexer": "ipython2",
   "version": "2.7.6"
  }
 },
 "nbformat": 4,
 "nbformat_minor": 5
}
