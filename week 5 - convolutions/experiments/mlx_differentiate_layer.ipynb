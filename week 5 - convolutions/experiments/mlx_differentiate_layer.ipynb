{
 "cells": [
  {
   "metadata": {
    "ExecuteTime": {
     "end_time": "2025-03-03T03:33:53.010096Z",
     "start_time": "2025-03-03T03:33:53.007616Z"
    }
   },
   "cell_type": "code",
   "source": [
    "import mlx.core as mx\n",
    "import mlx.nn as nn"
   ],
   "id": "6e2b5de1316f87db",
   "outputs": [],
   "execution_count": 7
  },
  {
   "metadata": {
    "ExecuteTime": {
     "end_time": "2025-03-03T03:33:53.020295Z",
     "start_time": "2025-03-03T03:33:53.018330Z"
    }
   },
   "cell_type": "code",
   "source": [
    "# Create input tensor and layer\n",
    "x = mx.random.normal((1, 10))  # Example input\n",
    "layer = nn.Linear(10, 5)  # Example layer"
   ],
   "id": "77bc2e79cf5973c1",
   "outputs": [],
   "execution_count": 8
  },
  {
   "metadata": {
    "ExecuteTime": {
     "end_time": "2025-03-03T03:33:53.027271Z",
     "start_time": "2025-03-03T03:33:53.025295Z"
    }
   },
   "cell_type": "code",
   "source": [
    "# Create a function to compute loss (example: sum of outputs)\n",
    "def loss_fn(x, layer):\n",
    "    return mx.sum(layer(x))"
   ],
   "id": "5741f58dede10f9c",
   "outputs": [],
   "execution_count": 9
  },
  {
   "metadata": {
    "ExecuteTime": {
     "end_time": "2025-03-03T03:33:53.040333Z",
     "start_time": "2025-03-03T03:33:53.037894Z"
    }
   },
   "cell_type": "code",
   "source": [
    "# Compute the gradient of loss with respect to input\n",
    "grad_fn = mx.grad(loss_fn, argnums=0)  # For input gradient\n",
    "dx = grad_fn(x, layer)\n",
    "print(dx)"
   ],
   "id": "758cbeec6abae07a",
   "outputs": [
    {
     "name": "stdout",
     "output_type": "stream",
     "text": [
      "array([[0.535994, 0.335815, -0.0523646, ..., -0.10516, 0.389606, -0.120561]], dtype=float32)\n"
     ]
    }
   ],
   "execution_count": 10
  },
  {
   "metadata": {
    "ExecuteTime": {
     "end_time": "2025-03-03T03:33:53.047425Z",
     "start_time": "2025-03-03T03:33:53.045164Z"
    }
   },
   "cell_type": "code",
   "source": [
    "# Compute the gradient of loss with respect to layer parameters\n",
    "grad_fn_params = mx.grad(loss_fn, argnums=1)  # For layer parameter gradients\n",
    "dlayer = grad_fn_params(x, layer)\n",
    "print(dlayer)"
   ],
   "id": "a74064746391572a",
   "outputs": [
    {
     "name": "stdout",
     "output_type": "stream",
     "text": [
      "{'weight': array([[-0.757283, 0.135378, -0.308067, ..., -0.00997045, 0.140571, 0.39742],\n",
      "       [-0.757283, 0.135378, -0.308067, ..., -0.00997045, 0.140571, 0.39742],\n",
      "       [-0.757283, 0.135378, -0.308067, ..., -0.00997045, 0.140571, 0.39742],\n",
      "       [-0.757283, 0.135378, -0.308067, ..., -0.00997045, 0.140571, 0.39742],\n",
      "       [-0.757283, 0.135378, -0.308067, ..., -0.00997045, 0.140571, 0.39742]], dtype=float32), 'bias': array([1, 1, 1, 1, 1], dtype=float32)}\n"
     ]
    }
   ],
   "execution_count": 11
  },
  {
   "metadata": {
    "ExecuteTime": {
     "end_time": "2025-03-03T03:37:58.369060Z",
     "start_time": "2025-03-03T03:37:58.357578Z"
    }
   },
   "cell_type": "code",
   "source": [
    "# Compute the gradient of loss with respect to layer parameters (Alt.)\n",
    "grad_fn_params = nn.value_and_grad(layer, loss_fn)  # For layer parameter gradients\n",
    "_, dlayer = grad_fn_params(x, layer)\n",
    "print(dlayer)"
   ],
   "id": "bd92a355737a1080",
   "outputs": [
    {
     "name": "stdout",
     "output_type": "stream",
     "text": [
      "{'weight': array([[-0.757283, 0.135378, -0.308067, ..., -0.00997045, 0.140571, 0.39742],\n",
      "       [-0.757283, 0.135378, -0.308067, ..., -0.00997045, 0.140571, 0.39742],\n",
      "       [-0.757283, 0.135378, -0.308067, ..., -0.00997045, 0.140571, 0.39742],\n",
      "       [-0.757283, 0.135378, -0.308067, ..., -0.00997045, 0.140571, 0.39742],\n",
      "       [-0.757283, 0.135378, -0.308067, ..., -0.00997045, 0.140571, 0.39742]], dtype=float32), 'bias': array([1, 1, 1, 1, 1], dtype=float32)}\n"
     ]
    }
   ],
   "execution_count": 12
  }
 ],
 "metadata": {
  "kernelspec": {
   "display_name": "Python 3",
   "language": "python",
   "name": "python3"
  },
  "language_info": {
   "codemirror_mode": {
    "name": "ipython",
    "version": 2
   },
   "file_extension": ".py",
   "mimetype": "text/x-python",
   "name": "python",
   "nbconvert_exporter": "python",
   "pygments_lexer": "ipython2",
   "version": "2.7.6"
  }
 },
 "nbformat": 4,
 "nbformat_minor": 5
}
