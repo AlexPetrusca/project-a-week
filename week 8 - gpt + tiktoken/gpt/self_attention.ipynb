{
 "cells": [
  {
   "cell_type": "code",
   "id": "initial_id",
   "metadata": {
    "collapsed": true,
    "ExecuteTime": {
     "end_time": "2025-03-14T22:50:37.846737Z",
     "start_time": "2025-03-14T22:50:37.279440Z"
    }
   },
   "source": [
    "import torch\n",
    "import torch.nn as nn\n",
    "from torch.nn import functional as F\n",
    "torch.set_default_device(\"mps\")  # use gpu\n",
    "torch.manual_seed(1337)  # seed for reproducibility"
   ],
   "outputs": [
    {
     "data": {
      "text/plain": [
       "<torch._C.Generator at 0x106245f90>"
      ]
     },
     "execution_count": 1,
     "metadata": {},
     "output_type": "execute_result"
    }
   ],
   "execution_count": 1
  },
  {
   "metadata": {
    "ExecuteTime": {
     "end_time": "2025-03-14T22:50:37.851602Z",
     "start_time": "2025-03-14T22:50:37.850130Z"
    }
   },
   "cell_type": "code",
   "source": "# some stuff from last time\n",
   "id": "332a6cf5b84ac897",
   "outputs": [],
   "execution_count": 2
  },
  {
   "metadata": {
    "ExecuteTime": {
     "end_time": "2025-03-14T22:50:37.908960Z",
     "start_time": "2025-03-14T22:50:37.887777Z"
    }
   },
   "cell_type": "code",
   "source": [
    "# the mathematical trick in self-attention\n",
    "#   - we want the tokens to \"talk to each other\" (communicate information between themselves)\n",
    "#   - as we process tokens, we want information from past tokens to only flow forwards to the current token,\n",
    "#     but not backwards from future tokens to the current token (which wouldn't causally make sense).\n",
    "#   - important idea: information from all past tokens needs to be preserved and used to predict the next token.\n",
    "B, T, C = 4, 8, 2  # (batch, time, channels) or (batch, token, embedding)\n",
    "x = torch.randn(B, T, C)\n",
    "print(x.shape)"
   ],
   "id": "33a23febc2e8923",
   "outputs": [
    {
     "name": "stdout",
     "output_type": "stream",
     "text": [
      "torch.Size([4, 8, 2])\n"
     ]
    }
   ],
   "execution_count": 3
  },
  {
   "metadata": {
    "ExecuteTime": {
     "end_time": "2025-03-14T22:50:38.006672Z",
     "start_time": "2025-03-14T22:50:37.911829Z"
    }
   },
   "cell_type": "code",
   "source": [
    "# version 1: averaging past context with for loops (weakest form of aggregation) a.k.a. \"bag of words\"\n",
    "#   - xbow1[b, t] = mean_{i <= t} x[b, i]\n",
    "xbow1 = torch.zeros((B, T, C))\n",
    "for b in range(B):\n",
    "    for t in range(T):\n",
    "        xprev = x[b, :t+1]  # (t, C)\n",
    "        xprev_mean = torch.mean(xprev, dim=0)  # (C,)\n",
    "        xbow1[b, t] = xprev_mean\n",
    "\n",
    "print(\"--- x[0] ---\")\n",
    "print(x[0])\n",
    "print(\"--- xbow[0] ---\")\n",
    "print(xbow1[0])"
   ],
   "id": "bc01cc4748c7033a",
   "outputs": [
    {
     "name": "stdout",
     "output_type": "stream",
     "text": [
      "--- x[0] ---\n",
      "tensor([[-0.8739, -0.8078],\n",
      "        [ 0.1450,  0.3556],\n",
      "        [-1.1429, -0.6025],\n",
      "        [-0.5363, -1.2178],\n",
      "        [-2.2164,  0.6130],\n",
      "        [-0.7868,  0.3607],\n",
      "        [ 0.3933,  0.7113],\n",
      "        [ 1.4555, -1.0590]], device='mps:0')\n",
      "--- xbow[0] ---\n",
      "tensor([[-0.8739, -0.8078],\n",
      "        [-0.3645, -0.2261],\n",
      "        [-0.6239, -0.3516],\n",
      "        [-0.6020, -0.5681],\n",
      "        [-0.9249, -0.3319],\n",
      "        [-0.9019, -0.2165],\n",
      "        [-0.7168, -0.0839],\n",
      "        [-0.4453, -0.2058]], device='mps:0')\n"
     ]
    }
   ],
   "execution_count": 4
  },
  {
   "metadata": {
    "ExecuteTime": {
     "end_time": "2025-03-14T22:50:38.151670Z",
     "start_time": "2025-03-14T22:50:38.097225Z"
    }
   },
   "cell_type": "code",
   "source": [
    "# version 2: faster implementation of version 1 (\"bag of words\") using matrix multiplication and tril matrix\n",
    "#   - xbow2[b, t] = mean_{i <= t} x[b, i]\n",
    "tril = torch.tril(torch.ones(T, T))  # sums the aggregated context\n",
    "tril_avg = tril / torch.sum(tril, dim=1, keepdim=True)  # averages the aggregated context\n",
    "print(\"--- tril_avg ---\")\n",
    "print(tril_avg)\n",
    "\n",
    "# my impl\n",
    "# xbow2 = (x.transpose(1, 2) @ tril_avg.T).transpose(1, 2)  # [(B, C, T) @ (1, T, T)]^T  -->  [(B, C, T)]^T  -->  (B, T, C)\n",
    "\n",
    "# Karpathy impl (wow! this works??)\n",
    "#   - yes! it works cuz:\n",
    "#       1. `tril_avg` gets broadcast to shape (1, T, T)\n",
    "#       2. only the last two dimensions of `tril_avg` and `x` get matrix multiplied\n",
    "xbow2 = tril_avg @ x  # (1, T, T) @ (B, T, C)  -->  (B, T, C)\n",
    "\n",
    "print(\"--- x[0] ---\")\n",
    "print(x[0])\n",
    "print(\"--- xbow[0] ---\")\n",
    "print(xbow1[0])"
   ],
   "id": "93cfcff4fa867d88",
   "outputs": [
    {
     "name": "stdout",
     "output_type": "stream",
     "text": [
      "--- tril_avg ---\n",
      "tensor([[1.0000, 0.0000, 0.0000, 0.0000, 0.0000, 0.0000, 0.0000, 0.0000],\n",
      "        [0.5000, 0.5000, 0.0000, 0.0000, 0.0000, 0.0000, 0.0000, 0.0000],\n",
      "        [0.3333, 0.3333, 0.3333, 0.0000, 0.0000, 0.0000, 0.0000, 0.0000],\n",
      "        [0.2500, 0.2500, 0.2500, 0.2500, 0.0000, 0.0000, 0.0000, 0.0000],\n",
      "        [0.2000, 0.2000, 0.2000, 0.2000, 0.2000, 0.0000, 0.0000, 0.0000],\n",
      "        [0.1667, 0.1667, 0.1667, 0.1667, 0.1667, 0.1667, 0.0000, 0.0000],\n",
      "        [0.1429, 0.1429, 0.1429, 0.1429, 0.1429, 0.1429, 0.1429, 0.0000],\n",
      "        [0.1250, 0.1250, 0.1250, 0.1250, 0.1250, 0.1250, 0.1250, 0.1250]],\n",
      "       device='mps:0')\n",
      "--- x[0] ---\n",
      "tensor([[-0.8739, -0.8078],\n",
      "        [ 0.1450,  0.3556],\n",
      "        [-1.1429, -0.6025],\n",
      "        [-0.5363, -1.2178],\n",
      "        [-2.2164,  0.6130],\n",
      "        [-0.7868,  0.3607],\n",
      "        [ 0.3933,  0.7113],\n",
      "        [ 1.4555, -1.0590]], device='mps:0')\n",
      "--- xbow[0] ---\n",
      "tensor([[-0.8739, -0.8078],\n",
      "        [-0.3645, -0.2261],\n",
      "        [-0.6239, -0.3516],\n",
      "        [-0.6020, -0.5681],\n",
      "        [-0.9249, -0.3319],\n",
      "        [-0.9019, -0.2165],\n",
      "        [-0.7168, -0.0839],\n",
      "        [-0.4453, -0.2058]], device='mps:0')\n"
     ]
    }
   ],
   "execution_count": 5
  },
  {
   "metadata": {
    "ExecuteTime": {
     "end_time": "2025-03-14T22:50:38.267794Z",
     "start_time": "2025-03-14T22:50:38.239369Z"
    }
   },
   "cell_type": "code",
   "source": [
    "# confirm equality of version 1 and version 2\n",
    "print(\"xbow1 == xbow2:\", torch.allclose(xbow1, xbow2))"
   ],
   "id": "a8e05c57cf23c417",
   "outputs": [
    {
     "name": "stdout",
     "output_type": "stream",
     "text": [
      "xbow1 == xbow2: True\n"
     ]
    }
   ],
   "execution_count": 6
  },
  {
   "metadata": {
    "ExecuteTime": {
     "end_time": "2025-03-14T22:50:38.361090Z",
     "start_time": "2025-03-14T22:50:38.351513Z"
    }
   },
   "cell_type": "code",
   "source": [
    "# version 3: implementation of version 2 using softmax\n",
    "#   - xbow3[b, t] = mean_{i <= t} x[b, i]\n",
    "tril = torch.tril(torch.ones(T, T))  # sums the aggregated context\n",
    "\n",
    "wei_logits = torch.zeros((T, T))\n",
    "wei_logits = wei_logits.masked_fill(tril == 0, float('-inf'))  # softmax(-inf) = 0\n",
    "tril_avg = F.softmax(wei_logits, dim=-1)  # averages the aggregated context\n",
    "\n",
    "xbow3 = tril_avg @ x"
   ],
   "id": "b0550b9fcf32a8a8",
   "outputs": [],
   "execution_count": 7
  },
  {
   "metadata": {
    "ExecuteTime": {
     "end_time": "2025-03-14T22:50:38.471345Z",
     "start_time": "2025-03-14T22:50:38.468156Z"
    }
   },
   "cell_type": "code",
   "source": [
    "# confirm equality of version 3 with version 1 and version 2\n",
    "print(\"xbow3 == xbow1:\", torch.allclose(xbow3, xbow1))\n",
    "print(\"xbow3 == xbow2:\", torch.allclose(xbow3, xbow2))"
   ],
   "id": "d385eacdd54111b3",
   "outputs": [
    {
     "name": "stdout",
     "output_type": "stream",
     "text": [
      "xbow3 == xbow1: True\n",
      "xbow3 == xbow2: True\n"
     ]
    }
   ],
   "execution_count": 8
  },
  {
   "metadata": {
    "ExecuteTime": {
     "end_time": "2025-03-14T22:50:38.594302Z",
     "start_time": "2025-03-14T22:50:38.580894Z"
    }
   },
   "cell_type": "code",
   "source": [
    "# version 3 is a \"preview\" of self-attention.\n",
    "\n",
    "# specifically, take a look at `wei` - it's very similar to the key/query matrices in attention blocks:\n",
    "#   - during training of a key/query matrix in an attention block:\n",
    "#       - tokens will start looking at each other.\n",
    "#       - some tokens will find other tokens more or less interesting.\n",
    "#           - i.e. key tokens and query tokens will develop some variable \"affinity\" to each other.\n",
    "#           - \"affinity\" = a measure of how related the key token is to the query token.\n",
    "#               - similar to the weight in a linear layer's weight matrix.\n",
    "#   - notice that `wei` roughly represents this key/query matrix of affinities:\n",
    "#       - `wei[i, j] = -inf` when i > j, which basically says that (key) tokens from the\n",
    "#          future can't communicate with (query) tokens (which are in the present).\n",
    "#           - simply, \"the future cannot communicate with the past\".\n",
    "#       - `wei[i, j]` where i <= j, represents the affinity between the i-th (query) token\n",
    "#         and the j-th (key) token of context.\n",
    "#           - in our case, all the affinities are set to 0 because we're averaging over the context.\n",
    "#               - i.e. all the connections have the same weight (affinity).\n",
    "#           - when we train an attention block, these affinities will be learned by the model.\n",
    "#           - softmax will take these affinities and convert them to probabilities.\n",
    "#               - these probabilities represent the percent correlation between the tokens (keys and queries).\n",
    "#               - note that an affinity of `-inf` will be converted to a percent correlation of `0` as we'd like.\n",
    "print(\"--- tril_avg ---\")\n",
    "print(tril_avg)\n",
    "print(\"--- wei ---\")\n",
    "print(wei_logits)"
   ],
   "id": "498ae3607b5e8ba8",
   "outputs": [
    {
     "name": "stdout",
     "output_type": "stream",
     "text": [
      "--- tril_avg ---\n",
      "tensor([[1.0000, 0.0000, 0.0000, 0.0000, 0.0000, 0.0000, 0.0000, 0.0000],\n",
      "        [0.5000, 0.5000, 0.0000, 0.0000, 0.0000, 0.0000, 0.0000, 0.0000],\n",
      "        [0.3333, 0.3333, 0.3333, 0.0000, 0.0000, 0.0000, 0.0000, 0.0000],\n",
      "        [0.2500, 0.2500, 0.2500, 0.2500, 0.0000, 0.0000, 0.0000, 0.0000],\n",
      "        [0.2000, 0.2000, 0.2000, 0.2000, 0.2000, 0.0000, 0.0000, 0.0000],\n",
      "        [0.1667, 0.1667, 0.1667, 0.1667, 0.1667, 0.1667, 0.0000, 0.0000],\n",
      "        [0.1429, 0.1429, 0.1429, 0.1429, 0.1429, 0.1429, 0.1429, 0.0000],\n",
      "        [0.1250, 0.1250, 0.1250, 0.1250, 0.1250, 0.1250, 0.1250, 0.1250]],\n",
      "       device='mps:0')\n",
      "--- wei ---\n",
      "tensor([[0., -inf, -inf, -inf, -inf, -inf, -inf, -inf],\n",
      "        [0., 0., -inf, -inf, -inf, -inf, -inf, -inf],\n",
      "        [0., 0., 0., -inf, -inf, -inf, -inf, -inf],\n",
      "        [0., 0., 0., 0., -inf, -inf, -inf, -inf],\n",
      "        [0., 0., 0., 0., 0., -inf, -inf, -inf],\n",
      "        [0., 0., 0., 0., 0., 0., -inf, -inf],\n",
      "        [0., 0., 0., 0., 0., 0., 0., -inf],\n",
      "        [0., 0., 0., 0., 0., 0., 0., 0.]], device='mps:0')\n"
     ]
    }
   ],
   "execution_count": 9
  },
  {
   "metadata": {
    "ExecuteTime": {
     "end_time": "2025-03-14T22:50:38.832229Z",
     "start_time": "2025-03-14T22:50:38.696363Z"
    }
   },
   "cell_type": "code",
   "source": [
    "# version 4: self-attention! (the crux)\n",
    "#   - we don't want uniform affinities between tokens (averaging won't work).\n",
    "#       - Ex. if I'm a vowel, maybe I want to look at consonants in my past and I want that information to flow to me.\n",
    "#   - problem that self-attention solves:\n",
    "#       - I want to gather data from the past, but I want to do it in a data-dependant way.\n",
    "#   - here's how self-attention solves it:\n",
    "#       - every single token, at each position, will emit two vectors:\n",
    "#           - query vector - what am I looking for?\n",
    "#           - key vector - what do I contain?\n",
    "#       - also every single token has an additional vector:\n",
    "#           - value vector - if you find me \"interesting\", here's what I will communicate to you\n",
    "#       - the way we get affinities between tokens in a sequence now, is we basically just do a \"dot product\" between\n",
    "#         the keys and the queries.\n",
    "#           - my query \"dot products\" with all the keys of all the other tokens.\n",
    "#               - if the key and query are \"aligned\", they will \"interact\" (dot product) to a very high amount.\n",
    "#               - I will get to learn more about that specific token as opposed to any other token in the sequence.\n",
    "#           - this dot product \"becomes\" `wei` from version 3.\n",
    "#       - we pass these affinities though a softmax to get a probability distribution over the prior tokens (i.e. context)\n",
    "#           - now we can aggregate the context up to the current token using this probability distribution.\n",
    "#               - we essentially get a weighted sum of the context tokens according to their affinity.\n",
    "#               - this aggregated context will end up being much more relevant and useful than those of versions 3\n",
    "#                 or below where we used flat averaging.\n",
    "#           - note: this aggregation is done in the \"value\" embedding space for this head.\n",
    "#               - \"value\" embedding space = the space that value vectors are defined and operate in for this head.\n",
    "#               - we take the value embeddings of the context tokens and squash them into a single value embedding that\n",
    "#                 represents the \"aggregate\" of all the context tokens (i.e. aggregated context).\n",
    "\n",
    "B, T, C = 4, 8, 32 # batch, time, channels\n",
    "x = torch.randn(B, T, C)\n",
    "\n",
    "# let's see a single Head perform self-attention\n",
    "head_size = 16\n",
    "key = nn.Linear(C, head_size, bias=False)\n",
    "query = nn.Linear(C, head_size, bias=False)\n",
    "value = nn.Linear(C, head_size, bias=False)\n",
    "k = key(x)    # (B, T, head_size)\n",
    "q = query(x)  # (B, T, head_size)\n",
    "wei_logits = q @ k.transpose(-2, -1)  # (B, T, head_size) @ (B, head_size, T)  -->  (B, T, T)\n",
    "scaled_wei_logits = wei_logits * head_size**-0.5\n",
    "\n",
    "tril = torch.tril(torch.ones(T, T))  # sums the aggregated context\n",
    "scaled_wei_logits = scaled_wei_logits.masked_fill(tril == 0, float('-inf'))  # softmax(-inf) = 0\n",
    "wei_probs = F.softmax(scaled_wei_logits, dim=-1)  # averages the aggregated context\n",
    "\n",
    "# xatt = wei_probs @ x\n",
    "v = value(x)\n",
    "xatt = wei_probs @ v\n",
    "\n",
    "print(\"--- wei_logits[0] ---\")\n",
    "print(wei_logits[0])\n",
    "print(\"--- wei_probs[0] ---\")\n",
    "print(wei_probs[0])"
   ],
   "id": "d4ebf7a9b8de8e12",
   "outputs": [
    {
     "name": "stdout",
     "output_type": "stream",
     "text": [
      "--- wei_logits[0] ---\n",
      "tensor([[ 2.4787,    -inf,    -inf,    -inf,    -inf,    -inf,    -inf,    -inf],\n",
      "        [ 0.0791,  0.4195,    -inf,    -inf,    -inf,    -inf,    -inf,    -inf],\n",
      "        [ 0.1452, -2.2417,  2.3225,    -inf,    -inf,    -inf,    -inf,    -inf],\n",
      "        [-1.3146, -0.9574, -0.6660, -0.9418,    -inf,    -inf,    -inf,    -inf],\n",
      "        [ 3.0616,  0.9381, -0.8151,  0.1239,  0.7581,    -inf,    -inf,    -inf],\n",
      "        [-1.2767, -0.7902,  1.0707,  0.4485,  2.8819,  1.7936,    -inf,    -inf],\n",
      "        [ 1.6953,  0.4527, -0.9625,  1.3604, -2.5567, -2.4997,  2.0441,    -inf],\n",
      "        [-0.9596, -1.8050,  2.0731, -1.1374,  0.4673,  0.9959, -0.3580, -0.9838]],\n",
      "       device='mps:0', grad_fn=<SelectBackward0>)\n",
      "--- wei_probs[0] ---\n",
      "tensor([[1.0000, 0.0000, 0.0000, 0.0000, 0.0000, 0.0000, 0.0000, 0.0000],\n",
      "        [0.4157, 0.5843, 0.0000, 0.0000, 0.0000, 0.0000, 0.0000, 0.0000],\n",
      "        [0.1009, 0.0093, 0.8899, 0.0000, 0.0000, 0.0000, 0.0000, 0.0000],\n",
      "        [0.1726, 0.2467, 0.3302, 0.2506, 0.0000, 0.0000, 0.0000, 0.0000],\n",
      "        [0.7733, 0.0925, 0.0160, 0.0410, 0.0773, 0.0000, 0.0000, 0.0000],\n",
      "        [0.0096, 0.0156, 0.1003, 0.0539, 0.6139, 0.2067, 0.0000, 0.0000],\n",
      "        [0.2840, 0.0820, 0.0199, 0.2032, 0.0040, 0.0043, 0.4026, 0.0000],\n",
      "        [0.0270, 0.0116, 0.5601, 0.0226, 0.1124, 0.1907, 0.0493, 0.0263]],\n",
      "       device='mps:0', grad_fn=<SelectBackward0>)\n"
     ]
    }
   ],
   "execution_count": 10
  },
  {
   "metadata": {
    "ExecuteTime": {
     "end_time": "2025-03-14T23:35:37.689934Z",
     "start_time": "2025-03-14T23:35:37.593512Z"
    }
   },
   "cell_type": "code",
   "source": [
    "# Notes on attention from Karpathy (the myth, the legend) with some additions by me (yours truly):\n",
    "# - Attention is a communication mechanism. Can be seen as nodes in a directed graph looking at each\n",
    "#   other and aggregating information with a weighted sum from all nodes that point to them, with\n",
    "#   data-dependent weights.\n",
    "#       - I.e. we could apply attention on any directed graph to perform arbitrary calculations.\n",
    "# - There is no notion of space. Attention simply acts over a set of vectors.\n",
    "#       - This is why we need to positionally encode tokens.\n",
    "#       - We have a set of vectors. they communicate. If you want them to have a notion of space (positional\n",
    "#         information), you have to specifically add it.\n",
    "#       - Note: this is different from convolution, where positional information is implicitly \"baked into\"\n",
    "#         the operation. this is a key difference between the two.\n",
    "# - Each example across batch dimension is of course processed completely independently and never \"talk\"\n",
    "#   to each other.\n",
    "# - In an \"encoder\" attention block just delete the single line that does masking with `tril`, allowing all\n",
    "#   tokens to communicate.\n",
    "#       - The block we've built here is called a \"decoder\" attention block because it has triangular masking,\n",
    "#         and is usually used in autoregressive settings, like language modeling.\n",
    "# - \"self-attention\" just means that the keys and values are produced from the same source as queries.\n",
    "#       - In \"cross-attention\", the queries still get produced from x, but the keys and values come from some\n",
    "#         other, external source (e.g. an encoder module)\n",
    "# - \"Scaled\" attention additional divides wei by `1 / sqrt(head_size)`. This makes it so when input Q,K are\n",
    "#   unit variance, wei will be unit variance too and Softmax will stay diffuse and not saturate too much.\n",
    "#       - Without scaling, the variance will be on the order of `head_size` (so in our case 16).\n",
    "#       - With scaling, the variance will be on the order of 1.\n",
    "#       - Note: as the variance of the logits fed to softmax increases, the output of softmax converges to\n",
    "#         the max function. This is bad because we lose the relationships between the tokens, so we generally\n",
    "#         want to keep the variance of the logits from \"exploding\", hence the scaling term.\n",
    "\n",
    "# Ex. softmax converging to one-hot max\n",
    "print(torch.softmax(torch.tensor([0.1, -0.2, 0.3, -0.2, 0.5]), dim=-1))\n",
    "print(torch.softmax(torch.tensor([0.1, -0.2, 0.3, -0.2, 0.5])*8, dim=-1)) # gets too peaky, converges to one-hot max"
   ],
   "id": "6ea887efbac2e260",
   "outputs": [
    {
     "name": "stdout",
     "output_type": "stream",
     "text": [
      "tensor([0.1925, 0.1426, 0.2351, 0.1426, 0.2872], device='mps:0')\n",
      "tensor([0.0326, 0.0030, 0.1615, 0.0030, 0.8000], device='mps:0')\n"
     ]
    }
   ],
   "execution_count": 13
  },
  {
   "metadata": {},
   "cell_type": "code",
   "outputs": [],
   "execution_count": null,
   "source": "",
   "id": "48b3af4aa72f4b61"
  }
 ],
 "metadata": {
  "kernelspec": {
   "display_name": "Python 3",
   "language": "python",
   "name": "python3"
  },
  "language_info": {
   "codemirror_mode": {
    "name": "ipython",
    "version": 2
   },
   "file_extension": ".py",
   "mimetype": "text/x-python",
   "name": "python",
   "nbconvert_exporter": "python",
   "pygments_lexer": "ipython2",
   "version": "2.7.6"
  }
 },
 "nbformat": 4,
 "nbformat_minor": 5
}
