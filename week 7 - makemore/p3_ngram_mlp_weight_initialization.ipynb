{
 "cells": [
  {
   "cell_type": "code",
   "id": "initial_id",
   "metadata": {
    "collapsed": true,
    "ExecuteTime": {
     "end_time": "2025-03-12T18:52:42.750356Z",
     "start_time": "2025-03-12T18:52:42.004482Z"
    }
   },
   "source": [
    "# Let's explore our mlp from last time a little deeper\n",
    "#   - specifically, looking at the gradients that flow through the model\n",
    "#   - how can we improve the way we train the network? answer: weight initialization\n",
    "import torch\n",
    "import torch.nn.functional as F\n",
    "import matplotlib.pyplot as plt\n",
    "torch.set_default_device(\"mps\")"
   ],
   "outputs": [],
   "execution_count": 1
  },
  {
   "metadata": {
    "ExecuteTime": {
     "end_time": "2025-03-12T18:52:42.757721Z",
     "start_time": "2025-03-12T18:52:42.753358Z"
    }
   },
   "cell_type": "code",
   "source": [
    "# read in all the words\n",
    "words = open('res/names.txt', 'r').read().splitlines()\n",
    "words[:8]"
   ],
   "id": "472da98d60617d97",
   "outputs": [
    {
     "data": {
      "text/plain": [
       "['emma', 'olivia', 'ava', 'isabella', 'sophia', 'charlotte', 'mia', 'amelia']"
      ]
     },
     "execution_count": 2,
     "metadata": {},
     "output_type": "execute_result"
    }
   ],
   "execution_count": 2
  },
  {
   "metadata": {
    "ExecuteTime": {
     "end_time": "2025-03-12T18:52:42.796467Z",
     "start_time": "2025-03-12T18:52:42.792701Z"
    }
   },
   "cell_type": "code",
   "source": [
    "# build the vocabulary of characters and mappings to/from integers\n",
    "chars = sorted(list(set(''.join(words))))\n",
    "stoi = {s:i+1 for i,s in enumerate(chars)}\n",
    "stoi['.'] = 0\n",
    "itos = {i:s for s,i in stoi.items()}\n",
    "vocab_size = len(itos)\n",
    "print(itos)\n",
    "print(vocab_size)"
   ],
   "id": "7965eb44d9c6ee95",
   "outputs": [
    {
     "name": "stdout",
     "output_type": "stream",
     "text": [
      "{1: 'a', 2: 'b', 3: 'c', 4: 'd', 5: 'e', 6: 'f', 7: 'g', 8: 'h', 9: 'i', 10: 'j', 11: 'k', 12: 'l', 13: 'm', 14: 'n', 15: 'o', 16: 'p', 17: 'q', 18: 'r', 19: 's', 20: 't', 21: 'u', 22: 'v', 23: 'w', 24: 'x', 25: 'y', 26: 'z', 0: '.'}\n",
      "27\n"
     ]
    }
   ],
   "execution_count": 3
  },
  {
   "metadata": {
    "ExecuteTime": {
     "end_time": "2025-03-12T18:52:43.043419Z",
     "start_time": "2025-03-12T18:52:42.800895Z"
    }
   },
   "cell_type": "code",
   "source": [
    "# build the dataset\n",
    "block_size = 3 # context length: how many characters do we take to predict the next one?\n",
    "\n",
    "def build_dataset(words):\n",
    "  X, Y = [], []\n",
    "\n",
    "  for w in words:\n",
    "    context = [0] * block_size\n",
    "    for ch in w + '.':\n",
    "      ix = stoi[ch]\n",
    "      X.append(context)\n",
    "      Y.append(ix)\n",
    "      context = context[1:] + [ix] # crop and append\n",
    "\n",
    "  X = torch.tensor(X)\n",
    "  Y = torch.tensor(Y)\n",
    "  print(X.shape, Y.shape)\n",
    "  return X, Y\n",
    "\n",
    "import random\n",
    "random.seed(42)\n",
    "random.shuffle(words)\n",
    "n1 = int(0.8*len(words))\n",
    "n2 = int(0.9*len(words))\n",
    "\n",
    "Xtr,  Ytr  = build_dataset(words[:n1])     # 80%\n",
    "Xdev, Ydev = build_dataset(words[n1:n2])   # 10%\n",
    "Xte,  Yte  = build_dataset(words[n2:])     # 10%"
   ],
   "id": "baebf6ac8a942c9e",
   "outputs": [
    {
     "name": "stdout",
     "output_type": "stream",
     "text": [
      "torch.Size([182625, 3]) torch.Size([182625])\n",
      "torch.Size([22655, 3]) torch.Size([22655])\n",
      "torch.Size([22866, 3]) torch.Size([22866])\n"
     ]
    }
   ],
   "execution_count": 4
  },
  {
   "metadata": {
    "ExecuteTime": {
     "end_time": "2025-03-12T18:52:43.116987Z",
     "start_time": "2025-03-12T18:52:43.105164Z"
    }
   },
   "cell_type": "code",
   "source": [
    "# MLP revisited\n",
    "n_embd = 10 # the dimensionality of the character embedding vectors\n",
    "n_hidden = 200 # the number of neurons in the hidden layer of the MLP\n",
    "\n",
    "g = torch.Generator(device='mps').manual_seed(2147483647) # for reproducibility\n",
    "C  = torch.randn((vocab_size, n_embd),            generator=g)\n",
    "W1 = torch.randn((n_embd * block_size, n_hidden), generator=g)\n",
    "b1 = torch.randn(n_hidden,                        generator=g)\n",
    "W2 = torch.randn((n_hidden, vocab_size),          generator=g)\n",
    "b2 = torch.randn(vocab_size,                      generator=g)\n",
    "\n",
    "parameters = [C, W1, b1, W2, b2]\n",
    "print(sum(p.nelement() for p in parameters)) # number of parameters in total\n",
    "for p in parameters:\n",
    "  p.requires_grad = True"
   ],
   "id": "cd58a02eb02c9b26",
   "outputs": [
    {
     "name": "stdout",
     "output_type": "stream",
     "text": [
      "11897\n"
     ]
    }
   ],
   "execution_count": 5
  },
  {
   "metadata": {
    "ExecuteTime": {
     "end_time": "2025-03-12T18:52:43.122410Z",
     "start_time": "2025-03-12T18:52:43.119590Z"
    }
   },
   "cell_type": "code",
   "source": [
    "# same optimization as last time\n",
    "max_steps = 200000\n",
    "batch_size = 32\n",
    "lossi = []\n",
    "\n",
    "def step(epoch=0):\n",
    "  global h\n",
    "  global hpreact\n",
    "\n",
    "  # minibatch construct\n",
    "  ix = torch.randint(0, Xtr.shape[0], (batch_size,), generator=g)\n",
    "  Xb, Yb = Xtr[ix], Ytr[ix] # batch X,Y\n",
    "\n",
    "  # forward pass\n",
    "  emb = C[Xb] # embed the characters into vectors\n",
    "  embcat = emb.view(emb.shape[0], -1) # concatenate the vectors\n",
    "  hpreact = embcat @ W1 + b1 # hidden layer pre-activation\n",
    "  h = torch.tanh(hpreact) # hidden layer\n",
    "  logits = h @ W2 + b2 # output layer\n",
    "  loss = F.cross_entropy(logits, Yb) # loss function\n",
    "\n",
    "  # backward pass\n",
    "  for p in parameters:\n",
    "    p.grad = None\n",
    "  loss.backward()\n",
    "\n",
    "  # update\n",
    "  lr = 0.1 if epoch < 100000 else 0.01 # step learning rate decay\n",
    "  for p in parameters:\n",
    "    p.data += -lr * p.grad\n",
    "\n",
    "  # track stats\n",
    "  if epoch % 10000 == 0: # print every once in a while\n",
    "    print(f'{epoch:7d}/{max_steps:7d}: {loss.item():.4f}')\n",
    "  lossi.append(loss.log10().item())"
   ],
   "id": "ea5d2364e1a2410a",
   "outputs": [],
   "execution_count": 6
  },
  {
   "metadata": {
    "ExecuteTime": {
     "end_time": "2025-03-12T18:52:43.482064Z",
     "start_time": "2025-03-12T18:52:43.418396Z"
    }
   },
   "cell_type": "code",
   "source": [
    "# we notice that the network starts off with a very high loss.\n",
    "step()  # view initial loss"
   ],
   "id": "4e4ce8989f28a8d3",
   "outputs": [
    {
     "name": "stdout",
     "output_type": "stream",
     "text": [
      "      0/ 200000: 30.6079\n"
     ]
    }
   ],
   "execution_count": 7
  },
  {
   "metadata": {
    "ExecuteTime": {
     "end_time": "2025-03-12T18:52:43.729272Z",
     "start_time": "2025-03-12T18:52:43.720645Z"
    }
   },
   "cell_type": "code",
   "source": [
    "# this tells us that our initialization could be better.\n",
    "#   - to minimize the initial loss, we'd like the initial logits to be closer.\n",
    "#     to zero and closer to a uniform distribution.\n",
    "#   - we can scale the initial parameters to get \"nicer\" values that minimize the initial loss.\n",
    "#     - biases can be scaled to 0.\n",
    "#     - weights can be scaled by an arbitrary scale < 1.\n",
    "#       - we shouldn't scale the weights to 0.\n",
    "#       - we need to keep some entropy (randomness) in the weights so that we break symetry.\n",
    "C  = torch.randn((vocab_size, n_embd),            generator=g)\n",
    "W1 = torch.randn((n_embd * block_size, n_hidden), generator=g)\n",
    "b1 = torch.randn(n_hidden,                        generator=g)\n",
    "W2 = torch.randn((n_hidden, vocab_size),          generator=g) * 0.01\n",
    "b2 = torch.randn(vocab_size,                      generator=g) * 0\n",
    "\n",
    "parameters = [C, W1, b1, W2, b2]\n",
    "print(sum(p.nelement() for p in parameters)) # number of parameters in total\n",
    "for p in parameters:\n",
    "  p.requires_grad = True\n",
    "\n",
    "step()  # initial loss is much better now"
   ],
   "id": "fc04847ed7fbdffc",
   "outputs": [
    {
     "name": "stdout",
     "output_type": "stream",
     "text": [
      "11897\n",
      "      0/ 200000: 3.3391\n"
     ]
    }
   ],
   "execution_count": 8
  },
  {
   "metadata": {
    "ExecuteTime": {
     "end_time": "2025-03-12T20:01:48.708964Z",
     "start_time": "2025-03-12T20:01:48.544402Z"
    }
   },
   "cell_type": "code",
   "source": [
    "# let's take a look at the activations of the hidden layer.\n",
    "# we notice that the tanh function is \"saturating\" (taking a value either -1.0 or 1.0) given its inputs.\n",
    "#   - this can hinder learning a.k.a. vanishing gradient problem.\n",
    "#     - neurons can \"die\" if their gradients all saturate to one value (i.e. -1 or 1 for tanh, 0 for relu, etc.).\n",
    "#     - a neuron is said to be \"dead\" when it can't learn, given any input from the dataset.\n",
    "#   - clearly, our pre-activations are taking extreme values, so we need to fix this.\n",
    "plt.figure(figsize=(20, 5))\n",
    "plt.subplot(121)\n",
    "plt.hist(h.view(-1).detach().cpu(), bins=50)  # view activations from hidden layer\n",
    "plt.subplot(122)\n",
    "plt.hist(hpreact.view(-1).detach().cpu(), bins=50)  # view pre-activations from hidden layer\n",
    "plt.show()"
   ],
   "id": "89e01bd3d2ef0e47",
   "outputs": [
    {
     "data": {
      "text/plain": [
       "<Figure size 2000x500 with 2 Axes>"
      ],
      "image/png": "[encoded data removed]"
     },
     "metadata": {},
     "output_type": "display_data"
    }
   ],
   "execution_count": 27
  },
  {
   "metadata": {
    "ExecuteTime": {
     "end_time": "2025-03-12T20:28:16.513723Z",
     "start_time": "2025-03-12T20:28:16.497455Z"
    }
   },
   "cell_type": "code",
   "source": [
    "# let's \"fix\" our initial hidden layer activations.\n",
    "C  = torch.randn((vocab_size, n_embd),            generator=g)\n",
    "W1 = torch.randn((n_embd * block_size, n_hidden), generator=g) * 0.2\n",
    "b1 = torch.randn(n_hidden,                        generator=g) * 0.01\n",
    "W2 = torch.randn((n_hidden, vocab_size),          generator=g) * 0.01\n",
    "b2 = torch.randn(vocab_size,                      generator=g) * 0\n",
    "\n",
    "parameters = [C, W1, b1, W2, b2]\n",
    "print(sum(p.nelement() for p in parameters)) # number of parameters in total\n",
    "for p in parameters:\n",
    "  p.requires_grad = True\n",
    "\n",
    "step()  # initial loss is much better now"
   ],
   "id": "ad86912fe94a1eb5",
   "outputs": [
    {
     "name": "stdout",
     "output_type": "stream",
     "text": [
      "11897\n",
      "      0/ 200000: 3.2842\n"
     ]
    }
   ],
   "execution_count": 104
  },
  {
   "metadata": {
    "ExecuteTime": {
     "end_time": "2025-03-12T20:28:17.779351Z",
     "start_time": "2025-03-12T20:28:17.675848Z"
    }
   },
   "cell_type": "code",
   "source": [
    "# hidden activations look good now\n",
    "plt.figure(figsize=(20, 5))\n",
    "plt.subplot(121)\n",
    "plt.hist(h.view(-1).detach().cpu(), bins=50)  # view activations from hidden layer\n",
    "plt.subplot(122)\n",
    "plt.hist(hpreact.view(-1).detach().cpu(), bins=50)  # view pre-activations from hidden layer\n",
    "plt.show()"
   ],
   "id": "f2b27cb69cc60ea7",
   "outputs": [
    {
     "data": {
      "text/plain": [
       "<Figure size 2000x500 with 2 Axes>"
      ],
      "image/png": "[encoded data removed]"
     },
     "metadata": {},
     "output_type": "display_data"
    }
   ],
   "execution_count": 105
  },
  {
   "metadata": {
    "ExecuteTime": {
     "end_time": "2025-03-12T20:27:09.132220Z",
     "start_time": "2025-03-12T20:27:08.846136Z"
    }
   },
   "cell_type": "code",
   "source": [
    "# so far our parameter scaling has been pretty arbitrary\n",
    "#   - i.e. choosing random values like 0.01 and 0.1.\n",
    "# there are more principled ways of initializing our parameters so that we get good results during training.\n",
    "#   - if we play around with different weight scales for a single layer, we see that our input has a certain\n",
    "#     gaussian distribution and that when we pass it through the layer this distribution is scaled (std changes).\n",
    "#   - to get a good weight initialization, we'd like to choose a weight scale that makes the distribution of\n",
    "#     the output roughly equal to the distribution of the input.\n",
    "#   - why is this good? because we want the network to learn the underlying pattern in the input data, not how\n",
    "#     to undo random shifts and scalings of the data because of how the network is defined.\n",
    "W_scale = 1  # not great (delta ~= +2)\n",
    "# W_scale = 5  # bad (delta ~= +15)\n",
    "# W_scale = 0.001  # bad (delta ~= -0.995)\n",
    "# W_scale = 1 / 10**0.5  # good (delta ~= +0.014)\n",
    "\n",
    "x = torch.randn(1000, 10)\n",
    "W = torch.randn(10, 200) * W_scale\n",
    "y = x @ W\n",
    "print(\"mean:\", x.mean().item(), \"std:\", x.std().item())\n",
    "print(\"mean:\", y.mean().item(), \"std:\", y.std().item())\n",
    "print(\"Δstd:\", y.std().item() - x.std().item())\n",
    "\n",
    "plt.figure(figsize=(20, 5))\n",
    "plt.subplot(121)\n",
    "plt.hist(x.view(-1).tolist(), 50, density=True)\n",
    "plt.subplot(122)\n",
    "plt.hist(y.view(-1).tolist(), 50, density=True)\n",
    "plt.show()"
   ],
   "id": "94986ba5414aa1c3",
   "outputs": [
    {
     "name": "stdout",
     "output_type": "stream",
     "text": [
      "mean: 0.004041876178234816 std: 1.0046114921569824\n",
      "mean: 0.0012269520666450262 std: 3.224067211151123\n",
      "Δstd: 2.2194557189941406\n"
     ]
    },
    {
     "data": {
      "text/plain": [
       "<Figure size 2000x500 with 2 Axes>"
      ],
      "image/png": "[encoded data removed]"
     },
     "metadata": {},
     "output_type": "display_data"
    }
   ],
   "execution_count": 103
  },
  {
   "metadata": {
    "ExecuteTime": {
     "end_time": "2025-03-12T20:40:01.148328Z",
     "start_time": "2025-03-12T20:40:01.140765Z"
    }
   },
   "cell_type": "code",
   "source": [
    "# There are many other ways to initialize our parameters!\n",
    "\n",
    "# for the following examples:\n",
    "#   - `U` is a uniform distribution\n",
    "#   - `N` is a normal (gaussian) distribution\n",
    "#   - `fan_in` is the count of input features\n",
    "#   - `fan_out` is the count of output features\n",
    "#   - `gain` is a constant that depends on the type of nonlinearity we are working with and appropriately scales\n",
    "#      the probability distribution of the output through the nonlinearity such that it matches the distribution\n",
    "#      of the input (more info: https://pytorch.org/docs/stable/nn.init.html#torch.nn.init.calculate_gain).\n",
    "\n",
    "# examples of other initialization strategies:\n",
    "#   - pytorch initializes parameters with values in the range `U(−k, k)`, where `k = sqrt(1 / fan_in)`.\n",
    "#   - \"xavier initialization\" is described in \"Understanding the difficulty of training deep feedforward neural networks\"\n",
    "#     - in pytorch, it's implemented as torch::nn::init::xavier_uniform_ and  torch::nn::init::xavier_normal_\n",
    "#     - uniform xavier: `U(-k, k)`, where `k = gain * sqrt(6 / (fan_in + fan_out))`\n",
    "#     - normal xavier: `N(0, std^2)`, where `std = gain * sqrt(2 / (fan_in + fan_out))`\n",
    "#   - \"kaiming initialization\" is described in \"Delving Deep into Rectifiers\"\n",
    "#     - in pytorch, it's implemented as torch::nn::init::kaiming_uniform_ and torch::nn::init::kaiming_normal_\n",
    "#     - uniform kaiming: `U(-k, k)`, where `k = gain * sqrt(3 / fan_in)``\n",
    "#     - normal kaiming: `N(0, std^2)`, where `std = gain * sqrt(1 / fan_in)\n",
    "\n",
    "# we can implement the various types of initialization we discussed above.\n",
    "# now, we avoid having to use arbitrary values while still getting a reasonable initialization.\n",
    "\n",
    "tanh_gain = 5 / 3\n",
    "C  = torch.randn((vocab_size, n_embd),            generator=g)\n",
    "W1 = torch.randn((n_embd * block_size, n_hidden), generator=g) * tanh_gain / (n_embd * block_size)**0.5  # kaiming_normal\n",
    "b1 = torch.rand(n_hidden,                         generator=g) / n_hidden**0.5  # pytorch uniform init\n",
    "W2 = torch.randn((n_hidden, vocab_size),          generator=g) * (2 / (n_hidden + vocab_size))**0.5  # xavier_normal\n",
    "b2 = torch.rand(vocab_size,                       generator=g) / vocab_size**0.5  # pytorch uniform init\n",
    "\n",
    "parameters = [C, W1, b1, W2, b2]\n",
    "print(sum(p.nelement() for p in parameters)) # number of parameters in total\n",
    "for p in parameters:\n",
    "  p.requires_grad = True\n",
    "\n",
    "step()  # initial loss is much better now"
   ],
   "id": "431f6e1496fa3f72",
   "outputs": [
    {
     "name": "stdout",
     "output_type": "stream",
     "text": [
      "11897\n",
      "      0/ 200000: 3.9386\n"
     ]
    }
   ],
   "execution_count": 115
  },
  {
   "metadata": {
    "ExecuteTime": {
     "end_time": "2025-03-12T20:48:00.500281Z",
     "start_time": "2025-03-12T20:42:29.162783Z"
    }
   },
   "cell_type": "code",
   "source": [
    "# let's fully train the network with our new weight initialization\n",
    "max_steps = 200000\n",
    "batch_size = 32\n",
    "lossi = []\n",
    "\n",
    "def step(epoch=0):\n",
    "  # minibatch construct\n",
    "  ix = torch.randint(0, Xtr.shape[0], (batch_size,), generator=g)\n",
    "  Xb, Yb = Xtr[ix], Ytr[ix] # batch X,Y\n",
    "\n",
    "  # forward pass\n",
    "  emb = C[Xb] # embed the characters into vectors\n",
    "  embcat = emb.view(emb.shape[0], -1) # concatenate the vectors\n",
    "  hpreact = embcat @ W1 + b1 # hidden layer pre-activation\n",
    "  h = torch.tanh(hpreact) # hidden layer\n",
    "  logits = h @ W2 + b2 # output layer\n",
    "  loss = F.cross_entropy(logits, Yb) # loss function\n",
    "\n",
    "  # backward pass\n",
    "  for p in parameters:\n",
    "    p.grad = None\n",
    "  loss.backward()\n",
    "\n",
    "  # update\n",
    "  lr = 0.1 if epoch < 100000 else 0.01 # step learning rate decay\n",
    "  for p in parameters:\n",
    "    p.data += -lr * p.grad\n",
    "\n",
    "  # track stats\n",
    "  if epoch % 10000 == 0: # print every once in a while\n",
    "    print(f'{epoch:7d}/{max_steps:7d}: {loss.item():.4f}')\n",
    "  lossi.append(loss.log10().item())\n",
    "\n",
    "for epoch in range(max_steps):\n",
    "    step(epoch)"
   ],
   "id": "a8442076c441b179",
   "outputs": [
    {
     "name": "stdout",
     "output_type": "stream",
     "text": [
      "      0/ 200000: 3.3687\n",
      "  10000/ 200000: 2.4263\n",
      "  20000/ 200000: 1.8829\n",
      "  30000/ 200000: 2.3739\n",
      "  40000/ 200000: 1.9959\n",
      "  50000/ 200000: 2.6068\n",
      "  60000/ 200000: 2.2509\n",
      "  70000/ 200000: 2.1183\n",
      "  80000/ 200000: 2.0860\n",
      "  90000/ 200000: 1.7825\n",
      " 100000/ 200000: 2.0837\n",
      " 110000/ 200000: 1.6492\n",
      " 120000/ 200000: 1.6562\n",
      " 130000/ 200000: 1.6278\n",
      " 140000/ 200000: 2.1015\n",
      " 150000/ 200000: 2.1038\n",
      " 160000/ 200000: 1.6219\n",
      " 170000/ 200000: 2.0074\n",
      " 180000/ 200000: 2.0858\n",
      " 190000/ 200000: 1.8780\n"
     ]
    }
   ],
   "execution_count": 116
  },
  {
   "metadata": {
    "ExecuteTime": {
     "end_time": "2025-03-12T20:48:01.079404Z",
     "start_time": "2025-03-12T20:48:00.753998Z"
    }
   },
   "cell_type": "code",
   "source": [
    "# plot the loss over time\n",
    "plt.plot(lossi)"
   ],
   "id": "333f3047678d9689",
   "outputs": [
    {
     "data": {
      "text/plain": [
       "[<matplotlib.lines.Line2D at 0x168799310>]"
      ]
     },
     "execution_count": 117,
     "metadata": {},
     "output_type": "execute_result"
    },
    {
     "data": {
      "text/plain": [
       "<Figure size 640x480 with 1 Axes>"
      ],
      "image/png": "[encoded data removed]"
     },
     "metadata": {},
     "output_type": "display_data"
    }
   ],
   "execution_count": 117
  },
  {
   "metadata": {
    "ExecuteTime": {
     "end_time": "2025-03-12T20:48:03.380930Z",
     "start_time": "2025-03-12T20:48:03.327634Z"
    }
   },
   "cell_type": "code",
   "source": [
    "# evaluate train loss and validation loss\n",
    "@torch.no_grad() # this decorator disables gradient tracking\n",
    "def split_loss(split):\n",
    "  x, y = {\n",
    "    'train': (Xtr, Ytr),\n",
    "    'val': (Xdev, Ydev),\n",
    "    'test': (Xte, Yte),\n",
    "  }[split]\n",
    "  emb = C[x] # (N, block_size, n_embd)\n",
    "  embcat = emb.view(emb.shape[0], -1) # concat into (N, block_size * n_embd)\n",
    "  hpreact = embcat @ W1 + b1\n",
    "  h = torch.tanh(hpreact) # (N, n_hidden)\n",
    "  logits = h @ W2 + b2 # (N, vocab_size)\n",
    "  loss = F.cross_entropy(logits, y)\n",
    "  print(split, loss.item())\n",
    "\n",
    "split_loss('train')\n",
    "split_loss('val')\n",
    "\n",
    "# awesome! our validation loss before was 2.2065, and now it's 2.1053.\n",
    "# just by changing how we initialize our parameters, the model is performing better."
   ],
   "id": "d23eb0930a5001c3",
   "outputs": [
    {
     "name": "stdout",
     "output_type": "stream",
     "text": [
      "train 2.040064573287964\n",
      "val 2.1053202152252197\n"
     ]
    }
   ],
   "execution_count": 119
  }
 ],
 "metadata": {
  "kernelspec": {
   "display_name": "Python 3",
   "language": "python",
   "name": "python3"
  },
  "language_info": {
   "codemirror_mode": {
    "name": "ipython",
    "version": 2
   },
   "file_extension": ".py",
   "mimetype": "text/x-python",
   "name": "python",
   "nbconvert_exporter": "python",
   "pygments_lexer": "ipython2",
   "version": "2.7.6"
  }
 },
 "nbformat": 4,
 "nbformat_minor": 5
}
