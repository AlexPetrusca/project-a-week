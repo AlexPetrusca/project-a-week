{
 "cells": [
  {
   "metadata": {
    "ExecuteTime": {
     "end_time": "2025-03-14T07:54:19.143398Z",
     "start_time": "2025-03-14T07:54:18.453106Z"
    }
   },
   "cell_type": "code",
   "source": [
    "# let's fucking build GPT I guess!\n",
    "#   - starting by going all the way back to the bigram lookup table model...\n",
    "import torch\n",
    "import torch.nn as nn\n",
    "from torch.nn import functional as F\n",
    "torch.set_default_device(\"mps\")  # use gpu\n",
    "torch.manual_seed(1337)  # seed for reproducibility"
   ],
   "id": "642f9d8e689a4f01",
   "outputs": [
    {
     "data": {
      "text/plain": [
       "<torch._C.Generator at 0x1160b5f70>"
      ]
     },
     "execution_count": 1,
     "metadata": {},
     "output_type": "execute_result"
    }
   ],
   "execution_count": 1
  },
  {
   "metadata": {
    "ExecuteTime": {
     "end_time": "2025-03-14T07:54:19.150017Z",
     "start_time": "2025-03-14T07:54:19.147024Z"
    }
   },
   "cell_type": "code",
   "source": [
    "# read tinyshakespeare dataset\n",
    "with open('../res/tinyshakespeare.txt', 'r', encoding='utf-8') as f:\n",
    "    text = f.read()\n",
    "print(text[:999])\n",
    "print(\"length of dataset in characters: \", len(text))"
   ],
   "id": "initial_id",
   "outputs": [
    {
     "name": "stdout",
     "output_type": "stream",
     "text": [
      "First Citizen:\n",
      "Before we proceed any further, hear me speak.\n",
      "\n",
      "All:\n",
      "Speak, speak.\n",
      "\n",
      "First Citizen:\n",
      "You are all resolved rather to die than to famish?\n",
      "\n",
      "All:\n",
      "Resolved. resolved.\n",
      "\n",
      "First Citizen:\n",
      "First, you know Caius Marcius is chief enemy to the people.\n",
      "\n",
      "All:\n",
      "We know't, we know't.\n",
      "\n",
      "First Citizen:\n",
      "Let us kill him, and we'll have corn at our own price.\n",
      "Is't a verdict?\n",
      "\n",
      "All:\n",
      "No more talking on't; let it be done: away, away!\n",
      "\n",
      "Second Citizen:\n",
      "One word, good citizens.\n",
      "\n",
      "First Citizen:\n",
      "We are accounted poor citizens, the patricians good.\n",
      "What authority surfeits on would relieve us: if they\n",
      "would yield us but the superfluity, while it were\n",
      "wholesome, we might guess they relieved us humanely;\n",
      "but they think we are too dear: the leanness that\n",
      "afflicts us, the object of our misery, is as an\n",
      "inventory to particularise their abundance; our\n",
      "sufferance is a gain to them Let us revenge this with\n",
      "our pikes, ere we become rakes: for the gods know I\n",
      "speak this in hunger for bread, not in thirst for revenge.\n",
      "\n",
      "length of dataset in characters:  1115394\n"
     ]
    }
   ],
   "execution_count": 2
  },
  {
   "metadata": {
    "ExecuteTime": {
     "end_time": "2025-03-14T07:54:19.203663Z",
     "start_time": "2025-03-14T07:54:19.194828Z"
    }
   },
   "cell_type": "code",
   "source": [
    "# here are all the unique characters that occur in this text\n",
    "chars = sorted(list(set(text)))\n",
    "vocab_size = len(chars)\n",
    "print(''.join(chars))\n",
    "print(vocab_size)"
   ],
   "id": "84dbd7b58f950d1a",
   "outputs": [
    {
     "name": "stdout",
     "output_type": "stream",
     "text": [
      "\n",
      " !$&',-.3:;?ABCDEFGHIJKLMNOPQRSTUVWXYZabcdefghijklmnopqrstuvwxyz\n",
      "65\n"
     ]
    }
   ],
   "execution_count": 3
  },
  {
   "metadata": {
    "ExecuteTime": {
     "end_time": "2025-03-14T07:54:19.212805Z",
     "start_time": "2025-03-14T07:54:19.210591Z"
    }
   },
   "cell_type": "code",
   "source": [
    "# create a mapping from characters to integers\n",
    "stoi = { ch:i for i,ch in enumerate(chars) }\n",
    "itos = { i:ch for i,ch in enumerate(chars) }\n",
    "encode = lambda s: [stoi[c] for c in s] # encode: take a string, output a list of integers\n",
    "decode = lambda l: ''.join([itos[i] for i in l]) # decode: take a list of integers, output a string\n",
    "\n",
    "print(encode(\"hii there\"))\n",
    "print(decode(encode(\"hii there\")))"
   ],
   "id": "2d3038b200c1ff70",
   "outputs": [
    {
     "name": "stdout",
     "output_type": "stream",
     "text": [
      "[46, 47, 47, 1, 58, 46, 43, 56, 43]\n",
      "hii there\n"
     ]
    }
   ],
   "execution_count": 4
  },
  {
   "metadata": {
    "ExecuteTime": {
     "end_time": "2025-03-14T07:54:19.223631Z",
     "start_time": "2025-03-14T07:54:19.222144Z"
    }
   },
   "cell_type": "code",
   "source": [
    "# it's worth understanding how LLMs perform tokenization:\n",
    "#   - GPTs use Byte Pair Encoding (BPE) implementations (Google's SentencePiece, OpenAi's TikToken, etc.)\n",
    "#   - BPE produces a vocabulary of tokens that can be whole words (like \"the\"), parts of words (like \"ing\"),\n",
    "#     or even single characters, depending on what’s common in the data.\n",
    "#   - it's clever because it handles rare words by breaking them into smaller chunks (like \"unhappiness\" →\n",
    "#     \"un\" + \"hap\" + \"pi\" + \"ness\") and keeps frequent stuff compact.\n",
    "#       - you can play around with tiktoken to see for yourself (either locally via pip install or online)"
   ],
   "id": "3e9fcc11697f5ff5",
   "outputs": [],
   "execution_count": 5
  },
  {
   "metadata": {
    "ExecuteTime": {
     "end_time": "2025-03-14T07:54:19.446758Z",
     "start_time": "2025-03-14T07:54:19.233711Z"
    }
   },
   "cell_type": "code",
   "source": [
    "# let's now encode the entire text dataset and store it into a torch.Tensor\n",
    "data = torch.tensor(encode(text), dtype=torch.long)\n",
    "print(data[:1000]) # the 1000 characters we looked at earier will to the GPT look like this\n",
    "print(data.shape, data.dtype)"
   ],
   "id": "4f2a1eb0efdc4b95",
   "outputs": [
    {
     "name": "stdout",
     "output_type": "stream",
     "text": [
      "tensor([18, 47, 56, 57, 58,  1, 15, 47, 58, 47, 64, 43, 52, 10,  0, 14, 43, 44,\n",
      "        53, 56, 43,  1, 61, 43,  1, 54, 56, 53, 41, 43, 43, 42,  1, 39, 52, 63,\n",
      "         1, 44, 59, 56, 58, 46, 43, 56,  6,  1, 46, 43, 39, 56,  1, 51, 43,  1,\n",
      "        57, 54, 43, 39, 49,  8,  0,  0, 13, 50, 50, 10,  0, 31, 54, 43, 39, 49,\n",
      "         6,  1, 57, 54, 43, 39, 49,  8,  0,  0, 18, 47, 56, 57, 58,  1, 15, 47,\n",
      "        58, 47, 64, 43, 52, 10,  0, 37, 53, 59,  1, 39, 56, 43,  1, 39, 50, 50,\n",
      "         1, 56, 43, 57, 53, 50, 60, 43, 42,  1, 56, 39, 58, 46, 43, 56,  1, 58,\n",
      "        53,  1, 42, 47, 43,  1, 58, 46, 39, 52,  1, 58, 53,  1, 44, 39, 51, 47,\n",
      "        57, 46, 12,  0,  0, 13, 50, 50, 10,  0, 30, 43, 57, 53, 50, 60, 43, 42,\n",
      "         8,  1, 56, 43, 57, 53, 50, 60, 43, 42,  8,  0,  0, 18, 47, 56, 57, 58,\n",
      "         1, 15, 47, 58, 47, 64, 43, 52, 10,  0, 18, 47, 56, 57, 58,  6,  1, 63,\n",
      "        53, 59,  1, 49, 52, 53, 61,  1, 15, 39, 47, 59, 57,  1, 25, 39, 56, 41,\n",
      "        47, 59, 57,  1, 47, 57,  1, 41, 46, 47, 43, 44,  1, 43, 52, 43, 51, 63,\n",
      "         1, 58, 53,  1, 58, 46, 43,  1, 54, 43, 53, 54, 50, 43,  8,  0,  0, 13,\n",
      "        50, 50, 10,  0, 35, 43,  1, 49, 52, 53, 61,  5, 58,  6,  1, 61, 43,  1,\n",
      "        49, 52, 53, 61,  5, 58,  8,  0,  0, 18, 47, 56, 57, 58,  1, 15, 47, 58,\n",
      "        47, 64, 43, 52, 10,  0, 24, 43, 58,  1, 59, 57,  1, 49, 47, 50, 50,  1,\n",
      "        46, 47, 51,  6,  1, 39, 52, 42,  1, 61, 43,  5, 50, 50,  1, 46, 39, 60,\n",
      "        43,  1, 41, 53, 56, 52,  1, 39, 58,  1, 53, 59, 56,  1, 53, 61, 52,  1,\n",
      "        54, 56, 47, 41, 43,  8,  0, 21, 57,  5, 58,  1, 39,  1, 60, 43, 56, 42,\n",
      "        47, 41, 58, 12,  0,  0, 13, 50, 50, 10,  0, 26, 53,  1, 51, 53, 56, 43,\n",
      "         1, 58, 39, 50, 49, 47, 52, 45,  1, 53, 52,  5, 58, 11,  1, 50, 43, 58,\n",
      "         1, 47, 58,  1, 40, 43,  1, 42, 53, 52, 43, 10,  1, 39, 61, 39, 63,  6,\n",
      "         1, 39, 61, 39, 63,  2,  0,  0, 31, 43, 41, 53, 52, 42,  1, 15, 47, 58,\n",
      "        47, 64, 43, 52, 10,  0, 27, 52, 43,  1, 61, 53, 56, 42,  6,  1, 45, 53,\n",
      "        53, 42,  1, 41, 47, 58, 47, 64, 43, 52, 57,  8,  0,  0, 18, 47, 56, 57,\n",
      "        58,  1, 15, 47, 58, 47, 64, 43, 52, 10,  0, 35, 43,  1, 39, 56, 43,  1,\n",
      "        39, 41, 41, 53, 59, 52, 58, 43, 42,  1, 54, 53, 53, 56,  1, 41, 47, 58,\n",
      "        47, 64, 43, 52, 57,  6,  1, 58, 46, 43,  1, 54, 39, 58, 56, 47, 41, 47,\n",
      "        39, 52, 57,  1, 45, 53, 53, 42,  8,  0, 35, 46, 39, 58,  1, 39, 59, 58,\n",
      "        46, 53, 56, 47, 58, 63,  1, 57, 59, 56, 44, 43, 47, 58, 57,  1, 53, 52,\n",
      "         1, 61, 53, 59, 50, 42,  1, 56, 43, 50, 47, 43, 60, 43,  1, 59, 57, 10,\n",
      "         1, 47, 44,  1, 58, 46, 43, 63,  0, 61, 53, 59, 50, 42,  1, 63, 47, 43,\n",
      "        50, 42,  1, 59, 57,  1, 40, 59, 58,  1, 58, 46, 43,  1, 57, 59, 54, 43,\n",
      "        56, 44, 50, 59, 47, 58, 63,  6,  1, 61, 46, 47, 50, 43,  1, 47, 58,  1,\n",
      "        61, 43, 56, 43,  0, 61, 46, 53, 50, 43, 57, 53, 51, 43,  6,  1, 61, 43,\n",
      "         1, 51, 47, 45, 46, 58,  1, 45, 59, 43, 57, 57,  1, 58, 46, 43, 63,  1,\n",
      "        56, 43, 50, 47, 43, 60, 43, 42,  1, 59, 57,  1, 46, 59, 51, 39, 52, 43,\n",
      "        50, 63, 11,  0, 40, 59, 58,  1, 58, 46, 43, 63,  1, 58, 46, 47, 52, 49,\n",
      "         1, 61, 43,  1, 39, 56, 43,  1, 58, 53, 53,  1, 42, 43, 39, 56, 10,  1,\n",
      "        58, 46, 43,  1, 50, 43, 39, 52, 52, 43, 57, 57,  1, 58, 46, 39, 58,  0,\n",
      "        39, 44, 44, 50, 47, 41, 58, 57,  1, 59, 57,  6,  1, 58, 46, 43,  1, 53,\n",
      "        40, 48, 43, 41, 58,  1, 53, 44,  1, 53, 59, 56,  1, 51, 47, 57, 43, 56,\n",
      "        63,  6,  1, 47, 57,  1, 39, 57,  1, 39, 52,  0, 47, 52, 60, 43, 52, 58,\n",
      "        53, 56, 63,  1, 58, 53,  1, 54, 39, 56, 58, 47, 41, 59, 50, 39, 56, 47,\n",
      "        57, 43,  1, 58, 46, 43, 47, 56,  1, 39, 40, 59, 52, 42, 39, 52, 41, 43,\n",
      "        11,  1, 53, 59, 56,  0, 57, 59, 44, 44, 43, 56, 39, 52, 41, 43,  1, 47,\n",
      "        57,  1, 39,  1, 45, 39, 47, 52,  1, 58, 53,  1, 58, 46, 43, 51,  1, 24,\n",
      "        43, 58,  1, 59, 57,  1, 56, 43, 60, 43, 52, 45, 43,  1, 58, 46, 47, 57,\n",
      "         1, 61, 47, 58, 46,  0, 53, 59, 56,  1, 54, 47, 49, 43, 57,  6,  1, 43,\n",
      "        56, 43,  1, 61, 43,  1, 40, 43, 41, 53, 51, 43,  1, 56, 39, 49, 43, 57,\n",
      "        10,  1, 44, 53, 56,  1, 58, 46, 43,  1, 45, 53, 42, 57,  1, 49, 52, 53,\n",
      "        61,  1, 21,  0, 57, 54, 43, 39, 49,  1, 58, 46, 47, 57,  1, 47, 52,  1,\n",
      "        46, 59, 52, 45, 43, 56,  1, 44, 53, 56,  1, 40, 56, 43, 39, 42,  6,  1,\n",
      "        52, 53, 58,  1, 47, 52,  1, 58, 46, 47, 56, 57, 58,  1, 44, 53, 56,  1,\n",
      "        56, 43, 60, 43, 52, 45, 43,  8,  0,  0], device='mps:0')\n",
      "torch.Size([1115394]) torch.int64\n"
     ]
    }
   ],
   "execution_count": 6
  },
  {
   "metadata": {
    "ExecuteTime": {
     "end_time": "2025-03-14T07:54:19.468807Z",
     "start_time": "2025-03-14T07:54:19.466767Z"
    }
   },
   "cell_type": "code",
   "source": [
    "# let's now split up the data into train and validation sets\n",
    "n = int(0.9*len(data)) # first 90% will be train, rest val\n",
    "train_data = data[:n]\n",
    "val_data = data[n:]"
   ],
   "id": "4b1f1754a57c1e9",
   "outputs": [],
   "execution_count": 7
  },
  {
   "metadata": {
    "ExecuteTime": {
     "end_time": "2025-03-14T07:54:19.480210Z",
     "start_time": "2025-03-14T07:54:19.476759Z"
    }
   },
   "cell_type": "code",
   "source": [
    "# Ex. single data \"chunk\": 8 tokens of context, 1 token to predict.\n",
    "#   - the job of the model is to predict the next token given the context.\n",
    "block_size = 8\n",
    "print(train_data[:block_size+1])\n",
    "print(train_data[:block_size+1].shape)"
   ],
   "id": "9c1f838d8494f2b8",
   "outputs": [
    {
     "name": "stdout",
     "output_type": "stream",
     "text": [
      "tensor([18, 47, 56, 57, 58,  1, 15, 47, 58], device='mps:0')\n",
      "torch.Size([9])\n"
     ]
    }
   ],
   "execution_count": 8
  },
  {
   "metadata": {
    "ExecuteTime": {
     "end_time": "2025-03-14T07:54:19.498999Z",
     "start_time": "2025-03-14T07:54:19.488372Z"
    }
   },
   "cell_type": "code",
   "source": [
    "# Ex. we actually have 8 training samples in this chunk\n",
    "#   - for every token `t` (besides the first), use the previous tokens as the context to predict `t`.\n",
    "#   - our model can be trained to predict on all of these (i.e. make it learn variable context sizes).\n",
    "x = train_data[:block_size]\n",
    "y = train_data[1:block_size+1]\n",
    "for t in range(block_size):\n",
    "    context = x[:t+1]\n",
    "    target = y[t]\n",
    "    print(f\"Ex{t+1}. when input is {context} the target is: {target}\")"
   ],
   "id": "507a92d0e8bd6351",
   "outputs": [
    {
     "name": "stdout",
     "output_type": "stream",
     "text": [
      "Ex1. when input is tensor([18], device='mps:0') the target is: 47\n",
      "Ex2. when input is tensor([18, 47], device='mps:0') the target is: 56\n",
      "Ex3. when input is tensor([18, 47, 56], device='mps:0') the target is: 57\n",
      "Ex4. when input is tensor([18, 47, 56, 57], device='mps:0') the target is: 58\n",
      "Ex5. when input is tensor([18, 47, 56, 57, 58], device='mps:0') the target is: 1\n",
      "Ex6. when input is tensor([18, 47, 56, 57, 58,  1], device='mps:0') the target is: 15\n",
      "Ex7. when input is tensor([18, 47, 56, 57, 58,  1, 15], device='mps:0') the target is: 47\n",
      "Ex8. when input is tensor([18, 47, 56, 57, 58,  1, 15, 47], device='mps:0') the target is: 58\n"
     ]
    }
   ],
   "execution_count": 9
  },
  {
   "metadata": {
    "ExecuteTime": {
     "end_time": "2025-03-14T07:54:19.546410Z",
     "start_time": "2025-03-14T07:54:19.512649Z"
    }
   },
   "cell_type": "code",
   "source": [
    "# create batches of data (inputs + targets) from either the train or validation set\n",
    "#   - inputs will have shape (B,T) i.e. batch x time\n",
    "#   - targets will also have shape (B,T) i.e. batch x time\n",
    "#   - training objective: model(inputs[i, :j+1]) = targets[i, j])\n",
    "# pretty nice, compact representation!\n",
    "batch_size = 4 # how many independent sequences will we process in parallel?\n",
    "block_size = 8 # what is the maximum context length for predictions?\n",
    "\n",
    "def get_batch(split):\n",
    "    # generate a small batch of data of inputs x and targets y\n",
    "    data = train_data if split == 'train' else val_data\n",
    "    ix = torch.randint(len(data) - block_size, (batch_size,))\n",
    "    x = torch.stack([data[i:i+block_size] for i in ix])\n",
    "    y = torch.stack([data[i+1:i+block_size+1] for i in ix])\n",
    "    return x, y\n",
    "\n",
    "xb, yb = get_batch('train')\n",
    "print('inputs:')\n",
    "print(xb.shape)\n",
    "print(xb)\n",
    "print('targets:')\n",
    "print(yb.shape)\n",
    "print(yb)\n",
    "\n",
    "print('----')\n",
    "\n",
    "for b in range(batch_size): # batch dimension\n",
    "    for t in range(block_size): # time dimension\n",
    "        context = xb[b, :t+1]\n",
    "        target = yb[b,t]\n",
    "        print(f\"when input is {context.tolist()} the target: {target}\")"
   ],
   "id": "5fda68a17330dc2b",
   "outputs": [
    {
     "name": "stdout",
     "output_type": "stream",
     "text": [
      "inputs:\n",
      "torch.Size([4, 8])\n",
      "tensor([[ 0, 32, 53,  1, 41, 39, 56, 60],\n",
      "        [40, 50, 43, 57,  6,  1, 61, 46],\n",
      "        [ 1, 54, 39, 58, 47, 43, 52, 41],\n",
      "        [63,  1, 57, 61, 53, 56, 42,  6]], device='mps:0')\n",
      "targets:\n",
      "torch.Size([4, 8])\n",
      "tensor([[32, 53,  1, 41, 39, 56, 60, 43],\n",
      "        [50, 43, 57,  6,  1, 61, 46, 53],\n",
      "        [54, 39, 58, 47, 43, 52, 41, 43],\n",
      "        [ 1, 57, 61, 53, 56, 42,  6,  1]], device='mps:0')\n",
      "----\n",
      "when input is [0] the target: 32\n",
      "when input is [0, 32] the target: 53\n",
      "when input is [0, 32, 53] the target: 1\n",
      "when input is [0, 32, 53, 1] the target: 41\n",
      "when input is [0, 32, 53, 1, 41] the target: 39\n",
      "when input is [0, 32, 53, 1, 41, 39] the target: 56\n",
      "when input is [0, 32, 53, 1, 41, 39, 56] the target: 60\n",
      "when input is [0, 32, 53, 1, 41, 39, 56, 60] the target: 43\n",
      "when input is [40] the target: 50\n",
      "when input is [40, 50] the target: 43\n",
      "when input is [40, 50, 43] the target: 57\n",
      "when input is [40, 50, 43, 57] the target: 6\n",
      "when input is [40, 50, 43, 57, 6] the target: 1\n",
      "when input is [40, 50, 43, 57, 6, 1] the target: 61\n",
      "when input is [40, 50, 43, 57, 6, 1, 61] the target: 46\n",
      "when input is [40, 50, 43, 57, 6, 1, 61, 46] the target: 53\n",
      "when input is [1] the target: 54\n",
      "when input is [1, 54] the target: 39\n",
      "when input is [1, 54, 39] the target: 58\n",
      "when input is [1, 54, 39, 58] the target: 47\n",
      "when input is [1, 54, 39, 58, 47] the target: 43\n",
      "when input is [1, 54, 39, 58, 47, 43] the target: 52\n",
      "when input is [1, 54, 39, 58, 47, 43, 52] the target: 41\n",
      "when input is [1, 54, 39, 58, 47, 43, 52, 41] the target: 43\n",
      "when input is [63] the target: 1\n",
      "when input is [63, 1] the target: 57\n",
      "when input is [63, 1, 57] the target: 61\n",
      "when input is [63, 1, 57, 61] the target: 53\n",
      "when input is [63, 1, 57, 61, 53] the target: 56\n",
      "when input is [63, 1, 57, 61, 53, 56] the target: 42\n",
      "when input is [63, 1, 57, 61, 53, 56, 42] the target: 6\n",
      "when input is [63, 1, 57, 61, 53, 56, 42, 6] the target: 1\n"
     ]
    }
   ],
   "execution_count": 10
  },
  {
   "metadata": {
    "ExecuteTime": {
     "end_time": "2025-03-14T07:54:20.064254Z",
     "start_time": "2025-03-14T07:54:19.567860Z"
    }
   },
   "cell_type": "code",
   "source": [
    "# build a bigram language model, exactly the same as what we made in makemore p1\n",
    "#   - see p1_1_bigram_neural_network.ipynb\n",
    "class BigramLanguageModel(nn.Module):\n",
    "\n",
    "    def __init__(self, vocab_size):\n",
    "        super().__init__()\n",
    "        # each token directly reads off the logits for the next token from a lookup table\n",
    "        self.token_embedding_table = nn.Embedding(vocab_size, vocab_size)\n",
    "\n",
    "    def forward(self, idx, targets=None):\n",
    "\n",
    "        # idx and targets are both (B,T) tensor of integers\n",
    "        #   - logit takes shape (B,T,C) i.e. batch x time x channel\n",
    "        #   - batch indexes over the samples, time indexes over the tokens (context) in each\n",
    "        #     sample, and channel indexes into the embedding vector of each token.\n",
    "        logits = self.token_embedding_table(idx) # (B,T,C)\n",
    "\n",
    "        if targets is None:\n",
    "            loss = None\n",
    "        else:\n",
    "            B, T, C = logits.shape\n",
    "            loss = F.cross_entropy(logits.view(B*T, C), targets.view(B*T))\n",
    "\n",
    "        return logits, loss\n",
    "\n",
    "    def generate(self, idx, max_new_tokens):\n",
    "        # idx is (B, T) array of indices in the current context\n",
    "        for _ in range(max_new_tokens):\n",
    "            # get the predictions\n",
    "            logits, loss = self(idx)\n",
    "            # focus only on the last time step\n",
    "            logits = logits[:, -1, :] # becomes (B, C)\n",
    "            # apply softmax to get probabilities\n",
    "            probs = F.softmax(logits, dim=-1) # (B, C)\n",
    "            # sample from the distribution\n",
    "            idx_next = torch.multinomial(probs, num_samples=1) # (B, 1)\n",
    "            # append sampled index to the running sequence\n",
    "            idx = torch.cat((idx, idx_next), dim=1) # (B, T+1)\n",
    "        return idx\n",
    "\n",
    "m = BigramLanguageModel(vocab_size)\n",
    "logits, loss = m(xb, yb)\n",
    "print(logits.shape)\n",
    "print(loss)\n",
    "\n",
    "print(decode(m.generate(idx = torch.zeros((1, 1), dtype=torch.long), max_new_tokens=100)[0].tolist()))"
   ],
   "id": "5892055708d7dff2",
   "outputs": [
    {
     "name": "stdout",
     "output_type": "stream",
     "text": [
      "torch.Size([4, 8, 65])\n",
      "tensor(4.7038, device='mps:0', grad_fn=<NllLossBackward0>)\n",
      "\n",
      "aa&3;?MYMxZbEcqEPVQsReN\n",
      "OkuUfZEieMqy:r,--rk,ECOIiZeJtEjn?u\n",
      ";JurYhM'eTAwyFXPhjCTg&qof!zAZrFoBlyL:cL&P\n"
     ]
    }
   ],
   "execution_count": 11
  },
  {
   "metadata": {
    "ExecuteTime": {
     "end_time": "2025-03-14T07:54:20.694232Z",
     "start_time": "2025-03-14T07:54:20.162172Z"
    }
   },
   "cell_type": "code",
   "source": [
    "# create an optimizer (we need to use this shitty hack - https://github.com/pytorch/pytorch/issues/149184)\n",
    "torch.set_default_device(\"cpu\")  # use cpu for a bit\n",
    "optimizer = torch.optim.AdamW(m.parameters(), lr=1e-2)\n",
    "torch.set_default_device(\"mps\")  # go back to gpu"
   ],
   "id": "f6f4f34f7d93562b",
   "outputs": [],
   "execution_count": 12
  },
  {
   "metadata": {
    "ExecuteTime": {
     "end_time": "2025-03-14T07:54:43.064188Z",
     "start_time": "2025-03-14T07:54:20.752985Z"
    }
   },
   "cell_type": "code",
   "source": [
    "# train the bigram model\n",
    "batch_size = 32\n",
    "for steps in range(1000): # increase number of steps for good results...\n",
    "\n",
    "    # sample a batch of data\n",
    "    xb, yb = get_batch('train')\n",
    "\n",
    "    # evaluate the loss\n",
    "    logits, loss = m(xb, yb)\n",
    "    optimizer.zero_grad(set_to_none=True)\n",
    "    loss.backward()\n",
    "    optimizer.step()\n",
    "\n",
    "print(loss.item())"
   ],
   "id": "9b5f974b4e2bfc25",
   "outputs": [
    {
     "name": "stdout",
     "output_type": "stream",
     "text": [
      "2.414292573928833\n"
     ]
    }
   ],
   "execution_count": 13
  },
  {
   "metadata": {
    "ExecuteTime": {
     "end_time": "2025-03-14T07:54:45.290861Z",
     "start_time": "2025-03-14T07:54:43.216562Z"
    }
   },
   "cell_type": "code",
   "source": [
    "# let's generate some samples\n",
    "print(decode(m.generate(idx = torch.zeros((1, 1), dtype=torch.long), max_new_tokens=500)[0].tolist()))"
   ],
   "id": "67481c4cde4716bc",
   "outputs": [
    {
     "name": "stdout",
     "output_type": "stream",
     "text": [
      "\n",
      "ORI luje omy heV:\n",
      "O:\n",
      "CELAnr core' venviforo-NT: rsw'll isurendime ilerveMfin?\n",
      "\n",
      "BRI meso otthe pr w o can w'losto h prin hifacom! Soums masan IZBEHARomquchinout ik'sthar: hen rvaiwit, curencer y ve il\n",
      "UERDI to welilearas be mpuresour,\n",
      "\n",
      "Whatte'd aized'?\n",
      "\n",
      "tar acanou tarts afeThopringheware Yowhare fofot foling a ge cr'farmG ce areaw bellathy feldin bard henoslendothecendeang--Gld! oNR buthet, miz! hat 'd:\n",
      "se n woo ff f f PRI d\n",
      "\n",
      "Wheck nuindeeaieet eng nd\n",
      "OLAy hS:\n",
      "\n",
      "Wher mowha INCThe ma!Hiprd s and, y\n"
     ]
    }
   ],
   "execution_count": 14
  }
 ],
 "metadata": {
  "kernelspec": {
   "display_name": "Python 3",
   "language": "python",
   "name": "python3"
  },
  "language_info": {
   "codemirror_mode": {
    "name": "ipython",
    "version": 2
   },
   "file_extension": ".py",
   "mimetype": "text/x-python",
   "name": "python",
   "nbconvert_exporter": "python",
   "pygments_lexer": "ipython2",
   "version": "2.7.6"
  }
 },
 "nbformat": 4,
 "nbformat_minor": 5
}
