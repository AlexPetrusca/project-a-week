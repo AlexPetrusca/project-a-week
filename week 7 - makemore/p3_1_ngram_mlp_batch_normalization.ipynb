{
 "cells": [
  {
   "cell_type": "code",
   "id": "initial_id",
   "metadata": {
    "collapsed": true,
    "ExecuteTime": {
     "end_time": "2025-03-13T04:41:31.161754Z",
     "start_time": "2025-03-13T04:41:30.579145Z"
    }
   },
   "source": [
    "# let's pick up where we left off in ngram_mlp_weight_initialization.\n",
    "import torch\n",
    "import torch.nn.functional as F\n",
    "torch.set_default_device(\"mps\")"
   ],
   "outputs": [],
   "execution_count": 1
  },
  {
   "metadata": {
    "ExecuteTime": {
     "end_time": "2025-03-13T04:41:31.170239Z",
     "start_time": "2025-03-13T04:41:31.165165Z"
    }
   },
   "cell_type": "code",
   "source": [
    "# we need to include some stuff from before.\n",
    "g = torch.Generator(device='mps').manual_seed(2147483647) # for reproducibility\n",
    "# read in all the words\n",
    "words = open('res/names.txt', 'r').read().splitlines()\n",
    "# build the vocabulary of characters and mappings to/from integers\n",
    "chars = sorted(list(set(''.join(words))))\n",
    "stoi = {s:i+1 for i,s in enumerate(chars)}\n",
    "stoi['.'] = 0\n",
    "itos = {i:s for s,i in stoi.items()}\n",
    "vocab_size = len(itos)"
   ],
   "id": "aa34e3d8dcc8514e",
   "outputs": [],
   "execution_count": 2
  },
  {
   "metadata": {
    "ExecuteTime": {
     "end_time": "2025-03-13T04:41:31.443899Z",
     "start_time": "2025-03-13T04:41:31.204484Z"
    }
   },
   "cell_type": "code",
   "source": [
    "# build the dataset\n",
    "block_size = 3 # context length: how many characters do we take to predict the next one?\n",
    "\n",
    "def build_dataset(words):\n",
    "  X, Y = [], []\n",
    "\n",
    "  for w in words:\n",
    "    context = [0] * block_size\n",
    "    for ch in w + '.':\n",
    "      ix = stoi[ch]\n",
    "      X.append(context)\n",
    "      Y.append(ix)\n",
    "      context = context[1:] + [ix] # crop and append\n",
    "\n",
    "  X = torch.tensor(X)\n",
    "  Y = torch.tensor(Y)\n",
    "  return X, Y\n",
    "\n",
    "import random\n",
    "random.seed(42)\n",
    "random.shuffle(words)\n",
    "n1 = int(0.8*len(words))\n",
    "n2 = int(0.9*len(words))\n",
    "\n",
    "Xtr,  Ytr  = build_dataset(words[:n1])     # 80%\n",
    "Xdev, Ydev = build_dataset(words[n1:n2])   # 10%\n",
    "Xte,  Yte  = build_dataset(words[n2:])     # 10%"
   ],
   "id": "88ae6098108726ff",
   "outputs": [],
   "execution_count": 3
  },
  {
   "metadata": {
    "ExecuteTime": {
     "end_time": "2025-03-13T04:41:31.513386Z",
     "start_time": "2025-03-13T04:41:31.488682Z"
    }
   },
   "cell_type": "code",
   "source": [
    "# build the network from last time\n",
    "n_embd = 10 # the dimensionality of the character embedding vectors\n",
    "n_hidden = 200 # the number of neurons in the hidden layer of the MLP\n",
    "\n",
    "tanh_gain = 5 / 3\n",
    "C  = torch.randn((vocab_size, n_embd),            generator=g)\n",
    "W1 = torch.randn((n_embd * block_size, n_hidden), generator=g) * tanh_gain / (n_embd * block_size)**0.5  # kaiming_normal\n",
    "b1 = torch.rand(n_hidden,                         generator=g) / n_hidden**0.5  # pytorch uniform init\n",
    "W2 = torch.randn((n_hidden, vocab_size),          generator=g) * (2 / (n_hidden + vocab_size))**0.5  # xavier_normal\n",
    "b2 = torch.rand(vocab_size,                       generator=g) / vocab_size**0.5  # pytorch uniform init\n",
    "\n",
    "parameters = [C, W1, b1, W2, b2]\n",
    "print(sum(p.nelement() for p in parameters)) # number of parameters in total\n",
    "for p in parameters:\n",
    "  p.requires_grad = True"
   ],
   "id": "e4c3fe39f9e6d7c6",
   "outputs": [
    {
     "name": "stdout",
     "output_type": "stream",
     "text": [
      "11897\n"
     ]
    }
   ],
   "execution_count": 4
  },
  {
   "metadata": {
    "ExecuteTime": {
     "end_time": "2025-03-13T04:41:31.918120Z",
     "start_time": "2025-03-13T04:41:31.846932Z"
    }
   },
   "cell_type": "code",
   "source": [
    "# it turns out that weight initialization isn't as important as it used to be (I know... bummer).\n",
    "#   - for deep neural networks, weight initialization is too fragile and impractical to either ensure good\n",
    "#     starting gradients or numerical stability while training the network.\n",
    "#   - enter batch normalization to the rescue.\n",
    "\n",
    "# batch normalization is a technique in machine learning that makes training neural networks faster and more stable.\n",
    "# it works by standardizing the inputs to each layer so that they are unit gaussian — adjusting them to have a mean\n",
    "# of zero and a variance of one — within a mini-batch of data. then, it scales and shifts the standardized values\n",
    "# using learnable parameters. this reduces issues like vanishing gradients and helps the network learn more efficiently.\n",
    "# think of it as keeping the data \"well-behaved\" and numerically stable as it flows through the layers!\n",
    "\n",
    "# let's revisit the training process from last time.\n",
    "max_steps = 200000\n",
    "batch_size = 32\n",
    "lossi = []\n",
    "\n",
    "def step(epoch=0):\n",
    "  global hpreact\n",
    "  global h\n",
    "\n",
    "  # minibatch construct\n",
    "  ix = torch.randint(0, Xtr.shape[0], (batch_size,), generator=g)\n",
    "  Xb, Yb = Xtr[ix], Ytr[ix] # batch X,Y\n",
    "\n",
    "  # forward pass\n",
    "  emb = C[Xb] # embed the characters into vectors\n",
    "  embcat = emb.view(emb.shape[0], -1) # concatenate the vectors\n",
    "  hpreact = embcat @ W1 + b1 # hidden layer pre-activation\n",
    "  h = torch.tanh(hpreact) # hidden layer\n",
    "  logits = h @ W2 + b2 # output layer\n",
    "  loss = F.cross_entropy(logits, Yb) # loss function\n",
    "\n",
    "  # backward pass\n",
    "  for p in parameters:\n",
    "    p.grad = None\n",
    "  loss.backward()\n",
    "\n",
    "  # update\n",
    "  lr = 0.1 if epoch < 100000 else 0.01 # step learning rate decay\n",
    "  for p in parameters:\n",
    "    p.data += -lr * p.grad\n",
    "\n",
    "step()  # perform 1 step of gradient descent\n",
    "\n",
    "print(hpreact.shape)\n",
    "print(\"Mean:\", hpreact.mean().item())\n",
    "print(\"Standard Deviation:\", hpreact.std().item())"
   ],
   "id": "d008c1bf60cfcb34",
   "outputs": [
    {
     "name": "stdout",
     "output_type": "stream",
     "text": [
      "torch.Size([32, 200])\n",
      "Mean: -0.052187662571668625\n",
      "Standard Deviation: 1.8892154693603516\n"
     ]
    }
   ],
   "execution_count": 5
  },
  {
   "metadata": {
    "ExecuteTime": {
     "end_time": "2025-03-13T04:41:32.170151Z",
     "start_time": "2025-03-13T04:41:32.156669Z"
    }
   },
   "cell_type": "code",
   "source": [
    "# How do we standardize `hpreact` to be unit gaussian?\n",
    "print(hpreact.mean(0, keepdim=True).shape)  # mean\n",
    "print(hpreact.std(0, keepdim=True).shape)  # standard deviation\n",
    "hpreact_unit = (hpreact - hpreact.mean(0, keepdim=True)) / hpreact.std(0, keepdim=True)\n",
    "print(\"Mean:\", hpreact_unit.mean().item())  # mean ~= 0\n",
    "print(\"Standard Deviation:\", hpreact_unit.std().item())  # std ~= 1"
   ],
   "id": "6fdce16e32f18e2f",
   "outputs": [
    {
     "name": "stdout",
     "output_type": "stream",
     "text": [
      "torch.Size([1, 200])\n",
      "torch.Size([1, 200])\n",
      "Mean: 0.0\n",
      "Standard Deviation: 0.9843279123306274\n"
     ]
    }
   ],
   "execution_count": 6
  },
  {
   "metadata": {
    "ExecuteTime": {
     "end_time": "2025-03-13T04:41:32.393762Z",
     "start_time": "2025-03-13T04:41:32.386265Z"
    }
   },
   "cell_type": "code",
   "source": [
    "# let's update the model and training process to use batch normalization.\n",
    "\n",
    "# -----------------------------------------------------------------------------------------------------------\n",
    "# add batch normalization - update model parameters\n",
    "# -----------------------------------------------------------------------------------------------------------\n",
    "n_embd = 10 # the dimensionality of the character embedding vectors\n",
    "n_hidden = 200 # the number of neurons in the hidden layer of the MLP\n",
    "\n",
    "tanh_gain = 5 / 3\n",
    "C  = torch.randn((vocab_size, n_embd),            generator=g)\n",
    "W1 = torch.randn((n_embd * block_size, n_hidden), generator=g) * tanh_gain / (n_embd * block_size)**0.5  # kaiming_normal\n",
    "b1 = torch.rand(n_hidden,                         generator=g) / n_hidden**0.5  # pytorch uniform init\n",
    "W2 = torch.randn((n_hidden, vocab_size),          generator=g) * (2 / (n_hidden + vocab_size))**0.5  # xavier_normal\n",
    "b2 = torch.rand(vocab_size,                       generator=g) / vocab_size**0.5  # pytorch uniform init\n",
    "\n",
    "bngain = torch.ones((1, n_hidden))  # batch norm parameter (scale)\n",
    "bnbias = torch.zeros((1, n_hidden))  # batch norm parameter (shift)\n",
    "\n",
    "parameters = [C, W1, b1, W2, b2, bngain, bnbias]\n",
    "print(sum(p.nelement() for p in parameters)) # number of parameters in total\n",
    "for p in parameters:\n",
    "  p.requires_grad = True\n",
    "\n",
    "# -----------------------------------------------------------------------------------------------------------\n",
    "# add batch normalization - update training process\n",
    "# -----------------------------------------------------------------------------------------------------------\n",
    "def step(epoch=0):\n",
    "\n",
    "  # minibatch construct\n",
    "  ix = torch.randint(0, Xtr.shape[0], (batch_size,), generator=g)\n",
    "  Xb, Yb = Xtr[ix], Ytr[ix] # batch X,Y\n",
    "\n",
    "  # forward pass\n",
    "  emb = C[Xb] # embed the characters into vectors\n",
    "  embcat = emb.view(emb.shape[0], -1) # concatenate the vectors\n",
    "  hpreact = embcat @ W1 + b1 # hidden layer pre-activation\n",
    "  # --- batch normalization start ---\n",
    "  hpreact_mean = hpreact.mean(0, keepdim=True)  # find the mean\n",
    "  hpreact_std = hpreact.std(0, keepdim=True)  # find the standard deviation\n",
    "  hpreact_gaus = (hpreact - hpreact_mean) / hpreact_std  # build unit gaussian\n",
    "  hpreact_bn = bngain * hpreact_gaus + bnbias  # scale and shift the unit gaussian with learnable parameters\n",
    "  # --- batch normalization end ---\n",
    "  h = torch.tanh(hpreact_bn) # hidden layer\n",
    "  logits = h @ W2 + b2 # output layer\n",
    "  loss = F.cross_entropy(logits, Yb) # loss function\n",
    "\n",
    "  # backward pass\n",
    "  for p in parameters:\n",
    "    p.grad = None\n",
    "  loss.backward()\n",
    "\n",
    "  # update\n",
    "  lr = 0.1 if epoch < 100000 else 0.01 # step learning rate decay\n",
    "  for p in parameters:\n",
    "    p.data += -lr * p.grad\n",
    "\n",
    "  # track stats\n",
    "  if epoch % 10000 == 0: # print every once in a while\n",
    "    print(f'{epoch:7d}/{max_steps:7d}: {loss.item():.4f}')\n",
    "  lossi.append(loss.log10().item())"
   ],
   "id": "6f7defd7b9e83572",
   "outputs": [
    {
     "name": "stdout",
     "output_type": "stream",
     "text": [
      "12297\n"
     ]
    }
   ],
   "execution_count": 7
  },
  {
   "metadata": {
    "ExecuteTime": {
     "end_time": "2025-03-13T04:48:37.845109Z",
     "start_time": "2025-03-13T04:41:32.684383Z"
    }
   },
   "cell_type": "code",
   "source": [
    "# Now lets train the model with batch normalization\n",
    "for epoch in range(max_steps):\n",
    "    step(epoch)"
   ],
   "id": "987af7b80d2edfda",
   "outputs": [
    {
     "name": "stdout",
     "output_type": "stream",
     "text": [
      "      0/ 200000: 3.7462\n",
      "  10000/ 200000: 2.2720\n",
      "  20000/ 200000: 2.0809\n",
      "  30000/ 200000: 2.3447\n",
      "  40000/ 200000: 2.3300\n",
      "  50000/ 200000: 2.3601\n",
      "  60000/ 200000: 2.3727\n",
      "  70000/ 200000: 1.9113\n",
      "  80000/ 200000: 2.0702\n",
      "  90000/ 200000: 2.2670\n",
      " 100000/ 200000: 2.0914\n",
      " 110000/ 200000: 2.1400\n",
      " 120000/ 200000: 1.9095\n",
      " 130000/ 200000: 1.9673\n",
      " 140000/ 200000: 2.0318\n",
      " 150000/ 200000: 2.1418\n",
      " 160000/ 200000: 2.0933\n",
      " 170000/ 200000: 1.9627\n",
      " 180000/ 200000: 1.8675\n",
      " 190000/ 200000: 2.2156\n"
     ]
    }
   ],
   "execution_count": 8
  },
  {
   "metadata": {
    "ExecuteTime": {
     "end_time": "2025-03-13T04:48:38.676924Z",
     "start_time": "2025-03-13T04:48:38.563336Z"
    }
   },
   "cell_type": "code",
   "source": [
    "# evaluate train loss and validation loss\n",
    "@torch.no_grad() # this decorator disables gradient tracking\n",
    "def split_loss(split):\n",
    "  x, y = {\n",
    "    'train': (Xtr, Ytr),\n",
    "    'val': (Xdev, Ydev),\n",
    "    'test': (Xte, Yte),\n",
    "  }[split]\n",
    "  emb = C[x] # (N, block_size, n_embd)\n",
    "  embcat = emb.view(emb.shape[0], -1) # concat into (N, block_size * n_embd)\n",
    "  hpreact = embcat @ W1 + b1\n",
    "  # --- batch normalization start ---\n",
    "  hpreact_mean = hpreact.mean(0, keepdim=True)  # find the mean\n",
    "  hpreact_std = hpreact.std(0, keepdim=True)  # find the standard deviation\n",
    "  hpreact_gaus = (hpreact - hpreact_mean) / hpreact_std  # build unit gaussian\n",
    "  hpreact_bn = bngain * hpreact_gaus + bnbias  # scale and shift the unit gaussian with learnable parameters\n",
    "  # --- batch normalization end ---\n",
    "  h = torch.tanh(hpreact_bn) # (N, n_hidden)\n",
    "  logits = h @ W2 + b2 # (N, vocab_size)\n",
    "  loss = F.cross_entropy(logits, y)\n",
    "  print(split, loss.item())\n",
    "\n",
    "split_loss('train')\n",
    "split_loss('val')\n",
    "\n",
    "# cool! our validation loss originally was 2.2065, and now it's 2.1139 - roughly the same as what we got with\n",
    "# weight initialization (2.1053). So it's working, but it's not really doing much \"heavy lifting\" because\n",
    "# weight initialization is already normalizing the output distribution with respect to the input distribution."
   ],
   "id": "537d4085819c78eb",
   "outputs": [
    {
     "name": "stdout",
     "output_type": "stream",
     "text": [
      "train 2.07417631149292\n",
      "val 2.1139535903930664\n"
     ]
    }
   ],
   "execution_count": 9
  },
  {
   "metadata": {
    "ExecuteTime": {
     "end_time": "2025-03-13T04:48:38.682293Z",
     "start_time": "2025-03-13T04:48:38.680535Z"
    }
   },
   "cell_type": "code",
   "source": [
    "# btw... batch normalization creates a mathematical \"coupling\" (i.e. dependency) between all the samples of a\n",
    "# normalized batch, which leads to strange bugs. It's apparently really easy to shoot yourself in the foot\n",
    "# with this layer, as Karpathi confesses (he says to avoid it).\n",
    "\n",
    "# This isn't desired and researchers have come up with alternatives:\n",
    "#   - Group Normalization\n",
    "#   - Layer Normalization\n",
    "#   - Instance Normalization\n",
    "\n",
    "# we won't be exploring these here, but they might be worth looking into."
   ],
   "id": "2fe46e51dd740b87",
   "outputs": [],
   "execution_count": 10
  },
  {
   "metadata": {
    "ExecuteTime": {
     "end_time": "2025-03-13T04:48:39.292243Z",
     "start_time": "2025-03-13T04:48:39.286535Z"
    }
   },
   "cell_type": "code",
   "source": [
    "# another challenge that batch normalization introduces is that we can no longer easily pass single inputs through\n",
    "# our model, since the model now needs the mean and standard deviation of a batch in the forward calculation.\n",
    "#   - to get around this, we can estimate the mean and standard deviation of the entire train dataset and use these\n",
    "#     values in the forward pass with a single sample.\n",
    "#   - we can estimate this mean and standard deviation while training the model.\n",
    "\n",
    "# another problem is that the bias term of the layer we are applying batch normalization to is useless. we can understand\n",
    "# this by looking at the equation of the pre-activation, `h = x @ W + b`, and the equation of batch normalization applied\n",
    "# to `h`, `h_bn = (h - h_mean) / h_std`.\n",
    "#   - whatever bias `b` we choose, it will be counteracted by subtracting `h_mean` from `h` in batch normaalization.\n",
    "#   - so the bias serves no purpose! we can let batch normalization's tunable bias serve the equivalent purpose.\n",
    "\n",
    "# Let's now fix these issues.\n",
    "\n",
    "# -----------------------------------------------------------------------------------------------------------\n",
    "# Use same model as before\n",
    "# -----------------------------------------------------------------------------------------------------------\n",
    "n_embd = 10  # the dimensionality of the character embedding vectors\n",
    "n_hidden = 200  # the number of neurons in the hidden layer of the MLP\n",
    "\n",
    "tanh_gain = 5 / 3\n",
    "C  = torch.randn((vocab_size, n_embd),            generator=g)\n",
    "W1 = torch.randn((n_embd * block_size, n_hidden), generator=g) * tanh_gain / (n_embd * block_size)**0.5  # kaiming_normal\n",
    "#b1 = torch.rand(n_hidden,                         generator=g) / n_hidden**0.5  # pytorch uniform init\n",
    "W2 = torch.randn((n_hidden, vocab_size),          generator=g) * (2 / (n_hidden + vocab_size))**0.5  # xavier_normal\n",
    "b2 = torch.rand(vocab_size,                       generator=g) / vocab_size**0.5  # pytorch uniform init\n",
    "\n",
    "bngain = torch.ones((1, n_hidden))  # batch norm parameter (scale)\n",
    "bnbias = torch.zeros((1, n_hidden))  # batch norm parameter (shift)\n",
    "\n",
    "parameters = [C, W1, W2, b2, bngain, bnbias]\n",
    "print(sum(p.nelement() for p in parameters)) # number of parameters in total\n",
    "for p in parameters:\n",
    "  p.requires_grad = True\n",
    "\n",
    "# -----------------------------------------------------------------------------------------------------------\n",
    "# calculate running mean and std for batch normalization\n",
    "# -----------------------------------------------------------------------------------------------------------\n",
    "bnmean_running = torch.zeros((1, n_hidden))\n",
    "bnstd_running = torch.ones((1, n_hidden))\n",
    "def step(epoch=0):\n",
    "  global bnmean_running\n",
    "  global bnstd_running\n",
    "\n",
    "  # minibatch construct\n",
    "  ix = torch.randint(0, Xtr.shape[0], (batch_size,), generator=g)\n",
    "  Xb, Yb = Xtr[ix], Ytr[ix] # batch X,Y\n",
    "\n",
    "  # forward pass\n",
    "  emb = C[Xb] # embed the characters into vectors\n",
    "  embcat = emb.view(emb.shape[0], -1) # concatenate the vectors\n",
    "  # Linear layer\n",
    "  hpreact = embcat @ W1 #+ b1 # hidden layer pre-activation\n",
    "  # BatchNorm layer\n",
    "  # ------------------------------------------------------------------------------------------------------\n",
    "  hpreact_mean = hpreact.mean(0, keepdim=True)  # find the mean\n",
    "  hpreact_std = hpreact.std(0, keepdim=True)  # find the standard deviation\n",
    "  hpreact_gaus = (hpreact - hpreact_mean) / (hpreact_std + 1e-5)  # build unit gaussian (avoid division by 0)\n",
    "  hpreact_bn = bngain * hpreact_gaus + bnbias  # scale and shift the unit gaussian with learnable parameters\n",
    "  with torch.no_grad(): # estimate batch normalization mean and standard deviation over the entire train set\n",
    "    bnmean_running = 0.999 * bnmean_running + 0.001 * hpreact_mean\n",
    "    bnstd_running = 0.999 * bnstd_running + 0.001 * hpreact_std\n",
    "  # ------------------------------------------------------------------------------------------------------\n",
    "  # Non-linearity\n",
    "  h = torch.tanh(hpreact_bn) # hidden layer\n",
    "  logits = h @ W2 + b2 # output layer\n",
    "  loss = F.cross_entropy(logits, Yb) # loss function\n",
    "\n",
    "  # backward pass\n",
    "  for p in parameters:\n",
    "    p.grad = None\n",
    "  loss.backward()\n",
    "\n",
    "  # update\n",
    "  lr = 0.1 if epoch < 100000 else 0.01 # step learning rate decay\n",
    "  for p in parameters:\n",
    "    p.data += -lr * p.grad\n",
    "\n",
    "  # track stats\n",
    "  if epoch % 10000 == 0: # print every once in a while\n",
    "    print(f'{epoch:7d}/{max_steps:7d}: {loss.item():.4f}')\n",
    "  lossi.append(loss.log10().item())"
   ],
   "id": "6d645313ee9b2844",
   "outputs": [
    {
     "name": "stdout",
     "output_type": "stream",
     "text": [
      "12097\n"
     ]
    }
   ],
   "execution_count": 11
  },
  {
   "metadata": {
    "ExecuteTime": {
     "end_time": "2025-03-13T04:58:15.044827Z",
     "start_time": "2025-03-13T04:50:48.717587Z"
    }
   },
   "cell_type": "code",
   "source": [
    "for epoch in range(max_steps):\n",
    "    step(epoch)"
   ],
   "id": "9160f4bfce401cb",
   "outputs": [
    {
     "name": "stdout",
     "output_type": "stream",
     "text": [
      "      0/ 200000: 2.8258\n",
      "  10000/ 200000: 2.0964\n",
      "  20000/ 200000: 2.2610\n",
      "  30000/ 200000: 2.4791\n",
      "  40000/ 200000: 2.3386\n",
      "  50000/ 200000: 2.1275\n",
      "  60000/ 200000: 2.0692\n",
      "  70000/ 200000: 1.8274\n",
      "  80000/ 200000: 1.7437\n",
      "  90000/ 200000: 2.2305\n",
      " 100000/ 200000: 2.4006\n",
      " 110000/ 200000: 2.2560\n",
      " 120000/ 200000: 2.1189\n",
      " 130000/ 200000: 1.8969\n",
      " 140000/ 200000: 2.3872\n",
      " 150000/ 200000: 2.0362\n",
      " 160000/ 200000: 2.6009\n",
      " 170000/ 200000: 2.3469\n",
      " 180000/ 200000: 1.9456\n",
      " 190000/ 200000: 2.1879\n"
     ]
    }
   ],
   "execution_count": 13
  },
  {
   "metadata": {
    "ExecuteTime": {
     "end_time": "2025-03-13T04:58:15.462155Z",
     "start_time": "2025-03-13T04:58:15.424079Z"
    }
   },
   "cell_type": "code",
   "source": [
    "# evaluate train loss and validation loss\n",
    "@torch.no_grad() # this decorator disables gradient tracking\n",
    "def split_loss(split):\n",
    "  x, y = {\n",
    "    'train': (Xtr, Ytr),\n",
    "    'val': (Xdev, Ydev),\n",
    "    'test': (Xte, Yte),\n",
    "  }[split]\n",
    "  emb = C[x] # (N, block_size, n_embd)\n",
    "  embcat = emb.view(emb.shape[0], -1) # concat into (N, block_size * n_embd)\n",
    "  hpreact = embcat @ W1 #+ b1\n",
    "  # --- batch normalization start ---\n",
    "  hpreact_gaus = (hpreact - bnmean_running) / bnstd_running  # build unit gaussian (use running mean and std instead)\n",
    "  hpreact_bn = bngain * hpreact_gaus + bnbias  # scale and shift the unit gaussian with learnable parameters\n",
    "  # --- batch normalization end ---\n",
    "  h = torch.tanh(hpreact_bn) # (N, n_hidden)\n",
    "  logits = h @ W2 + b2 # (N, vocab_size)\n",
    "  loss = F.cross_entropy(logits, y)\n",
    "  print(split, loss.item())\n",
    "\n",
    "split_loss('train')\n",
    "split_loss('val')\n",
    "\n",
    "# awesome! we get basically the same validation loss, but we're using the mean and std over the whole train set instead\n",
    "# of per batch, allowing us to feed the model single inputs, and we're removed one bias operation."
   ],
   "id": "fc6185d8d9cc6dcd",
   "outputs": [
    {
     "name": "stdout",
     "output_type": "stream",
     "text": [
      "train 2.059697389602661\n",
      "val 2.1048686504364014\n"
     ]
    }
   ],
   "execution_count": 14
  },
  {
   "metadata": {
    "ExecuteTime": {
     "end_time": "2025-03-13T06:10:43.996051Z",
     "start_time": "2025-03-13T06:10:43.848053Z"
    }
   },
   "cell_type": "code",
   "source": [
    "# let's now sample from this model (since we spent all this time implementing a \"fix\" to allow us to do so...)\n",
    "for _ in range(10):\n",
    "    out = []\n",
    "    context = [0] * block_size # initialize with all ...\n",
    "    while True:\n",
    "      # forward pass the neural net\n",
    "      emb = C[torch.tensor([context])] # (N, block_size, n_embd)\n",
    "      embcat = emb.view(emb.shape[0], -1) # concat into (N, block_size * n_embd)\n",
    "      hpreact = embcat @ W1 #+ b1\n",
    "      # --- batch normalization start ---\n",
    "      hpreact_gaus = (hpreact - bnmean_running) / bnstd_running  # build unit gaussian (use running mean and std instead)\n",
    "      hpreact_bn = bngain * hpreact_gaus + bnbias  # scale and shift the unit gaussian with learnable parameters\n",
    "      # --- batch normalization end ---\n",
    "      h = torch.tanh(hpreact_bn) # (N, n_hidden)\n",
    "      logits = h @ W2 + b2 # (N, vocab_size)\n",
    "      probs = F.softmax(logits, dim=1)\n",
    "      # sample from the distribution\n",
    "      ix = torch.multinomial(probs, num_samples=1, generator=g).item()\n",
    "      # shift the context window and track the samples\n",
    "      context = context[1:] + [ix]\n",
    "      out.append(ix)\n",
    "      # if we sample the special '.' token, break\n",
    "      if ix == 0:\n",
    "        break\n",
    "\n",
    "    print(''.join(itos[i] for i in out)) # decode and print the generated word"
   ],
   "id": "ca46f7f0fa80843c",
   "outputs": [
    {
     "name": "stdout",
     "output_type": "stream",
     "text": [
      "blin.\n",
      "amyraine.\n",
      "dhneus.\n",
      "jolee.\n",
      "damarken.\n",
      "aym.\n",
      "alaylameerediel.\n",
      "ari.\n",
      "kael.\n",
      "mitan.\n"
     ]
    }
   ],
   "execution_count": 34
  }
 ],
 "metadata": {
  "kernelspec": {
   "display_name": "Python 3",
   "language": "python",
   "name": "python3"
  },
  "language_info": {
   "codemirror_mode": {
    "name": "ipython",
    "version": 2
   },
   "file_extension": ".py",
   "mimetype": "text/x-python",
   "name": "python",
   "nbconvert_exporter": "python",
   "pygments_lexer": "ipython2",
   "version": "2.7.6"
  }
 },
 "nbformat": 4,
 "nbformat_minor": 5
}
